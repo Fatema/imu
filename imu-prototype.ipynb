{
 "cells": [
  {
   "cell_type": "code",
   "execution_count": 1,
   "metadata": {},
   "outputs": [],
   "source": [
    "import pandas as pd\n",
    "import numpy as np\n",
    "import matplotlib.pyplot as plt \n",
    "import math\n",
    "%matplotlib inline"
   ]
  },
  {
   "cell_type": "markdown",
   "metadata": {},
   "source": [
    "# PROBLEM 1"
   ]
  },
  {
   "cell_type": "markdown",
   "metadata": {},
   "source": [
    "Read IMUdata using pandas dataframe"
   ]
  },
  {
   "cell_type": "code",
   "execution_count": 2,
   "metadata": {},
   "outputs": [],
   "source": [
    "imu_data = pd.read_csv('IMUData.csv')"
   ]
  },
  {
   "cell_type": "code",
   "execution_count": 3,
   "metadata": {},
   "outputs": [
    {
     "data": {
      "text/html": [
       "<div>\n",
       "<style scoped>\n",
       "    .dataframe tbody tr th:only-of-type {\n",
       "        vertical-align: middle;\n",
       "    }\n",
       "\n",
       "    .dataframe tbody tr th {\n",
       "        vertical-align: top;\n",
       "    }\n",
       "\n",
       "    .dataframe thead th {\n",
       "        text-align: right;\n",
       "    }\n",
       "</style>\n",
       "<table border=\"1\" class=\"dataframe\">\n",
       "  <thead>\n",
       "    <tr style=\"text-align: right;\">\n",
       "      <th></th>\n",
       "      <th>time</th>\n",
       "      <th>gyroscope.X</th>\n",
       "      <th>gyroscope.Y</th>\n",
       "      <th>gyroscope.Z</th>\n",
       "      <th>accelerometer.X</th>\n",
       "      <th>accelerometer.Y</th>\n",
       "      <th>accelerometer.Z</th>\n",
       "      <th>magnetometer.X</th>\n",
       "      <th>magnetometer.Y</th>\n",
       "      <th>magnetometer.Z</th>\n",
       "    </tr>\n",
       "  </thead>\n",
       "  <tbody>\n",
       "    <tr>\n",
       "      <th>0</th>\n",
       "      <td>0.000000</td>\n",
       "      <td>-0.9375</td>\n",
       "      <td>-1.250</td>\n",
       "      <td>0.875</td>\n",
       "      <td>0.019043</td>\n",
       "      <td>-0.052246</td>\n",
       "      <td>0.97803</td>\n",
       "      <td>0.20996</td>\n",
       "      <td>0.031250</td>\n",
       "      <td>-0.44873</td>\n",
       "    </tr>\n",
       "    <tr>\n",
       "      <th>1</th>\n",
       "      <td>0.003906</td>\n",
       "      <td>-0.9375</td>\n",
       "      <td>-1.250</td>\n",
       "      <td>0.875</td>\n",
       "      <td>0.019043</td>\n",
       "      <td>-0.052246</td>\n",
       "      <td>0.97803</td>\n",
       "      <td>0.20996</td>\n",
       "      <td>0.031250</td>\n",
       "      <td>-0.44873</td>\n",
       "    </tr>\n",
       "    <tr>\n",
       "      <th>2</th>\n",
       "      <td>0.007812</td>\n",
       "      <td>-0.9375</td>\n",
       "      <td>-1.875</td>\n",
       "      <td>0.250</td>\n",
       "      <td>0.019043</td>\n",
       "      <td>-0.067871</td>\n",
       "      <td>0.99756</td>\n",
       "      <td>0.20996</td>\n",
       "      <td>0.031250</td>\n",
       "      <td>-0.44873</td>\n",
       "    </tr>\n",
       "    <tr>\n",
       "      <th>3</th>\n",
       "      <td>0.011719</td>\n",
       "      <td>-1.3125</td>\n",
       "      <td>-2.000</td>\n",
       "      <td>0.125</td>\n",
       "      <td>0.026855</td>\n",
       "      <td>-0.032715</td>\n",
       "      <td>0.98975</td>\n",
       "      <td>0.21484</td>\n",
       "      <td>0.041016</td>\n",
       "      <td>-0.45361</td>\n",
       "    </tr>\n",
       "    <tr>\n",
       "      <th>4</th>\n",
       "      <td>0.015625</td>\n",
       "      <td>-1.7500</td>\n",
       "      <td>-2.125</td>\n",
       "      <td>0.000</td>\n",
       "      <td>0.003418</td>\n",
       "      <td>-0.032715</td>\n",
       "      <td>0.99365</td>\n",
       "      <td>0.21484</td>\n",
       "      <td>0.041016</td>\n",
       "      <td>-0.45361</td>\n",
       "    </tr>\n",
       "  </tbody>\n",
       "</table>\n",
       "</div>"
      ],
      "text/plain": [
       "       time   gyroscope.X   gyroscope.Y   gyroscope.Z   accelerometer.X  \\\n",
       "0  0.000000       -0.9375        -1.250         0.875          0.019043   \n",
       "1  0.003906       -0.9375        -1.250         0.875          0.019043   \n",
       "2  0.007812       -0.9375        -1.875         0.250          0.019043   \n",
       "3  0.011719       -1.3125        -2.000         0.125          0.026855   \n",
       "4  0.015625       -1.7500        -2.125         0.000          0.003418   \n",
       "\n",
       "    accelerometer.Y   accelerometer.Z   magnetometer.X   magnetometer.Y  \\\n",
       "0         -0.052246           0.97803          0.20996         0.031250   \n",
       "1         -0.052246           0.97803          0.20996         0.031250   \n",
       "2         -0.067871           0.99756          0.20996         0.031250   \n",
       "3         -0.032715           0.98975          0.21484         0.041016   \n",
       "4         -0.032715           0.99365          0.21484         0.041016   \n",
       "\n",
       "    magnetometer.Z   \n",
       "0          -0.44873  \n",
       "1          -0.44873  \n",
       "2          -0.44873  \n",
       "3          -0.45361  \n",
       "4          -0.45361  "
      ]
     },
     "execution_count": 3,
     "metadata": {},
     "output_type": "execute_result"
    }
   ],
   "source": [
    "imu_data.head()"
   ]
  },
  {
   "cell_type": "code",
   "execution_count": 4,
   "metadata": {},
   "outputs": [
    {
     "data": {
      "text/plain": [
       "Index(['time', ' gyroscope.X', ' gyroscope.Y', ' gyroscope.Z',\n",
       "       ' accelerometer.X', ' accelerometer.Y', ' accelerometer.Z',\n",
       "       ' magnetometer.X', ' magnetometer.Y', ' magnetometer.Z '],\n",
       "      dtype='object')"
      ]
     },
     "execution_count": 4,
     "metadata": {},
     "output_type": "execute_result"
    }
   ],
   "source": [
    "imu_data.columns"
   ]
  },
  {
   "cell_type": "markdown",
   "metadata": {},
   "source": [
    "## Gyroscope data"
   ]
  },
  {
   "cell_type": "code",
   "execution_count": 5,
   "metadata": {},
   "outputs": [],
   "source": [
    "gyroscope_data = imu_data[['time', ' gyroscope.X', ' gyroscope.Y', ' gyroscope.Z']].rename(columns = {' gyroscope.X':'x', ' gyroscope.Y':'y', ' gyroscope.Z':'z'})"
   ]
  },
  {
   "cell_type": "code",
   "execution_count": 6,
   "metadata": {
    "scrolled": true
   },
   "outputs": [
    {
     "data": {
      "text/html": [
       "<div>\n",
       "<style scoped>\n",
       "    .dataframe tbody tr th:only-of-type {\n",
       "        vertical-align: middle;\n",
       "    }\n",
       "\n",
       "    .dataframe tbody tr th {\n",
       "        vertical-align: top;\n",
       "    }\n",
       "\n",
       "    .dataframe thead th {\n",
       "        text-align: right;\n",
       "    }\n",
       "</style>\n",
       "<table border=\"1\" class=\"dataframe\">\n",
       "  <thead>\n",
       "    <tr style=\"text-align: right;\">\n",
       "      <th></th>\n",
       "      <th>time</th>\n",
       "      <th>x</th>\n",
       "      <th>y</th>\n",
       "      <th>z</th>\n",
       "    </tr>\n",
       "  </thead>\n",
       "  <tbody>\n",
       "    <tr>\n",
       "      <th>0</th>\n",
       "      <td>0.000000</td>\n",
       "      <td>-0.9375</td>\n",
       "      <td>-1.250</td>\n",
       "      <td>0.875</td>\n",
       "    </tr>\n",
       "    <tr>\n",
       "      <th>1</th>\n",
       "      <td>0.003906</td>\n",
       "      <td>-0.9375</td>\n",
       "      <td>-1.250</td>\n",
       "      <td>0.875</td>\n",
       "    </tr>\n",
       "    <tr>\n",
       "      <th>2</th>\n",
       "      <td>0.007812</td>\n",
       "      <td>-0.9375</td>\n",
       "      <td>-1.875</td>\n",
       "      <td>0.250</td>\n",
       "    </tr>\n",
       "    <tr>\n",
       "      <th>3</th>\n",
       "      <td>0.011719</td>\n",
       "      <td>-1.3125</td>\n",
       "      <td>-2.000</td>\n",
       "      <td>0.125</td>\n",
       "    </tr>\n",
       "    <tr>\n",
       "      <th>4</th>\n",
       "      <td>0.015625</td>\n",
       "      <td>-1.7500</td>\n",
       "      <td>-2.125</td>\n",
       "      <td>0.000</td>\n",
       "    </tr>\n",
       "  </tbody>\n",
       "</table>\n",
       "</div>"
      ],
      "text/plain": [
       "       time       x      y      z\n",
       "0  0.000000 -0.9375 -1.250  0.875\n",
       "1  0.003906 -0.9375 -1.250  0.875\n",
       "2  0.007812 -0.9375 -1.875  0.250\n",
       "3  0.011719 -1.3125 -2.000  0.125\n",
       "4  0.015625 -1.7500 -2.125  0.000"
      ]
     },
     "execution_count": 6,
     "metadata": {},
     "output_type": "execute_result"
    }
   ],
   "source": [
    "gyroscope_data.head()"
   ]
  },
  {
   "cell_type": "markdown",
   "metadata": {},
   "source": [
    "## Accelerometer data"
   ]
  },
  {
   "cell_type": "code",
   "execution_count": 7,
   "metadata": {},
   "outputs": [],
   "source": [
    "accelerometer_data = imu_data[['time', ' accelerometer.X', ' accelerometer.Y', ' accelerometer.Z']].rename(columns = {' accelerometer.X':'x', ' accelerometer.Y':'y', ' accelerometer.Z':'z'})"
   ]
  },
  {
   "cell_type": "code",
   "execution_count": 8,
   "metadata": {},
   "outputs": [
    {
     "data": {
      "text/html": [
       "<div>\n",
       "<style scoped>\n",
       "    .dataframe tbody tr th:only-of-type {\n",
       "        vertical-align: middle;\n",
       "    }\n",
       "\n",
       "    .dataframe tbody tr th {\n",
       "        vertical-align: top;\n",
       "    }\n",
       "\n",
       "    .dataframe thead th {\n",
       "        text-align: right;\n",
       "    }\n",
       "</style>\n",
       "<table border=\"1\" class=\"dataframe\">\n",
       "  <thead>\n",
       "    <tr style=\"text-align: right;\">\n",
       "      <th></th>\n",
       "      <th>time</th>\n",
       "      <th>x</th>\n",
       "      <th>y</th>\n",
       "      <th>z</th>\n",
       "    </tr>\n",
       "  </thead>\n",
       "  <tbody>\n",
       "    <tr>\n",
       "      <th>0</th>\n",
       "      <td>0.000000</td>\n",
       "      <td>0.019043</td>\n",
       "      <td>-0.052246</td>\n",
       "      <td>0.97803</td>\n",
       "    </tr>\n",
       "    <tr>\n",
       "      <th>1</th>\n",
       "      <td>0.003906</td>\n",
       "      <td>0.019043</td>\n",
       "      <td>-0.052246</td>\n",
       "      <td>0.97803</td>\n",
       "    </tr>\n",
       "    <tr>\n",
       "      <th>2</th>\n",
       "      <td>0.007812</td>\n",
       "      <td>0.019043</td>\n",
       "      <td>-0.067871</td>\n",
       "      <td>0.99756</td>\n",
       "    </tr>\n",
       "    <tr>\n",
       "      <th>3</th>\n",
       "      <td>0.011719</td>\n",
       "      <td>0.026855</td>\n",
       "      <td>-0.032715</td>\n",
       "      <td>0.98975</td>\n",
       "    </tr>\n",
       "    <tr>\n",
       "      <th>4</th>\n",
       "      <td>0.015625</td>\n",
       "      <td>0.003418</td>\n",
       "      <td>-0.032715</td>\n",
       "      <td>0.99365</td>\n",
       "    </tr>\n",
       "  </tbody>\n",
       "</table>\n",
       "</div>"
      ],
      "text/plain": [
       "       time         x         y        z\n",
       "0  0.000000  0.019043 -0.052246  0.97803\n",
       "1  0.003906  0.019043 -0.052246  0.97803\n",
       "2  0.007812  0.019043 -0.067871  0.99756\n",
       "3  0.011719  0.026855 -0.032715  0.98975\n",
       "4  0.015625  0.003418 -0.032715  0.99365"
      ]
     },
     "execution_count": 8,
     "metadata": {},
     "output_type": "execute_result"
    }
   ],
   "source": [
    "accelerometer_data.head()"
   ]
  },
  {
   "cell_type": "markdown",
   "metadata": {},
   "source": [
    "## Magnetometer data"
   ]
  },
  {
   "cell_type": "code",
   "execution_count": 9,
   "metadata": {},
   "outputs": [],
   "source": [
    "magnetometer_data = imu_data[['time', ' magnetometer.X', ' magnetometer.Y', ' magnetometer.Z ']].rename(columns = {' magnetometer.X':'x', ' magnetometer.Y':'y', ' magnetometer.Z ':'z'})"
   ]
  },
  {
   "cell_type": "code",
   "execution_count": 10,
   "metadata": {},
   "outputs": [
    {
     "data": {
      "text/html": [
       "<div>\n",
       "<style scoped>\n",
       "    .dataframe tbody tr th:only-of-type {\n",
       "        vertical-align: middle;\n",
       "    }\n",
       "\n",
       "    .dataframe tbody tr th {\n",
       "        vertical-align: top;\n",
       "    }\n",
       "\n",
       "    .dataframe thead th {\n",
       "        text-align: right;\n",
       "    }\n",
       "</style>\n",
       "<table border=\"1\" class=\"dataframe\">\n",
       "  <thead>\n",
       "    <tr style=\"text-align: right;\">\n",
       "      <th></th>\n",
       "      <th>time</th>\n",
       "      <th>x</th>\n",
       "      <th>y</th>\n",
       "      <th>z</th>\n",
       "    </tr>\n",
       "  </thead>\n",
       "  <tbody>\n",
       "    <tr>\n",
       "      <th>0</th>\n",
       "      <td>0.000000</td>\n",
       "      <td>0.20996</td>\n",
       "      <td>0.031250</td>\n",
       "      <td>-0.44873</td>\n",
       "    </tr>\n",
       "    <tr>\n",
       "      <th>1</th>\n",
       "      <td>0.003906</td>\n",
       "      <td>0.20996</td>\n",
       "      <td>0.031250</td>\n",
       "      <td>-0.44873</td>\n",
       "    </tr>\n",
       "    <tr>\n",
       "      <th>2</th>\n",
       "      <td>0.007812</td>\n",
       "      <td>0.20996</td>\n",
       "      <td>0.031250</td>\n",
       "      <td>-0.44873</td>\n",
       "    </tr>\n",
       "    <tr>\n",
       "      <th>3</th>\n",
       "      <td>0.011719</td>\n",
       "      <td>0.21484</td>\n",
       "      <td>0.041016</td>\n",
       "      <td>-0.45361</td>\n",
       "    </tr>\n",
       "    <tr>\n",
       "      <th>4</th>\n",
       "      <td>0.015625</td>\n",
       "      <td>0.21484</td>\n",
       "      <td>0.041016</td>\n",
       "      <td>-0.45361</td>\n",
       "    </tr>\n",
       "  </tbody>\n",
       "</table>\n",
       "</div>"
      ],
      "text/plain": [
       "       time        x         y        z\n",
       "0  0.000000  0.20996  0.031250 -0.44873\n",
       "1  0.003906  0.20996  0.031250 -0.44873\n",
       "2  0.007812  0.20996  0.031250 -0.44873\n",
       "3  0.011719  0.21484  0.041016 -0.45361\n",
       "4  0.015625  0.21484  0.041016 -0.45361"
      ]
     },
     "execution_count": 10,
     "metadata": {},
     "output_type": "execute_result"
    }
   ],
   "source": [
    "magnetometer_data.head()"
   ]
  },
  {
   "cell_type": "markdown",
   "metadata": {},
   "source": [
    "## Convert rotational rate from degrees/sec to radians/sec"
   ]
  },
  {
   "cell_type": "code",
   "execution_count": 11,
   "metadata": {},
   "outputs": [],
   "source": [
    "def deg2radians(data):\n",
    "    data = data.copy()\n",
    "    data[['x', 'y', 'z']] = np.radians(data[['x', 'y', 'z']])\n",
    "    return data"
   ]
  },
  {
   "cell_type": "code",
   "execution_count": 12,
   "metadata": {},
   "outputs": [
    {
     "data": {
      "text/html": [
       "<div>\n",
       "<style scoped>\n",
       "    .dataframe tbody tr th:only-of-type {\n",
       "        vertical-align: middle;\n",
       "    }\n",
       "\n",
       "    .dataframe tbody tr th {\n",
       "        vertical-align: top;\n",
       "    }\n",
       "\n",
       "    .dataframe thead th {\n",
       "        text-align: right;\n",
       "    }\n",
       "</style>\n",
       "<table border=\"1\" class=\"dataframe\">\n",
       "  <thead>\n",
       "    <tr style=\"text-align: right;\">\n",
       "      <th></th>\n",
       "      <th>time</th>\n",
       "      <th>x</th>\n",
       "      <th>y</th>\n",
       "      <th>z</th>\n",
       "    </tr>\n",
       "  </thead>\n",
       "  <tbody>\n",
       "    <tr>\n",
       "      <th>0</th>\n",
       "      <td>0.000000</td>\n",
       "      <td>-0.016362</td>\n",
       "      <td>-0.021817</td>\n",
       "      <td>0.015272</td>\n",
       "    </tr>\n",
       "    <tr>\n",
       "      <th>1</th>\n",
       "      <td>0.003906</td>\n",
       "      <td>-0.016362</td>\n",
       "      <td>-0.021817</td>\n",
       "      <td>0.015272</td>\n",
       "    </tr>\n",
       "    <tr>\n",
       "      <th>2</th>\n",
       "      <td>0.007812</td>\n",
       "      <td>-0.016362</td>\n",
       "      <td>-0.032725</td>\n",
       "      <td>0.004363</td>\n",
       "    </tr>\n",
       "    <tr>\n",
       "      <th>3</th>\n",
       "      <td>0.011719</td>\n",
       "      <td>-0.022907</td>\n",
       "      <td>-0.034907</td>\n",
       "      <td>0.002182</td>\n",
       "    </tr>\n",
       "    <tr>\n",
       "      <th>4</th>\n",
       "      <td>0.015625</td>\n",
       "      <td>-0.030543</td>\n",
       "      <td>-0.037088</td>\n",
       "      <td>0.000000</td>\n",
       "    </tr>\n",
       "  </tbody>\n",
       "</table>\n",
       "</div>"
      ],
      "text/plain": [
       "       time         x         y         z\n",
       "0  0.000000 -0.016362 -0.021817  0.015272\n",
       "1  0.003906 -0.016362 -0.021817  0.015272\n",
       "2  0.007812 -0.016362 -0.032725  0.004363\n",
       "3  0.011719 -0.022907 -0.034907  0.002182\n",
       "4  0.015625 -0.030543 -0.037088  0.000000"
      ]
     },
     "execution_count": 12,
     "metadata": {},
     "output_type": "execute_result"
    }
   ],
   "source": [
    "deg2radians(gyroscope_data).head()"
   ]
  },
  {
   "cell_type": "code",
   "execution_count": 13,
   "metadata": {},
   "outputs": [
    {
     "data": {
      "text/html": [
       "<div>\n",
       "<style scoped>\n",
       "    .dataframe tbody tr th:only-of-type {\n",
       "        vertical-align: middle;\n",
       "    }\n",
       "\n",
       "    .dataframe tbody tr th {\n",
       "        vertical-align: top;\n",
       "    }\n",
       "\n",
       "    .dataframe thead th {\n",
       "        text-align: right;\n",
       "    }\n",
       "</style>\n",
       "<table border=\"1\" class=\"dataframe\">\n",
       "  <thead>\n",
       "    <tr style=\"text-align: right;\">\n",
       "      <th></th>\n",
       "      <th>time</th>\n",
       "      <th>x</th>\n",
       "      <th>y</th>\n",
       "      <th>z</th>\n",
       "    </tr>\n",
       "  </thead>\n",
       "  <tbody>\n",
       "    <tr>\n",
       "      <th>0</th>\n",
       "      <td>0.000000</td>\n",
       "      <td>0.000332</td>\n",
       "      <td>-0.000912</td>\n",
       "      <td>0.017070</td>\n",
       "    </tr>\n",
       "    <tr>\n",
       "      <th>1</th>\n",
       "      <td>0.003906</td>\n",
       "      <td>0.000332</td>\n",
       "      <td>-0.000912</td>\n",
       "      <td>0.017070</td>\n",
       "    </tr>\n",
       "    <tr>\n",
       "      <th>2</th>\n",
       "      <td>0.007812</td>\n",
       "      <td>0.000332</td>\n",
       "      <td>-0.001185</td>\n",
       "      <td>0.017411</td>\n",
       "    </tr>\n",
       "    <tr>\n",
       "      <th>3</th>\n",
       "      <td>0.011719</td>\n",
       "      <td>0.000469</td>\n",
       "      <td>-0.000571</td>\n",
       "      <td>0.017274</td>\n",
       "    </tr>\n",
       "    <tr>\n",
       "      <th>4</th>\n",
       "      <td>0.015625</td>\n",
       "      <td>0.000060</td>\n",
       "      <td>-0.000571</td>\n",
       "      <td>0.017342</td>\n",
       "    </tr>\n",
       "  </tbody>\n",
       "</table>\n",
       "</div>"
      ],
      "text/plain": [
       "       time         x         y         z\n",
       "0  0.000000  0.000332 -0.000912  0.017070\n",
       "1  0.003906  0.000332 -0.000912  0.017070\n",
       "2  0.007812  0.000332 -0.001185  0.017411\n",
       "3  0.011719  0.000469 -0.000571  0.017274\n",
       "4  0.015625  0.000060 -0.000571  0.017342"
      ]
     },
     "execution_count": 13,
     "metadata": {},
     "output_type": "execute_result"
    }
   ],
   "source": [
    "deg2radians(accelerometer_data).head()"
   ]
  },
  {
   "cell_type": "code",
   "execution_count": 14,
   "metadata": {},
   "outputs": [
    {
     "data": {
      "text/html": [
       "<div>\n",
       "<style scoped>\n",
       "    .dataframe tbody tr th:only-of-type {\n",
       "        vertical-align: middle;\n",
       "    }\n",
       "\n",
       "    .dataframe tbody tr th {\n",
       "        vertical-align: top;\n",
       "    }\n",
       "\n",
       "    .dataframe thead th {\n",
       "        text-align: right;\n",
       "    }\n",
       "</style>\n",
       "<table border=\"1\" class=\"dataframe\">\n",
       "  <thead>\n",
       "    <tr style=\"text-align: right;\">\n",
       "      <th></th>\n",
       "      <th>time</th>\n",
       "      <th>x</th>\n",
       "      <th>y</th>\n",
       "      <th>z</th>\n",
       "    </tr>\n",
       "  </thead>\n",
       "  <tbody>\n",
       "    <tr>\n",
       "      <th>0</th>\n",
       "      <td>0.000000</td>\n",
       "      <td>0.003664</td>\n",
       "      <td>0.000545</td>\n",
       "      <td>-0.007832</td>\n",
       "    </tr>\n",
       "    <tr>\n",
       "      <th>1</th>\n",
       "      <td>0.003906</td>\n",
       "      <td>0.003664</td>\n",
       "      <td>0.000545</td>\n",
       "      <td>-0.007832</td>\n",
       "    </tr>\n",
       "    <tr>\n",
       "      <th>2</th>\n",
       "      <td>0.007812</td>\n",
       "      <td>0.003664</td>\n",
       "      <td>0.000545</td>\n",
       "      <td>-0.007832</td>\n",
       "    </tr>\n",
       "    <tr>\n",
       "      <th>3</th>\n",
       "      <td>0.011719</td>\n",
       "      <td>0.003750</td>\n",
       "      <td>0.000716</td>\n",
       "      <td>-0.007917</td>\n",
       "    </tr>\n",
       "    <tr>\n",
       "      <th>4</th>\n",
       "      <td>0.015625</td>\n",
       "      <td>0.003750</td>\n",
       "      <td>0.000716</td>\n",
       "      <td>-0.007917</td>\n",
       "    </tr>\n",
       "  </tbody>\n",
       "</table>\n",
       "</div>"
      ],
      "text/plain": [
       "       time         x         y         z\n",
       "0  0.000000  0.003664  0.000545 -0.007832\n",
       "1  0.003906  0.003664  0.000545 -0.007832\n",
       "2  0.007812  0.003664  0.000545 -0.007832\n",
       "3  0.011719  0.003750  0.000716 -0.007917\n",
       "4  0.015625  0.003750  0.000716 -0.007917"
      ]
     },
     "execution_count": 14,
     "metadata": {},
     "output_type": "execute_result"
    }
   ],
   "source": [
    "deg2radians(magnetometer_data).head()"
   ]
  },
  {
   "cell_type": "markdown",
   "metadata": {},
   "source": [
    "## Normalize magnitude of both the accelerometer and magnetometer, $v = \\frac{(w_x, w_y, w_z)} {||w||}$"
   ]
  },
  {
   "cell_type": "code",
   "execution_count": 15,
   "metadata": {},
   "outputs": [],
   "source": [
    "def data_normalized(data):\n",
    "    data = data.copy()\n",
    "    magnitude = np.sqrt(np.square(data[['x', 'y', 'z']]).sum(axis=1))\n",
    "    data[['x', 'y', 'z']] = data[['x', 'y', 'z']].div(magnitude, axis=0)\n",
    "    return data"
   ]
  },
  {
   "cell_type": "code",
   "execution_count": 16,
   "metadata": {},
   "outputs": [
    {
     "data": {
      "text/html": [
       "<div>\n",
       "<style scoped>\n",
       "    .dataframe tbody tr th:only-of-type {\n",
       "        vertical-align: middle;\n",
       "    }\n",
       "\n",
       "    .dataframe tbody tr th {\n",
       "        vertical-align: top;\n",
       "    }\n",
       "\n",
       "    .dataframe thead th {\n",
       "        text-align: right;\n",
       "    }\n",
       "</style>\n",
       "<table border=\"1\" class=\"dataframe\">\n",
       "  <thead>\n",
       "    <tr style=\"text-align: right;\">\n",
       "      <th></th>\n",
       "      <th>time</th>\n",
       "      <th>x</th>\n",
       "      <th>y</th>\n",
       "      <th>z</th>\n",
       "    </tr>\n",
       "  </thead>\n",
       "  <tbody>\n",
       "    <tr>\n",
       "      <th>0</th>\n",
       "      <td>0.000000</td>\n",
       "      <td>0.019439</td>\n",
       "      <td>-0.053333</td>\n",
       "      <td>0.998388</td>\n",
       "    </tr>\n",
       "    <tr>\n",
       "      <th>1</th>\n",
       "      <td>0.003906</td>\n",
       "      <td>0.019439</td>\n",
       "      <td>-0.053333</td>\n",
       "      <td>0.998388</td>\n",
       "    </tr>\n",
       "    <tr>\n",
       "      <th>2</th>\n",
       "      <td>0.007812</td>\n",
       "      <td>0.019042</td>\n",
       "      <td>-0.067868</td>\n",
       "      <td>0.997513</td>\n",
       "    </tr>\n",
       "    <tr>\n",
       "      <th>3</th>\n",
       "      <td>0.011719</td>\n",
       "      <td>0.027108</td>\n",
       "      <td>-0.033024</td>\n",
       "      <td>0.999087</td>\n",
       "    </tr>\n",
       "    <tr>\n",
       "      <th>4</th>\n",
       "      <td>0.015625</td>\n",
       "      <td>0.003438</td>\n",
       "      <td>-0.032906</td>\n",
       "      <td>0.999453</td>\n",
       "    </tr>\n",
       "  </tbody>\n",
       "</table>\n",
       "</div>"
      ],
      "text/plain": [
       "       time         x         y         z\n",
       "0  0.000000  0.019439 -0.053333  0.998388\n",
       "1  0.003906  0.019439 -0.053333  0.998388\n",
       "2  0.007812  0.019042 -0.067868  0.997513\n",
       "3  0.011719  0.027108 -0.033024  0.999087\n",
       "4  0.015625  0.003438 -0.032906  0.999453"
      ]
     },
     "execution_count": 16,
     "metadata": {},
     "output_type": "execute_result"
    }
   ],
   "source": [
    "data_normalized(accelerometer_data).head()"
   ]
  },
  {
   "cell_type": "code",
   "execution_count": 17,
   "metadata": {},
   "outputs": [
    {
     "data": {
      "text/html": [
       "<div>\n",
       "<style scoped>\n",
       "    .dataframe tbody tr th:only-of-type {\n",
       "        vertical-align: middle;\n",
       "    }\n",
       "\n",
       "    .dataframe tbody tr th {\n",
       "        vertical-align: top;\n",
       "    }\n",
       "\n",
       "    .dataframe thead th {\n",
       "        text-align: right;\n",
       "    }\n",
       "</style>\n",
       "<table border=\"1\" class=\"dataframe\">\n",
       "  <thead>\n",
       "    <tr style=\"text-align: right;\">\n",
       "      <th></th>\n",
       "      <th>time</th>\n",
       "      <th>x</th>\n",
       "      <th>y</th>\n",
       "      <th>z</th>\n",
       "    </tr>\n",
       "  </thead>\n",
       "  <tbody>\n",
       "    <tr>\n",
       "      <th>0</th>\n",
       "      <td>0.000000</td>\n",
       "      <td>0.422961</td>\n",
       "      <td>0.062953</td>\n",
       "      <td>-0.903959</td>\n",
       "    </tr>\n",
       "    <tr>\n",
       "      <th>1</th>\n",
       "      <td>0.003906</td>\n",
       "      <td>0.422961</td>\n",
       "      <td>0.062953</td>\n",
       "      <td>-0.903959</td>\n",
       "    </tr>\n",
       "    <tr>\n",
       "      <th>2</th>\n",
       "      <td>0.007812</td>\n",
       "      <td>0.422961</td>\n",
       "      <td>0.062953</td>\n",
       "      <td>-0.903959</td>\n",
       "    </tr>\n",
       "    <tr>\n",
       "      <th>3</th>\n",
       "      <td>0.011719</td>\n",
       "      <td>0.426619</td>\n",
       "      <td>0.081448</td>\n",
       "      <td>-0.900757</td>\n",
       "    </tr>\n",
       "    <tr>\n",
       "      <th>4</th>\n",
       "      <td>0.015625</td>\n",
       "      <td>0.426619</td>\n",
       "      <td>0.081448</td>\n",
       "      <td>-0.900757</td>\n",
       "    </tr>\n",
       "  </tbody>\n",
       "</table>\n",
       "</div>"
      ],
      "text/plain": [
       "       time         x         y         z\n",
       "0  0.000000  0.422961  0.062953 -0.903959\n",
       "1  0.003906  0.422961  0.062953 -0.903959\n",
       "2  0.007812  0.422961  0.062953 -0.903959\n",
       "3  0.011719  0.426619  0.081448 -0.900757\n",
       "4  0.015625  0.426619  0.081448 -0.900757"
      ]
     },
     "execution_count": 17,
     "metadata": {},
     "output_type": "execute_result"
    }
   ],
   "source": [
    "data_normalized(magnetometer_data).head()"
   ]
  },
  {
   "cell_type": "markdown",
   "metadata": {},
   "source": [
    "source [wikipedia](https://en.wikipedia.org/wiki/Conversion_between_quaternions_and_Euler_angles)  \n",
    "The Euler angles: yaw, pitch, roll"
   ]
  },
  {
   "cell_type": "code",
   "execution_count": 18,
   "metadata": {},
   "outputs": [],
   "source": [
    "def euler2quaternions(yaw, pitch, roll):\n",
    "    # Abbreviations for the various angular functions\n",
    "    cy = math.cos(yaw * 0.5)\n",
    "    sy = math.sin(yaw * 0.5)\n",
    "    cp = math.cos(pitch * 0.5)\n",
    "    sp = math.sin(pitch * 0.5)\n",
    "    cr = math.cos(roll * 0.5)\n",
    "    sr = math.sin(roll * 0.5)\n",
    "\n",
    "    q_w = cy * cp * cr + sy * sp * sr\n",
    "    q_x = cy * cp * sr - sy * sp * cr\n",
    "    q_y = sy * cp * sr + cy * sp * cr\n",
    "    q_z = sy * cp * cr - cy * sp * sr\n",
    "    return np.array([[q_w, q_x, q_y, q_z]])"
   ]
  },
  {
   "cell_type": "markdown",
   "metadata": {},
   "source": [
    "Euler angles ψ, θ and φ in the so called aerospace sequence describe an orientation of frame B achieved by the sequential rotations, from alignment with frame A, of ψ around\n",
    "5\n",
    "zˆB, θ around yˆB, and φ around xˆB. This Euler angle representation of ABqˆ is defined by equations (7), (8) and (9).  \n",
    "ψ = Atan2(2q2q3 − 2q1q4, 2q12 + 2q2 − 1􏰃)  \n",
    "θ = −sin−1 (2q2q4 + 2q1q3)  \n",
    "φ = Atan2(2q3q4 − 2q1q2, 2q12 + 2q42 − 1􏰃)"
   ]
  },
  {
   "cell_type": "code",
   "execution_count": 75,
   "metadata": {},
   "outputs": [],
   "source": [
    "def quaternions2euler(quaternion):\n",
    "    q_w = quaternion[0]\n",
    "    q_x = quaternion[1]\n",
    "    q_y = quaternion[2]\n",
    "    q_z = quaternion[3]\n",
    "\n",
    "    # yaw (z-axis rotation for this dataset)\n",
    "    yaw = math.atan2(2 * q_x * q_y - 2 * q_w * q_z, 2 * q_w * q_w + 2 * q_x * q_x - 1)\n",
    "\n",
    "    # roll (x-axis rotation)\n",
    "    roll = math.atan2(2 * q_y * q_z - 2 * q_w * q_x, 2 * q_w * q_w + 2 * q_z * q_z - 1)\n",
    "\n",
    "    # pitch (y-axis rotation)\n",
    "    sinp = 2 * q_x * q_z + 2 * q_w * q_y\n",
    "    if math.fabs(sinp) >= 1:\n",
    "        pitch = -math.copysign(math.PI/2,sinp)\n",
    "    else:\n",
    "        pitch = -math.asin(sinp)\n",
    "    \n",
    "    \n",
    "    return np.array([roll, pitch, yaw])"
   ]
  },
  {
   "cell_type": "markdown",
   "metadata": {},
   "source": [
    "The quaternion conjugate has the form of\n",
    "q' = q0 − iq1 − jq2 − kq3"
   ]
  },
  {
   "cell_type": "code",
   "execution_count": 20,
   "metadata": {},
   "outputs": [],
   "source": [
    "def quaternions_conjugate(quaternion):\n",
    "    return quaternion * np.array([[1, -1, -1, -1]])"
   ]
  },
  {
   "cell_type": "code",
   "execution_count": 21,
   "metadata": {},
   "outputs": [],
   "source": [
    "def quaternions_product(a, b):\n",
    "    w0, x0, y0, z0 = a[0]\n",
    "    w1, x1, y1, z1 = b[0]\n",
    "    return np.array([[w0 * w1 - x0 * x1 - y0 * y1 - z0 * z1,\n",
    "                     w0 * x1 + x0 * w1 + y0 * z1 - z0 * y1,\n",
    "                     w0 * y1 - x0 * z1 + y0 * w1 + z0 * x1,\n",
    "                     w0 * z1 + x0 * y1 - y0 * x1 + z0 * w1]], dtype=np.float64)"
   ]
  },
  {
   "cell_type": "code",
   "execution_count": 22,
   "metadata": {},
   "outputs": [],
   "source": [
    "a = np.array([[1,0,0,0]])\n",
    "b = np.array([[1,2,3,4]])"
   ]
  },
  {
   "cell_type": "code",
   "execution_count": 23,
   "metadata": {},
   "outputs": [
    {
     "data": {
      "text/plain": [
       "array([[1., 2., 3., 4.]])"
      ]
     },
     "execution_count": 23,
     "metadata": {},
     "output_type": "execute_result"
    }
   ],
   "source": [
    "quaternions_product(a,b)"
   ]
  },
  {
   "cell_type": "markdown",
   "metadata": {},
   "source": [
    "# PROBLEM 2"
   ]
  },
  {
   "cell_type": "markdown",
   "metadata": {},
   "source": [
    "$ q(v, \\theta) = (cos(\\theta/2), v_x sin(\\theta/2), v_y sin(\\theta/2), v_z sin(\\theta/2)) $"
   ]
  },
  {
   "cell_type": "code",
   "execution_count": 24,
   "metadata": {},
   "outputs": [],
   "source": [
    "def axisAngle2quaternion(axis, angle):\n",
    "    v_x, v_y, v_z = axis[0]\n",
    "    half_angle = angle / 2\n",
    "    # this is the conjugate format\n",
    "    return np.array([[math.cos(half_angle), v_x * math.sin(half_angle), v_y * math.sin(half_angle), v_z * math.sin(half_angle)]])"
   ]
  },
  {
   "cell_type": "markdown",
   "metadata": {},
   "source": [
    "### dead reckoning filter \n",
    "$q_{k-1}$ represent the estimated orientation at stage k - 1, $q_0$ equals the intial, identity quaternion.  \n",
    "$q(v, \\theta)$ represent the axis-angle representation of gyroscope reading at stage k, $w_k$, where $v = \\frac{w_k}{||w_k||}$ and $\\theta = ||w_k||\\Delta t$  \n",
    "The estimated orientation for the stage k:\n",
    "$$q_{k} = q_{k-1} \\otimes q(v, \\theta)$$"
   ]
  },
  {
   "cell_type": "code",
   "execution_count": 76,
   "metadata": {},
   "outputs": [],
   "source": [
    "def imu_gyro(n, gyroscope_data, \n",
    "                      dt=0.003906):\n",
    "    '''\n",
    "        Parameters\n",
    "        ----------\n",
    "        n: scalar\n",
    "          number of data for all readings, ex. imu_data.shape[0]\n",
    "        gyroscope_data: pandas dataframe that must contain x, y, z columns and has n rows\n",
    "          observations obtained from a gyroscope\n",
    "        dt: scalar\n",
    "          observations reported rate in seconds, ex. dt = 265Hz = 0.003906s\n",
    "\n",
    "        Return\n",
    "        ----------\n",
    "        q: a matrix with n rows and 4 columns\n",
    "          orientations estimated for all n readings after applying tilt and yaw drift corrections\n",
    "    '''\n",
    "\n",
    "    q = [np.array([[1.0,0,0,0]])]\n",
    "    for i in range(n):\n",
    "        ### gyroscope estimations\n",
    "        gyro_row = gyroscope_data.loc[i]\n",
    "        w_k = np.array([[gyro_row['x'], gyro_row['y'], gyro_row['z']]]) * -1 # because of the different axis following imu paper\n",
    "        l = np.sqrt(np.sum(np.square(w_k)))\n",
    "        v = np.divide(w_k, l)\n",
    "        theta = l * dt \n",
    "        q_gyro = axisAngle2quaternion(v, theta)\n",
    "        q_k = quaternions_product(q_gyro, q[i]) # the book have the product swapped between those two\n",
    "\n",
    "        q += [q_k]\n",
    "    \n",
    "    # return result excluding the identity quaternion used for initial estimations\n",
    "    return np.array(q[1:])"
   ]
  },
  {
   "cell_type": "code",
   "execution_count": 25,
   "metadata": {},
   "outputs": [],
   "source": [
    "def imu_gyro_v2(n, gyroscope_data, \n",
    "                      dt=0.003906):\n",
    "    '''\n",
    "        Parameters\n",
    "        ----------\n",
    "        n: scalar\n",
    "          number of data for all readings, ex. imu_data.shape[0]\n",
    "        gyroscope_data: pandas dataframe that must contain x, y, z columns and has n rows\n",
    "          observations obtained from a gyroscope\n",
    "        dt: scalar\n",
    "          observations reported rate in seconds, ex. dt = 265Hz = 0.003906s\n",
    "\n",
    "        Return\n",
    "        ----------\n",
    "        q: a matrix with n rows and 4 columns\n",
    "          orientations estimated for all n readings after applying tilt and yaw drift corrections\n",
    "    '''\n",
    "\n",
    "    q = [np.array([[1.0,0,0,0]])]\n",
    "    for i in range(n):\n",
    "        ### gyroscope estimations\n",
    "        gyro_row = gyroscope_data.loc[i]\n",
    "        q_gyro = np.array([[0, -gyro_row['x'], -gyro_row['y'], -gyro_row['z']]])\n",
    "        q_dot = 0.5 * quaternions_product(q_gyro, q[i])\n",
    "        q_k = np.add(q[i], q_dot * dt)\n",
    "        q_k = np.divide(q_k, np.sqrt(np.sum(np.square(q_k)))) #normalize\n",
    "        q += [q_k]\n",
    "    \n",
    "    # return result excluding the identity quaternion used for initial estimations\n",
    "    return np.array(q[1:])"
   ]
  },
  {
   "cell_type": "code",
   "execution_count": 27,
   "metadata": {},
   "outputs": [
    {
     "data": {
      "text/plain": [
       "array([[[ 9.99999998e-01,  3.19558878e-05,  4.26078503e-05,\n",
       "         -2.98254952e-05]],\n",
       "\n",
       "       [[ 9.99999993e-01,  6.39117754e-05,  8.52157005e-05,\n",
       "         -5.96509904e-05]],\n",
       "\n",
       "       [[ 9.99999982e-01,  9.58645765e-05,  1.49128837e-04,\n",
       "         -6.81739218e-05]],\n",
       "\n",
       "       ...,\n",
       "\n",
       "       [[ 9.93898441e-01,  2.14084281e-02, -1.61327660e-02,\n",
       "         -1.06992069e-01]],\n",
       "\n",
       "       [[ 9.93877907e-01,  2.14031832e-02, -1.56499547e-02,\n",
       "         -1.07255246e-01]],\n",
       "\n",
       "       [[ 9.93855254e-01,  2.14061131e-02, -1.52050223e-02,\n",
       "         -1.07528225e-01]]])"
      ]
     },
     "execution_count": 27,
     "metadata": {},
     "output_type": "execute_result"
    }
   ],
   "source": [
    "gyroscope_radians = deg2radians(gyroscope_data)\n",
    "n = imu_data.shape[0]\n",
    "\n",
    "imu_gyro(n, gyroscope_radians)"
   ]
  },
  {
   "cell_type": "markdown",
   "metadata": {},
   "source": [
    "# PROBLEM 3"
   ]
  },
  {
   "cell_type": "markdown",
   "metadata": {},
   "source": [
    "## Gravity based tilt correction using the accelerometer"
   ]
  },
  {
   "cell_type": "markdown",
   "metadata": {},
   "source": [
    "Transform acceleration measurements into the global frame\n",
    "$$\\hat{u} = q^{-1}_{k} \\otimes \\tilde{a} \\otimes q_{k}$$\n",
    "$\\hat{u}$ is a direct estimate of the gravity vector, $q^{-1}_k$ will be quaternion conjugate as q is assumed to be a  unit quaternion  \n",
    "To calculate the axis, project $\\hat{u}$ into the XZ plane to obtain $(\\hat{u}_x,0,\\hat{u}_z)$. The tilt axis is orthogonal: $t = (\\hat{u}_z,0,−\\hat{u}_x)$  \n",
    "The tilt error φ is the angle between $\\hat{u}$ and the vector (0, 1, 0).  \n",
    "The output of the complementary filter with gain $\\alpha\\ll1$ is\n",
    "$$q_{k}' = q(t, -\\alpha\\phi) \\otimes q_{k}$$\n",
    "in which t is the tilt axis. The parameter $\\alpha$ should be large enough to correct all drift, but small enough so that the corrections are imperceptible to the user."
   ]
  },
  {
   "cell_type": "code",
   "execution_count": 138,
   "metadata": {},
   "outputs": [],
   "source": [
    "def imu_gyro_acc(n, gyroscope_data, accelerometer_data,\n",
    "                      dt=0.003906, alpha=0.01):\n",
    "    '''\n",
    "        Parameters\n",
    "        ----------\n",
    "        n: scalar\n",
    "          number of data for all readings, ex. imu_data.shape[0]\n",
    "        gyroscope_data: pandas dataframe that must contain x, y, z columns and has n rows\n",
    "          observations obtained from a gyroscope\n",
    "        accelerometer_data: pandas dataframe that must contain x, y, z columns and has n rows\n",
    "          observations obtained from a accelerometer, observations must be normalized\n",
    "        dt: scalar\n",
    "          observations reported rate in seconds, ex. dt = 265Hz = 0.003906s\n",
    "        alpha: scalar\n",
    "          parameter used for tilt correction\n",
    "\n",
    "        Return\n",
    "        ----------\n",
    "        q: a matrix with n rows and 4 columns\n",
    "          orientations estimated for all n readings after applying tilt and yaw drift corrections\n",
    "    '''\n",
    "\n",
    "    q = [np.array([[1.0,0,0,0]])]\n",
    "    for i in range(n):\n",
    "        ### gyroscope estimations\n",
    "        gyro_row = gyroscope_data.loc[i]\n",
    "        w_k = np.array([[gyro_row['x'], gyro_row['y'], gyro_row['z']]]) * -1\n",
    "        l = np.sqrt(np.sum(np.square(w_k)))\n",
    "        v = np.divide(w_k, l)\n",
    "        theta = l * dt \n",
    "        q_gyro = axisAngle2quaternion(v, theta)\n",
    "        q_k = quaternions_product(q_gyro, q[i])\n",
    "\n",
    "        ### accelerometer estimations - tilt error correction (define up)\n",
    "        q_conj = quaternions_conjugate(q[i])\n",
    "        acc_row = accelerometer_data.loc[i]\n",
    "        a = np.array([[0, -acc_row['x'], -acc_row['y'], acc_row['z']]])\n",
    "        u = quaternions_product(q[i], quaternions_product(a, q_conj)) # global frame q_k is actually the conjugate\n",
    "        t = np.array([[u[0][2], -u[0][1], 0]]) # tilt axis is YX\n",
    "        phi = math.acos(np.dot(np.array([0, 0, 1]), u[0][1:])) # tilt error angle\n",
    "#         print(u, t, np.rad2deg(phi))\n",
    "        q_t = axisAngle2quaternion(t * -1, -alpha*phi) # q(t, -alpha*phi) for tilt drift\n",
    "        q_k = quaternions_product(q_k, q_t) # apply complementary filter for tilt drift correction  \n",
    "        q_k = np.divide(q_k, np.sqrt(np.sum(np.square(q_k)))) #normalize\n",
    "        q += [q_k]\n",
    "    \n",
    "    # return result excluding the identity quaternion used for initial estimations\n",
    "    return np.array(q[1:])"
   ]
  },
  {
   "cell_type": "code",
   "execution_count": 139,
   "metadata": {},
   "outputs": [
    {
     "data": {
      "text/plain": [
       "<matplotlib.legend.Legend at 0x117b76668>"
      ]
     },
     "execution_count": 139,
     "metadata": {},
     "output_type": "execute_result"
    },
    {
     "data": {
      "text/plain": [
       "<matplotlib.figure.Figure at 0x117c052b0>"
      ]
     },
     "metadata": {},
     "output_type": "display_data"
    },
    {
     "data": {
      "image/png": "[encoded data removed]",
      "text/plain": [
       "<matplotlib.figure.Figure at 0x117c054e0>"
      ]
     },
     "metadata": {
      "needs_background": "light"
     },
     "output_type": "display_data"
    }
   ],
   "source": [
    "gyroscope_radians = deg2radians(gyroscope_data)\n",
    "accelerometer_radians = deg2radians(accelerometer_data)\n",
    "accelerometer_narmalized = data_normalized(accelerometer_radians)\n",
    "n = imu_data.shape[0]\n",
    "\n",
    "q_imu_gyro_acc_magn = imu_gyro_acc(n, gyroscope_radians, accelerometer_narmalized)\n",
    "\n",
    "euler_imu_gyro_acc_magn = np.apply_along_axis(quaternions2euler, 2, q_imu_gyro_acc_magn)\n",
    "euler_imu_gyro_acc_magn = np.apply_along_axis(np.rad2deg, 2, euler_imu_gyro_acc_magn)\n",
    "\n",
    "plt.clf()\n",
    "time = imu_data['time'].values\n",
    "plt.figure(3)\n",
    "plt.ylim(-180,180)\n",
    "plt.xlabel('time(s)')\n",
    "plt.ylabel('degrees')\n",
    "plt.title('Euler Angle - gyroscope + accelerometer + magnetometer')\n",
    "xdata = []\n",
    "ydata = []\n",
    "zdata = []\n",
    "for row in euler_imu_gyro_acc_magn:\n",
    "    xdata += [row[0][0]]\n",
    "    ydata += [row[0][1]]\n",
    "    zdata += [row[0][2]]\n",
    "plt.plot(time, xdata, linestyle='-', color='r', label='x')\n",
    "plt.plot(time, ydata, linestyle='-', color='g', label='y')\n",
    "plt.plot(time, zdata, linestyle='-', color='b', label='z')\n",
    "plt.legend(loc='upper right')"
   ]
  },
  {
   "cell_type": "markdown",
   "metadata": {},
   "source": [
    "Implementation following **An effient orientation filter for inertial and inertial/magnetic sensor arrays** paper"
   ]
  },
  {
   "cell_type": "code",
   "execution_count": 140,
   "metadata": {},
   "outputs": [],
   "source": [
    "def imu_gyro_acc_v2(n, gyroscope_data, accelerometer_data,\n",
    "                      dt=0.003906, beta=0.1):\n",
    "    '''\n",
    "        Parameters\n",
    "        ----------\n",
    "        n: scalar\n",
    "          number of data for all readings, ex. imu_data.shape[0]\n",
    "        gyroscope_data: pandas dataframe that must contain x, y, z columns and has n rows\n",
    "          observations obtained from a gyroscope\n",
    "        accelerometer_data: pandas dataframe that must contain x, y, z columns and has n rows\n",
    "          observations obtained from a accelerometer, observations must be normalized\n",
    "        dt: scalar\n",
    "          observations reported rate in seconds, ex. dt = 265Hz = 0.003906s\n",
    "        beta: scalar\n",
    "          parameter used for error correction\n",
    "\n",
    "        Return\n",
    "        ----------\n",
    "        q: a matrix with n rows and 4 columns\n",
    "          orientations estimated for all n readings after applying tilt and yaw drift corrections\n",
    "    '''\n",
    "\n",
    "    q = [np.array([[1.0,0,0,0]])]\n",
    "    for i in range(n):\n",
    "        ### gyroscope estimations\n",
    "        gyro_row = gyroscope_data.loc[i]\n",
    "        q_gyro = np.array([[0, -gyro_row['x'], -gyro_row['y'], -gyro_row['z']]])\n",
    "        q_dot = 0.5 * quaternions_product(q_gyro, q[i])\n",
    "        \n",
    "#         g = np.array([[0, 0, 0, 1]])\n",
    "        acc_row = accelerometer_data.loc[i]\n",
    "        \n",
    "        a_x, a_y, a_z = acc_row['x'], acc_row['y'], acc_row['z']\n",
    "        q_1, q_2, q_3, q_4 = q[i][0]\n",
    "        q1q2 = q_1 * q_2\n",
    "        q1q3 = q_1 * q_3\n",
    "        q2q2 = q_2 * q_2\n",
    "        q2q3 = q_2 * q_3\n",
    "        q2q4 = q_2 * q_4\n",
    "        q3q3 = q_3 * q_3\n",
    "        q3q4 = q_3 * q_4\n",
    "        q4q4 = q_4 * q_4\n",
    "        \n",
    "        f_g = np.array([[2*(q2q4 - q1q3) - a_x], \n",
    "                        [2*(q1q2 + q3q4) - a_y],\n",
    "                        [2*(0.5 - q2q2 - q3q3) - a_z]\n",
    "                       ], dtype=np.float64)\n",
    "        \n",
    "        j_g = np.array([[-2*q_3, 2*q_4, -2*q_1, 2*q_2],\n",
    "                        [2*q_2, 2*q_1, 2*q_4, 2*q_3],\n",
    "                        [0, -4*q_2, -4*q_3, 0]\n",
    "                       ], dtype=np.float64)\n",
    "        \n",
    "        gradient_f = np.dot(j_g.T, f_g).T\n",
    "        magnitude_gradient_f = np.sqrt(np.sum(np.square(gradient_f)))\n",
    "        \n",
    "        q_e = np.divide(gradient_f, magnitude_gradient_f)\n",
    "        \n",
    "        q_dot = np.subtract(q_dot, beta * q_e)\n",
    "        \n",
    "        q_k = np.add(q[i], q_dot * dt)\n",
    "        q_k = np.divide(q_k, np.sqrt(np.sum(np.square(q_k)))) #normalize\n",
    "        \n",
    "        q += [q_k]\n",
    "    \n",
    "    # return result excluding the identity quaternion used for initial estimations\n",
    "    return np.array(q[1:])"
   ]
  },
  {
   "cell_type": "code",
   "execution_count": 141,
   "metadata": {},
   "outputs": [
    {
     "data": {
      "text/plain": [
       "<matplotlib.legend.Legend at 0x117dcae48>"
      ]
     },
     "execution_count": 141,
     "metadata": {},
     "output_type": "execute_result"
    },
    {
     "data": {
      "text/plain": [
       "<matplotlib.figure.Figure at 0x117c05630>"
      ]
     },
     "metadata": {},
     "output_type": "display_data"
    },
    {
     "data": {
      "image/png": "[encoded data removed]",
      "text/plain": [
       "<matplotlib.figure.Figure at 0x117c015f8>"
      ]
     },
     "metadata": {
      "needs_background": "light"
     },
     "output_type": "display_data"
    }
   ],
   "source": [
    "gyroscope_radians = deg2radians(gyroscope_data)\n",
    "accelerometer_radians = deg2radians(accelerometer_data)\n",
    "accelerometer_narmalized = data_normalized(accelerometer_radians)\n",
    "n = imu_data.shape[0]\n",
    "\n",
    "q_imu_gyro_acc_magn = imu_gyro_acc_v2(n, gyroscope_radians, accelerometer_narmalized)\n",
    "\n",
    "euler_imu_gyro_acc_magn = np.apply_along_axis(quaternions2euler, 2, q_imu_gyro_acc_magn)\n",
    "euler_imu_gyro_acc_magn = np.apply_along_axis(np.rad2deg, 2, euler_imu_gyro_acc_magn)\n",
    "\n",
    "plt.clf()\n",
    "time = imu_data['time'].values\n",
    "plt.figure(3)\n",
    "plt.ylim(-180,180)\n",
    "plt.xlabel('time(s)')\n",
    "plt.ylabel('degrees')\n",
    "plt.title('Euler Angle - gyroscope + accelerometer + magnetometer')\n",
    "xdata = []\n",
    "ydata = []\n",
    "zdata = []\n",
    "for row in euler_imu_gyro_acc_magn:\n",
    "    xdata += [row[0][0]]\n",
    "    ydata += [row[0][1]]\n",
    "    zdata += [row[0][2]]\n",
    "plt.plot(time, xdata, linestyle='-', color='r', label='x')\n",
    "plt.plot(time, ydata, linestyle='-', color='g', label='y')\n",
    "plt.plot(time, zdata, linestyle='-', color='b', label='z')\n",
    "plt.legend(loc='upper right')"
   ]
  },
  {
   "cell_type": "markdown",
   "metadata": {},
   "source": [
    "# PROBLEM 4"
   ]
  },
  {
   "cell_type": "markdown",
   "metadata": {},
   "source": [
    "## Yaw drift"
   ]
  },
  {
   "cell_type": "markdown",
   "metadata": {},
   "source": [
    "The complementary filter for yaw correction is\n",
    "$$q_{k}' = q((0,1,0), -\\alpha_2(\\theta - \\theta_r)) \\otimes q_{k}$$\n",
    "in which $\\alpha_2$ is a small gain constant, similar to the case of tilt correction."
   ]
  },
  {
   "cell_type": "code",
   "execution_count": 32,
   "metadata": {},
   "outputs": [],
   "source": [
    "def imu_gyro_acc_magn(n, gyroscope_data, accelerometer_data, magnetometer_data,\n",
    "                      dt=0.003906, alpha=0.01, alpha_2=0.01, eps=1e-6):\n",
    "    '''\n",
    "        Parameters\n",
    "        ----------\n",
    "        n: scalar\n",
    "          number of data for all readings, ex. imu_data.shape[0]\n",
    "        gyroscope_data: pandas dataframe that must contain x, y, z columns and has n rows\n",
    "          observations obtained from a gyroscope\n",
    "        accelerometer_data: pandas dataframe that must contain x, y, z columns and has n rows\n",
    "          observations obtained from a accelerometer, observations must be normalized\n",
    "        magnetometer_data: pandas dataframe that must contain x, y, z columns and has n rows\n",
    "          observations obtained from a magnetometer, observations must be normalized\n",
    "        dt: scalar\n",
    "          observations reported rate in seconds, ex. dt = 265Hz = 0.003906s\n",
    "        alpha: scalar\n",
    "          parameter used for tilt correction\n",
    "        alpha_2: scalar \n",
    "          parameter used for yaw drift correction\n",
    "        eps: scalar \n",
    "          epsilon used for detecting yaw drift\n",
    "\n",
    "        Return\n",
    "        ----------\n",
    "        q: a matrix with n rows and 4 columns\n",
    "          orientations estimated for all n readings after applying tilt and yaw drift corrections\n",
    "    '''\n",
    "\n",
    "    q = [np.array([[1.0,0,0,0]])]\n",
    "    for i in range(n):\n",
    "        ### gyroscope estimations\n",
    "        gyro_row = gyroscope_data.loc[i]\n",
    "        w_k = np.array([[gyro_row['x'], gyro_row['y'], gyro_row['z']]]) * -1\n",
    "        l = np.sqrt(np.sum(np.square(w_k)))\n",
    "        v = np.divide(w_k, l)\n",
    "        theta = l * dt \n",
    "        q_gyro = axisAngle2quaternion(v, theta)\n",
    "        q_k = quaternions_product(q_gyro, q[i])\n",
    "\n",
    "        ### accelerometer estimations - tilt error correction (define up)\n",
    "        q_conj = quaternions_conjugate(q_k)\n",
    "        acc_row = accelerometer_data.loc[i]\n",
    "        a = np.array([[0, acc_row['x'], acc_row['y'], acc_row['z']]])\n",
    "        u = quaternions_product(q_conj, quaternions_product(a, q_k)) # global frame q_k is actually the conjugate\n",
    "        t = np.array([[-u[0][1], -u[0][2], 0]]) # tilt axis is YX\n",
    "        phi = math.acos(np.dot(np.array([0, 0, 1]), u[0][1:])) # tilt error angle\n",
    "        q_t = axisAngle2quaternion(t, -alpha*phi) # q(t, -alpha*phi) for tilt drift\n",
    "        q_k = quaternions_product(q_t, q_k) # apply complementary filter for tilt drift correction  \n",
    "\n",
    "        ### magnetometer estimations - yaw drift correction\n",
    "        q_conj = quaternions_conjugate(q_k)\n",
    "        if i == 0:\n",
    "            m_ref_row = magnetometer_data.loc[i]\n",
    "            m_ref_obv = np.array([[0, m_ref_row['x'], m_ref_row['y'], m_ref_row['z']]]) # intial observed value used as reference\n",
    "            m_ref = quaternions_product(q_conj, quaternions_product(m_ref_obv, q_k))\n",
    "            theta_ref = math.atan2(m_ref[0][1], m_ref[0][2])\n",
    "        magn_row = magnetometer_data.loc[i]\n",
    "        m_obv = np.array([[0, magn_row['x'], magn_row['y'], magn_row['z']]]) # observed magnetometer reading\n",
    "        m = quaternions_product(q_conj, quaternions_product(m_obv, q_k)) # estimate by world frame\n",
    "        theta_m = math.atan2(m[0][1], m[0][2])\n",
    "        # compare m_ref theta to current m theta for yaw drift \n",
    "        # if difference is more than epsilon (tolerable floating point error)\n",
    "        if np.abs(theta_m - theta_ref) > eps:\n",
    "            q_m = axisAngle2quaternion(np.array([[0, 0, 1]]), -alpha_2*(theta_m - theta_ref)) # complementry filter for yaw drift\n",
    "            q_k = quaternions_product(q_m, q_k)\n",
    "\n",
    "        q += [q_k]\n",
    "    \n",
    "    # return result excluding the identity quaternion used for initial estimations\n",
    "    return np.array(q[1:])"
   ]
  },
  {
   "cell_type": "markdown",
   "metadata": {},
   "source": [
    "Implementation following **An effient orientation filter for inertial and inertial/magnetic sensor arrays** paper"
   ]
  },
  {
   "cell_type": "code",
   "execution_count": 142,
   "metadata": {},
   "outputs": [],
   "source": [
    "def imu_gyro_acc_magn_v2(n, gyroscope_data, accelerometer_data, magnetometer_data,\n",
    "                      dt=0.003906, beta=0.1, alpha_2=0.01, eps=1e-6):\n",
    "    '''\n",
    "        Parameters\n",
    "        ----------\n",
    "        n: scalar\n",
    "          number of data for all readings, ex. imu_data.shape[0]\n",
    "        gyroscope_data: pandas dataframe that must contain x, y, z columns and has n rows\n",
    "          observations obtained from a gyroscope\n",
    "        accelerometer_data: pandas dataframe that must contain x, y, z columns and has n rows\n",
    "          observations obtained from a accelerometer, observations must be normalized\n",
    "        magnetometer_data: pandas dataframe that must contain x, y, z columns and has n rows\n",
    "          observations obtained from a magnetometer, observations must be normalized\n",
    "        dt: scalar\n",
    "          observations reported rate in seconds, ex. dt = 265Hz = 0.003906s\n",
    "        beta: scalar\n",
    "          parameter used for tilt correction\n",
    "        alpha_2: scalar \n",
    "          parameter used for yaw drift correction\n",
    "        eps: scalar \n",
    "          epsilon used for detecting yaw drift\n",
    "\n",
    "        Return\n",
    "        ----------\n",
    "        q: a matrix with n rows and 4 columns\n",
    "          orientations estimated for all n readings after applying tilt and yaw drift corrections\n",
    "    '''\n",
    "\n",
    "    q = [np.array([[1.0,0,0,0]])]\n",
    "    for i in range(n):\n",
    "        ### gyroscope estimations\n",
    "        gyro_row = gyroscope_data.loc[i]\n",
    "        q_gyro = np.array([[0, -gyro_row['x'], -gyro_row['y'], -gyro_row['z']]])\n",
    "        q_dot = 0.5 * quaternions_product(q_gyro, q[i])\n",
    "        \n",
    "        q_conj = quaternions_conjugate(q[i])\n",
    "        \n",
    "        magn_row = magnetometer_data.loc[i]\n",
    "        m_x, m_y, m_z = magn_row['x'], magn_row['y'], magn_row['z']\n",
    "        m = np.array([[0, m_x, m_y, m_z]])\n",
    "        h_t = quaternions_product(q[i], quaternions_product(m, q_conj))\n",
    "        _, h_x, h_y, h_z = h_t[0]\n",
    "        # b_t = [0 sqrt(square(h_x) + square(h_y)) 0 h_z]\n",
    "        b_x = np.sqrt(np.sum(np.square([h_x, h_y])))\n",
    "        b_z = h_z\n",
    "        \n",
    "        acc_row = accelerometer_data.loc[i]\n",
    "        a_x, a_y, a_z = acc_row['x'], acc_row['y'], acc_row['z']\n",
    "        \n",
    "        q_1, q_2, q_3, q_4 = q[i][0]\n",
    "        q1q2 = q_1 * q_2\n",
    "        q1q3 = q_1 * q_3\n",
    "        q1q4 = q_1 * q_4\n",
    "        q2q2 = q_2 * q_2\n",
    "        q2q3 = q_2 * q_3\n",
    "        q2q4 = q_2 * q_4\n",
    "        q3q3 = q_3 * q_3\n",
    "        q3q4 = q_3 * q_4\n",
    "        q4q4 = q_4 * q_4\n",
    "        \n",
    "        f_g = np.array([[2*(q2q4 - q1q3) - a_x], \n",
    "                        [2*(q1q2 + q3q4) - a_y],\n",
    "                        [2*(0.5 - q2q2 - q3q3) - a_z]\n",
    "                       ], dtype=np.float64)\n",
    "        \n",
    "        j_g = np.array([[-2*q_3, 2*q_4, -2*q_1, 2*q_2],\n",
    "                        [2*q_2, 2*q_1, 2*q_4, 2*q_3],\n",
    "                        [0, -4*q_2, -4*q_3, 0]\n",
    "                       ], dtype=np.float64)\n",
    "        \n",
    "        f_b = np.array([[2*b_x*(0.5 - q3q3 - q4q4) + 2*b_z*(q2q4 - q1q3) - m_x], \n",
    "                        [2*b_x*(q2q3 - q1q4) + 2*b_z*(q1q2 + q3q4) - m_y],\n",
    "                        [2*b_x*(q1q3 + q2q4) + 2*b_z*(0.5 - q2q2 - q3q3) - m_z]\n",
    "                       ], dtype=np.float64)\n",
    "        \n",
    "        j_b = np.array([[-2*b_z*q_3, 2*b_z*q_4, -4*b_x*q_3 - 2*b_z*q_1, -4*b_x*q_4 + 2*b_z*q_2],\n",
    "                        [-2*b_x*q_4 + 2*b_z*q_2, 2*b_x*q_3 + 2*b_z*q_1, 2*b_x*q_2 + 2*b_z*q_4, -2*b_x*q_1 + 2*b_z*q_3],\n",
    "                        [2*b_x*q_3, 2*b_x*q_4 - 4*b_z*q_2, 2*b_x*q_1 - 4*b_z*q_3, 2*b_x*q_2]\n",
    "                       ], dtype=np.float64)\n",
    "        \n",
    "        f = np.append(f_g, f_b, axis=0)\n",
    "        j = np.append(j_g, j_b, axis=0)\n",
    "        \n",
    "        gradient_f = np.dot(j.T, f).T\n",
    "        magnitude_gradient_f = np.sqrt(np.sum(np.square(gradient_f)))\n",
    "        \n",
    "        q_e = np.divide(gradient_f, magnitude_gradient_f)\n",
    "        \n",
    "        q_dot = np.subtract(q_dot, beta * q_e)\n",
    "        \n",
    "        q_k = np.add(q[i], q_dot * dt)\n",
    "        q_k = np.divide(q_k, np.sqrt(np.sum(np.square(q_k)))) #normalize\n",
    "        \n",
    "        q += [q_k]\n",
    "    \n",
    "    # return result excluding the identity quaternion used for initial estimations\n",
    "    return np.array(q[1:])"
   ]
  },
  {
   "cell_type": "code",
   "execution_count": 143,
   "metadata": {
    "scrolled": false
   },
   "outputs": [
    {
     "data": {
      "text/plain": [
       "<matplotlib.legend.Legend at 0x118035ba8>"
      ]
     },
     "execution_count": 143,
     "metadata": {},
     "output_type": "execute_result"
    },
    {
     "data": {
      "text/plain": [
       "<matplotlib.figure.Figure at 0x1180d1828>"
      ]
     },
     "metadata": {},
     "output_type": "display_data"
    },
    {
     "data": {
      "image/png": "[encoded data removed]",
      "text/plain": [
       "<matplotlib.figure.Figure at 0x1180d1a58>"
      ]
     },
     "metadata": {
      "needs_background": "light"
     },
     "output_type": "display_data"
    }
   ],
   "source": [
    "gyroscope_radians = deg2radians(gyroscope_data)\n",
    "accelerometer_radians = deg2radians(accelerometer_data)\n",
    "magnetometer_radians = deg2radians(magnetometer_data)\n",
    "\n",
    "accelerometer_narmalized = data_normalized(accelerometer_radians)\n",
    "magnetometer_narmalized = data_normalized(magnetometer_data)\n",
    "n = imu_data.shape[0]\n",
    "\n",
    "q_imu_gyro_acc_magn = imu_gyro_acc_magn_v2(n, gyroscope_radians, accelerometer_narmalized, magnetometer_narmalized)\n",
    "\n",
    "euler_imu_gyro_acc_magn = np.apply_along_axis(quaternions2euler, 2, q_imu_gyro_acc_magn)\n",
    "euler_imu_gyro_acc_magn = np.apply_along_axis(np.rad2deg, 2, euler_imu_gyro_acc_magn)\n",
    "\n",
    "plt.clf()\n",
    "time = imu_data['time'].values\n",
    "plt.figure(3)\n",
    "plt.ylim(-180,180)\n",
    "plt.xlabel('time(s)')\n",
    "plt.ylabel('degrees')\n",
    "plt.title('Euler Angle - gyroscope + accelerometer + magnetometer')\n",
    "xdata = []\n",
    "ydata = []\n",
    "zdata = []\n",
    "for row in euler_imu_gyro_acc_magn:\n",
    "    xdata += [row[0][0]]\n",
    "    ydata += [row[0][1]]\n",
    "    zdata += [row[0][2]]\n",
    "plt.plot(time, xdata, linestyle='-', color='r', label='x')\n",
    "plt.plot(time, ydata, linestyle='-', color='g', label='y')\n",
    "plt.plot(time, zdata, linestyle='-', color='b', label='z')\n",
    "plt.legend(loc='upper right')"
   ]
  },
  {
   "cell_type": "markdown",
   "metadata": {},
   "source": [
    "# PROBLEM 5"
   ]
  },
  {
   "cell_type": "markdown",
   "metadata": {},
   "source": [
    "## 2D plots of initial data"
   ]
  },
  {
   "cell_type": "code",
   "execution_count": 35,
   "metadata": {},
   "outputs": [
    {
     "data": {
      "text/plain": [
       "<matplotlib.legend.Legend at 0x10f4b3940>"
      ]
     },
     "execution_count": 35,
     "metadata": {},
     "output_type": "execute_result"
    },
    {
     "data": {
      "image/png": "[encoded data removed]",
      "text/plain": [
       "<matplotlib.figure.Figure at 0x10f52cba8>"
      ]
     },
     "metadata": {
      "needs_background": "light"
     },
     "output_type": "display_data"
    }
   ],
   "source": [
    "plt.clf()\n",
    "\n",
    "time = imu_data['time'].values\n",
    "\n",
    "plt.xlabel('time(s)')\n",
    "plt.ylabel('deg/s')\n",
    "plt.title('Gyroscope readings')\n",
    "xdata = gyroscope_data['x'].values\n",
    "ydata = gyroscope_data['y'].values\n",
    "zdata = gyroscope_data['z'].values\n",
    "plt.plot(time, xdata, linestyle='-', color='r', label='x')\n",
    "plt.plot(time, ydata, linestyle='-', color='g', label='y')\n",
    "plt.plot(time, zdata, linestyle='-', color='b', label='z')\n",
    "plt.legend(loc='upper right')"
   ]
  },
  {
   "cell_type": "code",
   "execution_count": 36,
   "metadata": {},
   "outputs": [
    {
     "data": {
      "text/plain": [
       "<matplotlib.legend.Legend at 0x10f3a9630>"
      ]
     },
     "execution_count": 36,
     "metadata": {},
     "output_type": "execute_result"
    },
    {
     "data": {
      "image/png": "[encoded data removed]",
      "text/plain": [
       "<matplotlib.figure.Figure at 0x10f4d6eb8>"
      ]
     },
     "metadata": {
      "needs_background": "light"
     },
     "output_type": "display_data"
    }
   ],
   "source": [
    "plt.clf()\n",
    "\n",
    "time = imu_data['time'].values\n",
    "\n",
    "plt.xlabel('time(s)')\n",
    "plt.ylabel('m/s^2')\n",
    "plt.title('Accelerometer readings')\n",
    "xdata = accelerometer_data['x'].values\n",
    "ydata = accelerometer_data['y'].values\n",
    "zdata = accelerometer_data['z'].values\n",
    "plt.plot(time, xdata, linestyle='-', color='r', label='x')\n",
    "plt.plot(time, ydata, linestyle='-', color='g', label='y')\n",
    "plt.plot(time, zdata, linestyle='-', color='b', label='z')\n",
    "plt.legend(loc='upper right')"
   ]
  },
  {
   "cell_type": "code",
   "execution_count": 37,
   "metadata": {},
   "outputs": [
    {
     "data": {
      "text/plain": [
       "<matplotlib.legend.Legend at 0x1136a97f0>"
      ]
     },
     "execution_count": 37,
     "metadata": {},
     "output_type": "execute_result"
    },
    {
     "data": {
      "image/png": "[encoded data removed]",
      "text/plain": [
       "<matplotlib.figure.Figure at 0x10f3fb0f0>"
      ]
     },
     "metadata": {
      "needs_background": "light"
     },
     "output_type": "display_data"
    }
   ],
   "source": [
    "plt.clf()\n",
    "\n",
    "time = imu_data['time'].values\n",
    "\n",
    "plt.xlabel('time(s)')\n",
    "plt.ylabel('m')\n",
    "plt.title('Magentometer readings')\n",
    "xdata = magnetometer_data['x'].values\n",
    "ydata = magnetometer_data['y'].values\n",
    "zdata = magnetometer_data['z'].values\n",
    "plt.plot(time, xdata, linestyle='-', color='r', label='x')\n",
    "plt.plot(time, ydata, linestyle='-', color='g', label='y')\n",
    "plt.plot(time, zdata, linestyle='-', color='b', label='z')\n",
    "plt.legend(loc='upper right')"
   ]
  },
  {
   "cell_type": "markdown",
   "metadata": {},
   "source": [
    "## 2D plots for Euler angles for the 3 implemented methods (gyroscope integration, gyroscope + accelerometer, gyroscope + accelerometer + magnetometer)"
   ]
  },
  {
   "cell_type": "code",
   "execution_count": 147,
   "metadata": {},
   "outputs": [],
   "source": [
    "gyroscope_radians = deg2radians(gyroscope_data)\n",
    "accelerometer_radians = deg2radians(accelerometer_data)\n",
    "magnetometer_radians = deg2radians(magnetometer_data)\n",
    "accelerometer_narmalized = data_normalized(accelerometer_radians)\n",
    "magnetometer_narmalized = data_normalized(magnetometer_data)\n",
    "n = imu_data.shape[0]\n",
    "\n",
    "q_imu_gyro = imu_gyro(n, gyroscope_radians)\n",
    "q_imu_gyro_acc = imu_gyro_acc_v2(n, gyroscope_radians, accelerometer_narmalized)\n",
    "q_imu_gyro_acc_magn = imu_gyro_acc_magn_v2(n, gyroscope_radians, accelerometer_narmalized, magnetometer_narmalized)"
   ]
  },
  {
   "cell_type": "code",
   "execution_count": 148,
   "metadata": {},
   "outputs": [],
   "source": [
    "# convert quaternions to euler angles\n",
    "euler_imu_gyro = np.apply_along_axis(quaternions2euler, 2, q_imu_gyro)\n",
    "euler_imu_gyro_acc = np.apply_along_axis(quaternions2euler, 2, q_imu_gyro_acc)\n",
    "euler_imu_gyro_acc_magn = np.apply_along_axis(quaternions2euler, 2, q_imu_gyro_acc_magn)\n",
    "\n",
    "# computed euler angles are in randians so convert them to degrees\n",
    "euler_imu_gyro = np.apply_along_axis(np.rad2deg, 2, euler_imu_gyro)\n",
    "euler_imu_gyro_acc = np.apply_along_axis(np.rad2deg, 2, euler_imu_gyro_acc)\n",
    "euler_imu_gyro_acc_magn = np.apply_along_axis(np.rad2deg, 2, euler_imu_gyro_acc_magn)"
   ]
  },
  {
   "cell_type": "code",
   "execution_count": 149,
   "metadata": {},
   "outputs": [
    {
     "data": {
      "text/plain": [
       "<matplotlib.legend.Legend at 0x114da10b8>"
      ]
     },
     "execution_count": 149,
     "metadata": {},
     "output_type": "execute_result"
    },
    {
     "data": {
      "image/png": "[encoded data removed]",
      "text/plain": [
       "<matplotlib.figure.Figure at 0x114916550>"
      ]
     },
     "metadata": {
      "needs_background": "light"
     },
     "output_type": "display_data"
    },
    {
     "data": {
      "image/png": "[encoded data removed]",
      "text/plain": [
       "<matplotlib.figure.Figure at 0x114d724a8>"
      ]
     },
     "metadata": {
      "needs_background": "light"
     },
     "output_type": "display_data"
    },
    {
     "data": {
      "image/png": "[encoded data removed]",
      "text/plain": [
       "<matplotlib.figure.Figure at 0x114c50080>"
      ]
     },
     "metadata": {
      "needs_background": "light"
     },
     "output_type": "display_data"
    }
   ],
   "source": [
    "plt.clf()\n",
    "\n",
    "time = imu_data['time'].values\n",
    "\n",
    "plt.figure(1)\n",
    "plt.ylim(-180,180)\n",
    "plt.xlabel('time(s)')\n",
    "plt.ylabel('degrees')\n",
    "plt.title('Euler Angle - gyroscope integration')\n",
    "xdata = []\n",
    "ydata = []\n",
    "zdata = []\n",
    "for row in euler_imu_gyro:\n",
    "    xdata += [row[0][0]]\n",
    "    ydata += [row[0][1]]\n",
    "    zdata += [row[0][2]]\n",
    "plt.plot(time, xdata, linestyle='-', color='r', label='x')\n",
    "plt.plot(time, ydata, linestyle='-', color='g', label='y')\n",
    "plt.plot(time, zdata, linestyle='-', color='b', label='z')\n",
    "plt.legend(loc='upper right')\n",
    "\n",
    "plt.figure(2)\n",
    "plt.ylim(-180,180)\n",
    "plt.xlabel('time(s)')\n",
    "plt.ylabel('degrees')\n",
    "plt.title('Euler Angle - gyroscope + accelerometer')\n",
    "xdata = []\n",
    "ydata = []\n",
    "zdata = []\n",
    "for row in euler_imu_gyro_acc:\n",
    "    xdata += [row[0][0]]\n",
    "    ydata += [row[0][1]]\n",
    "    zdata += [row[0][2]]\n",
    "plt.plot(time, xdata, linestyle='-', color='r', label='x')\n",
    "plt.plot(time, ydata, linestyle='-', color='g', label='y')\n",
    "plt.plot(time, zdata, linestyle='-', color='b', label='z')\n",
    "plt.legend(loc='upper right')\n",
    "\n",
    "plt.figure(3)\n",
    "plt.ylim(-180,180)\n",
    "plt.xlabel('time(s)')\n",
    "plt.ylabel('degrees')\n",
    "plt.title('Euler Angle - gyroscope + accelerometer + magnetometer')\n",
    "xdata = []\n",
    "ydata = []\n",
    "zdata = []\n",
    "for row in euler_imu_gyro_acc_magn:\n",
    "    xdata += [row[0][0]]\n",
    "    ydata += [row[0][1]]\n",
    "    zdata += [row[0][2]]\n",
    "plt.plot(time, xdata, linestyle='-', color='r', label='x')\n",
    "plt.plot(time, ydata, linestyle='-', color='g', label='y')\n",
    "plt.plot(time, zdata, linestyle='-', color='b', label='z')\n",
    "plt.legend(loc='upper right')\n",
    "\n",
    "# plt.tight_layout(pad=0.4, w_pad=0.5, h_pad=1.0)"
   ]
  },
  {
   "cell_type": "code",
   "execution_count": null,
   "metadata": {},
   "outputs": [],
   "source": []
  }
 ],
 "metadata": {
  "kernelspec": {
   "display_name": "Python 3",
   "language": "python",
   "name": "python3"
  },
  "language_info": {
   "codemirror_mode": {
    "name": "ipython",
    "version": 3
   },
   "file_extension": ".py",
   "mimetype": "text/x-python",
   "name": "python",
   "nbconvert_exporter": "python",
   "pygments_lexer": "ipython3",
   "version": "3.6.7"
  }
 },
 "nbformat": 4,
 "nbformat_minor": 1
}
