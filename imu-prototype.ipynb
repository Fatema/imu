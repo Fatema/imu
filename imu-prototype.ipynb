{
 "cells": [
  {
   "cell_type": "code",
   "execution_count": 1,
   "metadata": {},
   "outputs": [],
   "source": [
    "import pandas as pd\n",
    "import numpy as np\n",
    "import matplotlib.pyplot as plt "
   ]
  },
  {
   "cell_type": "markdown",
   "metadata": {},
   "source": [
    "# PROBLEM 1"
   ]
  },
  {
   "cell_type": "markdown",
   "metadata": {},
   "source": [
    "Read IMUdata using pandas dataframe"
   ]
  },
  {
   "cell_type": "code",
   "execution_count": 2,
   "metadata": {},
   "outputs": [],
   "source": [
    "imu_data = pd.read_csv('IMUData.csv')"
   ]
  },
  {
   "cell_type": "code",
   "execution_count": 3,
   "metadata": {},
   "outputs": [
    {
     "data": {
      "text/html": [
       "<div>\n",
       "<style scoped>\n",
       "    .dataframe tbody tr th:only-of-type {\n",
       "        vertical-align: middle;\n",
       "    }\n",
       "\n",
       "    .dataframe tbody tr th {\n",
       "        vertical-align: top;\n",
       "    }\n",
       "\n",
       "    .dataframe thead th {\n",
       "        text-align: right;\n",
       "    }\n",
       "</style>\n",
       "<table border=\"1\" class=\"dataframe\">\n",
       "  <thead>\n",
       "    <tr style=\"text-align: right;\">\n",
       "      <th></th>\n",
       "      <th>time</th>\n",
       "      <th>gyroscope.X</th>\n",
       "      <th>gyroscope.Y</th>\n",
       "      <th>gyroscope.Z</th>\n",
       "      <th>accelerometer.X</th>\n",
       "      <th>accelerometer.Y</th>\n",
       "      <th>accelerometer.Z</th>\n",
       "      <th>magnetometer.X</th>\n",
       "      <th>magnetometer.Y</th>\n",
       "      <th>magnetometer.Z</th>\n",
       "    </tr>\n",
       "  </thead>\n",
       "  <tbody>\n",
       "    <tr>\n",
       "      <th>0</th>\n",
       "      <td>0.000000</td>\n",
       "      <td>-0.9375</td>\n",
       "      <td>-1.250</td>\n",
       "      <td>0.875</td>\n",
       "      <td>0.019043</td>\n",
       "      <td>-0.052246</td>\n",
       "      <td>0.97803</td>\n",
       "      <td>0.20996</td>\n",
       "      <td>0.031250</td>\n",
       "      <td>-0.44873</td>\n",
       "    </tr>\n",
       "    <tr>\n",
       "      <th>1</th>\n",
       "      <td>0.003906</td>\n",
       "      <td>-0.9375</td>\n",
       "      <td>-1.250</td>\n",
       "      <td>0.875</td>\n",
       "      <td>0.019043</td>\n",
       "      <td>-0.052246</td>\n",
       "      <td>0.97803</td>\n",
       "      <td>0.20996</td>\n",
       "      <td>0.031250</td>\n",
       "      <td>-0.44873</td>\n",
       "    </tr>\n",
       "    <tr>\n",
       "      <th>2</th>\n",
       "      <td>0.007812</td>\n",
       "      <td>-0.9375</td>\n",
       "      <td>-1.875</td>\n",
       "      <td>0.250</td>\n",
       "      <td>0.019043</td>\n",
       "      <td>-0.067871</td>\n",
       "      <td>0.99756</td>\n",
       "      <td>0.20996</td>\n",
       "      <td>0.031250</td>\n",
       "      <td>-0.44873</td>\n",
       "    </tr>\n",
       "    <tr>\n",
       "      <th>3</th>\n",
       "      <td>0.011719</td>\n",
       "      <td>-1.3125</td>\n",
       "      <td>-2.000</td>\n",
       "      <td>0.125</td>\n",
       "      <td>0.026855</td>\n",
       "      <td>-0.032715</td>\n",
       "      <td>0.98975</td>\n",
       "      <td>0.21484</td>\n",
       "      <td>0.041016</td>\n",
       "      <td>-0.45361</td>\n",
       "    </tr>\n",
       "    <tr>\n",
       "      <th>4</th>\n",
       "      <td>0.015625</td>\n",
       "      <td>-1.7500</td>\n",
       "      <td>-2.125</td>\n",
       "      <td>0.000</td>\n",
       "      <td>0.003418</td>\n",
       "      <td>-0.032715</td>\n",
       "      <td>0.99365</td>\n",
       "      <td>0.21484</td>\n",
       "      <td>0.041016</td>\n",
       "      <td>-0.45361</td>\n",
       "    </tr>\n",
       "  </tbody>\n",
       "</table>\n",
       "</div>"
      ],
      "text/plain": [
       "       time   gyroscope.X   gyroscope.Y   gyroscope.Z   accelerometer.X  \\\n",
       "0  0.000000       -0.9375        -1.250         0.875          0.019043   \n",
       "1  0.003906       -0.9375        -1.250         0.875          0.019043   \n",
       "2  0.007812       -0.9375        -1.875         0.250          0.019043   \n",
       "3  0.011719       -1.3125        -2.000         0.125          0.026855   \n",
       "4  0.015625       -1.7500        -2.125         0.000          0.003418   \n",
       "\n",
       "    accelerometer.Y   accelerometer.Z   magnetometer.X   magnetometer.Y  \\\n",
       "0         -0.052246           0.97803          0.20996         0.031250   \n",
       "1         -0.052246           0.97803          0.20996         0.031250   \n",
       "2         -0.067871           0.99756          0.20996         0.031250   \n",
       "3         -0.032715           0.98975          0.21484         0.041016   \n",
       "4         -0.032715           0.99365          0.21484         0.041016   \n",
       "\n",
       "    magnetometer.Z   \n",
       "0          -0.44873  \n",
       "1          -0.44873  \n",
       "2          -0.44873  \n",
       "3          -0.45361  \n",
       "4          -0.45361  "
      ]
     },
     "execution_count": 3,
     "metadata": {},
     "output_type": "execute_result"
    }
   ],
   "source": [
    "imu_data.head()"
   ]
  },
  {
   "cell_type": "code",
   "execution_count": 4,
   "metadata": {},
   "outputs": [
    {
     "data": {
      "text/plain": [
       "Index(['time', ' gyroscope.X', ' gyroscope.Y', ' gyroscope.Z',\n",
       "       ' accelerometer.X', ' accelerometer.Y', ' accelerometer.Z',\n",
       "       ' magnetometer.X', ' magnetometer.Y', ' magnetometer.Z '],\n",
       "      dtype='object')"
      ]
     },
     "execution_count": 4,
     "metadata": {},
     "output_type": "execute_result"
    }
   ],
   "source": [
    "imu_data.columns"
   ]
  },
  {
   "cell_type": "markdown",
   "metadata": {},
   "source": [
    "## Gyroscope data"
   ]
  },
  {
   "cell_type": "code",
   "execution_count": 5,
   "metadata": {},
   "outputs": [],
   "source": [
    "gyroscope_data = imu_data[['time', ' gyroscope.X', ' gyroscope.Y', ' gyroscope.Z']].rename(columns = {' gyroscope.X':'x', ' gyroscope.Y':'y', ' gyroscope.Z':'z'})"
   ]
  },
  {
   "cell_type": "code",
   "execution_count": 6,
   "metadata": {},
   "outputs": [
    {
     "data": {
      "text/html": [
       "<div>\n",
       "<style scoped>\n",
       "    .dataframe tbody tr th:only-of-type {\n",
       "        vertical-align: middle;\n",
       "    }\n",
       "\n",
       "    .dataframe tbody tr th {\n",
       "        vertical-align: top;\n",
       "    }\n",
       "\n",
       "    .dataframe thead th {\n",
       "        text-align: right;\n",
       "    }\n",
       "</style>\n",
       "<table border=\"1\" class=\"dataframe\">\n",
       "  <thead>\n",
       "    <tr style=\"text-align: right;\">\n",
       "      <th></th>\n",
       "      <th>time</th>\n",
       "      <th>x</th>\n",
       "      <th>y</th>\n",
       "      <th>z</th>\n",
       "    </tr>\n",
       "  </thead>\n",
       "  <tbody>\n",
       "    <tr>\n",
       "      <th>0</th>\n",
       "      <td>0.000000</td>\n",
       "      <td>-0.9375</td>\n",
       "      <td>-1.250</td>\n",
       "      <td>0.875</td>\n",
       "    </tr>\n",
       "    <tr>\n",
       "      <th>1</th>\n",
       "      <td>0.003906</td>\n",
       "      <td>-0.9375</td>\n",
       "      <td>-1.250</td>\n",
       "      <td>0.875</td>\n",
       "    </tr>\n",
       "    <tr>\n",
       "      <th>2</th>\n",
       "      <td>0.007812</td>\n",
       "      <td>-0.9375</td>\n",
       "      <td>-1.875</td>\n",
       "      <td>0.250</td>\n",
       "    </tr>\n",
       "    <tr>\n",
       "      <th>3</th>\n",
       "      <td>0.011719</td>\n",
       "      <td>-1.3125</td>\n",
       "      <td>-2.000</td>\n",
       "      <td>0.125</td>\n",
       "    </tr>\n",
       "    <tr>\n",
       "      <th>4</th>\n",
       "      <td>0.015625</td>\n",
       "      <td>-1.7500</td>\n",
       "      <td>-2.125</td>\n",
       "      <td>0.000</td>\n",
       "    </tr>\n",
       "  </tbody>\n",
       "</table>\n",
       "</div>"
      ],
      "text/plain": [
       "       time       x      y      z\n",
       "0  0.000000 -0.9375 -1.250  0.875\n",
       "1  0.003906 -0.9375 -1.250  0.875\n",
       "2  0.007812 -0.9375 -1.875  0.250\n",
       "3  0.011719 -1.3125 -2.000  0.125\n",
       "4  0.015625 -1.7500 -2.125  0.000"
      ]
     },
     "execution_count": 6,
     "metadata": {},
     "output_type": "execute_result"
    }
   ],
   "source": [
    "gyroscope_data.head()"
   ]
  },
  {
   "cell_type": "markdown",
   "metadata": {},
   "source": [
    "## Accelerometer data"
   ]
  },
  {
   "cell_type": "code",
   "execution_count": 7,
   "metadata": {},
   "outputs": [],
   "source": [
    "accelerometer_data = imu_data[['time', ' accelerometer.X', ' accelerometer.Y', ' accelerometer.Z']].rename(columns = {' accelerometer.X':'x', ' accelerometer.Y':'y', ' accelerometer.Z':'z'})"
   ]
  },
  {
   "cell_type": "code",
   "execution_count": 8,
   "metadata": {},
   "outputs": [
    {
     "data": {
      "text/html": [
       "<div>\n",
       "<style scoped>\n",
       "    .dataframe tbody tr th:only-of-type {\n",
       "        vertical-align: middle;\n",
       "    }\n",
       "\n",
       "    .dataframe tbody tr th {\n",
       "        vertical-align: top;\n",
       "    }\n",
       "\n",
       "    .dataframe thead th {\n",
       "        text-align: right;\n",
       "    }\n",
       "</style>\n",
       "<table border=\"1\" class=\"dataframe\">\n",
       "  <thead>\n",
       "    <tr style=\"text-align: right;\">\n",
       "      <th></th>\n",
       "      <th>time</th>\n",
       "      <th>x</th>\n",
       "      <th>y</th>\n",
       "      <th>z</th>\n",
       "    </tr>\n",
       "  </thead>\n",
       "  <tbody>\n",
       "    <tr>\n",
       "      <th>0</th>\n",
       "      <td>0.000000</td>\n",
       "      <td>0.019043</td>\n",
       "      <td>-0.052246</td>\n",
       "      <td>0.97803</td>\n",
       "    </tr>\n",
       "    <tr>\n",
       "      <th>1</th>\n",
       "      <td>0.003906</td>\n",
       "      <td>0.019043</td>\n",
       "      <td>-0.052246</td>\n",
       "      <td>0.97803</td>\n",
       "    </tr>\n",
       "    <tr>\n",
       "      <th>2</th>\n",
       "      <td>0.007812</td>\n",
       "      <td>0.019043</td>\n",
       "      <td>-0.067871</td>\n",
       "      <td>0.99756</td>\n",
       "    </tr>\n",
       "    <tr>\n",
       "      <th>3</th>\n",
       "      <td>0.011719</td>\n",
       "      <td>0.026855</td>\n",
       "      <td>-0.032715</td>\n",
       "      <td>0.98975</td>\n",
       "    </tr>\n",
       "    <tr>\n",
       "      <th>4</th>\n",
       "      <td>0.015625</td>\n",
       "      <td>0.003418</td>\n",
       "      <td>-0.032715</td>\n",
       "      <td>0.99365</td>\n",
       "    </tr>\n",
       "  </tbody>\n",
       "</table>\n",
       "</div>"
      ],
      "text/plain": [
       "       time         x         y        z\n",
       "0  0.000000  0.019043 -0.052246  0.97803\n",
       "1  0.003906  0.019043 -0.052246  0.97803\n",
       "2  0.007812  0.019043 -0.067871  0.99756\n",
       "3  0.011719  0.026855 -0.032715  0.98975\n",
       "4  0.015625  0.003418 -0.032715  0.99365"
      ]
     },
     "execution_count": 8,
     "metadata": {},
     "output_type": "execute_result"
    }
   ],
   "source": [
    "accelerometer_data.head()"
   ]
  },
  {
   "cell_type": "code",
   "execution_count": 34,
   "metadata": {},
   "outputs": [],
   "source": [
    "accelerometer_data['magnitude'] = np.sqrt(np.square(accelerometer_data[['x', 'y', 'z']]).sum(axis=1))"
   ]
  },
  {
   "cell_type": "code",
   "execution_count": 35,
   "metadata": {},
   "outputs": [
    {
     "data": {
      "text/html": [
       "<div>\n",
       "<style scoped>\n",
       "    .dataframe tbody tr th:only-of-type {\n",
       "        vertical-align: middle;\n",
       "    }\n",
       "\n",
       "    .dataframe tbody tr th {\n",
       "        vertical-align: top;\n",
       "    }\n",
       "\n",
       "    .dataframe thead th {\n",
       "        text-align: right;\n",
       "    }\n",
       "</style>\n",
       "<table border=\"1\" class=\"dataframe\">\n",
       "  <thead>\n",
       "    <tr style=\"text-align: right;\">\n",
       "      <th></th>\n",
       "      <th>time</th>\n",
       "      <th>x</th>\n",
       "      <th>y</th>\n",
       "      <th>z</th>\n",
       "      <th>magnitude</th>\n",
       "    </tr>\n",
       "  </thead>\n",
       "  <tbody>\n",
       "    <tr>\n",
       "      <th>0</th>\n",
       "      <td>0.000000</td>\n",
       "      <td>0.000332</td>\n",
       "      <td>-0.000912</td>\n",
       "      <td>0.017070</td>\n",
       "      <td>0.017097</td>\n",
       "    </tr>\n",
       "    <tr>\n",
       "      <th>1</th>\n",
       "      <td>0.003906</td>\n",
       "      <td>0.000332</td>\n",
       "      <td>-0.000912</td>\n",
       "      <td>0.017070</td>\n",
       "      <td>0.017097</td>\n",
       "    </tr>\n",
       "    <tr>\n",
       "      <th>2</th>\n",
       "      <td>0.007812</td>\n",
       "      <td>0.000332</td>\n",
       "      <td>-0.001185</td>\n",
       "      <td>0.017411</td>\n",
       "      <td>0.017454</td>\n",
       "    </tr>\n",
       "    <tr>\n",
       "      <th>3</th>\n",
       "      <td>0.011719</td>\n",
       "      <td>0.000469</td>\n",
       "      <td>-0.000571</td>\n",
       "      <td>0.017274</td>\n",
       "      <td>0.017290</td>\n",
       "    </tr>\n",
       "    <tr>\n",
       "      <th>4</th>\n",
       "      <td>0.015625</td>\n",
       "      <td>0.000060</td>\n",
       "      <td>-0.000571</td>\n",
       "      <td>0.017342</td>\n",
       "      <td>0.017352</td>\n",
       "    </tr>\n",
       "  </tbody>\n",
       "</table>\n",
       "</div>"
      ],
      "text/plain": [
       "       time         x         y         z  magnitude\n",
       "0  0.000000  0.000332 -0.000912  0.017070   0.017097\n",
       "1  0.003906  0.000332 -0.000912  0.017070   0.017097\n",
       "2  0.007812  0.000332 -0.001185  0.017411   0.017454\n",
       "3  0.011719  0.000469 -0.000571  0.017274   0.017290\n",
       "4  0.015625  0.000060 -0.000571  0.017342   0.017352"
      ]
     },
     "execution_count": 35,
     "metadata": {},
     "output_type": "execute_result"
    }
   ],
   "source": [
    "accelerometer_data.head()"
   ]
  },
  {
   "cell_type": "markdown",
   "metadata": {},
   "source": [
    "## Magnetometer data"
   ]
  },
  {
   "cell_type": "code",
   "execution_count": 9,
   "metadata": {},
   "outputs": [],
   "source": [
    "magnetometer_data = imu_data[['time', ' magnetometer.X', ' magnetometer.Y', ' magnetometer.Z ']].rename(columns = {' magnetometer.X':'x', ' magnetometer.Y':'y', ' magnetometer.Z ':'z'})"
   ]
  },
  {
   "cell_type": "code",
   "execution_count": 10,
   "metadata": {},
   "outputs": [
    {
     "data": {
      "text/html": [
       "<div>\n",
       "<style scoped>\n",
       "    .dataframe tbody tr th:only-of-type {\n",
       "        vertical-align: middle;\n",
       "    }\n",
       "\n",
       "    .dataframe tbody tr th {\n",
       "        vertical-align: top;\n",
       "    }\n",
       "\n",
       "    .dataframe thead th {\n",
       "        text-align: right;\n",
       "    }\n",
       "</style>\n",
       "<table border=\"1\" class=\"dataframe\">\n",
       "  <thead>\n",
       "    <tr style=\"text-align: right;\">\n",
       "      <th></th>\n",
       "      <th>time</th>\n",
       "      <th>x</th>\n",
       "      <th>y</th>\n",
       "      <th>z</th>\n",
       "    </tr>\n",
       "  </thead>\n",
       "  <tbody>\n",
       "    <tr>\n",
       "      <th>0</th>\n",
       "      <td>0.000000</td>\n",
       "      <td>0.20996</td>\n",
       "      <td>0.031250</td>\n",
       "      <td>-0.44873</td>\n",
       "    </tr>\n",
       "    <tr>\n",
       "      <th>1</th>\n",
       "      <td>0.003906</td>\n",
       "      <td>0.20996</td>\n",
       "      <td>0.031250</td>\n",
       "      <td>-0.44873</td>\n",
       "    </tr>\n",
       "    <tr>\n",
       "      <th>2</th>\n",
       "      <td>0.007812</td>\n",
       "      <td>0.20996</td>\n",
       "      <td>0.031250</td>\n",
       "      <td>-0.44873</td>\n",
       "    </tr>\n",
       "    <tr>\n",
       "      <th>3</th>\n",
       "      <td>0.011719</td>\n",
       "      <td>0.21484</td>\n",
       "      <td>0.041016</td>\n",
       "      <td>-0.45361</td>\n",
       "    </tr>\n",
       "    <tr>\n",
       "      <th>4</th>\n",
       "      <td>0.015625</td>\n",
       "      <td>0.21484</td>\n",
       "      <td>0.041016</td>\n",
       "      <td>-0.45361</td>\n",
       "    </tr>\n",
       "  </tbody>\n",
       "</table>\n",
       "</div>"
      ],
      "text/plain": [
       "       time        x         y        z\n",
       "0  0.000000  0.20996  0.031250 -0.44873\n",
       "1  0.003906  0.20996  0.031250 -0.44873\n",
       "2  0.007812  0.20996  0.031250 -0.44873\n",
       "3  0.011719  0.21484  0.041016 -0.45361\n",
       "4  0.015625  0.21484  0.041016 -0.45361"
      ]
     },
     "execution_count": 10,
     "metadata": {},
     "output_type": "execute_result"
    }
   ],
   "source": [
    "magnetometer_data.head()"
   ]
  },
  {
   "cell_type": "code",
   "execution_count": 36,
   "metadata": {},
   "outputs": [],
   "source": [
    "magnetometer_data['magnitude'] = np.sqrt(np.square(magnetometer_data[['x', 'y', 'z']]).sum(axis=1))"
   ]
  },
  {
   "cell_type": "code",
   "execution_count": 37,
   "metadata": {},
   "outputs": [
    {
     "data": {
      "text/html": [
       "<div>\n",
       "<style scoped>\n",
       "    .dataframe tbody tr th:only-of-type {\n",
       "        vertical-align: middle;\n",
       "    }\n",
       "\n",
       "    .dataframe tbody tr th {\n",
       "        vertical-align: top;\n",
       "    }\n",
       "\n",
       "    .dataframe thead th {\n",
       "        text-align: right;\n",
       "    }\n",
       "</style>\n",
       "<table border=\"1\" class=\"dataframe\">\n",
       "  <thead>\n",
       "    <tr style=\"text-align: right;\">\n",
       "      <th></th>\n",
       "      <th>time</th>\n",
       "      <th>x</th>\n",
       "      <th>y</th>\n",
       "      <th>z</th>\n",
       "      <th>magnitude</th>\n",
       "    </tr>\n",
       "  </thead>\n",
       "  <tbody>\n",
       "    <tr>\n",
       "      <th>0</th>\n",
       "      <td>0.000000</td>\n",
       "      <td>0.003664</td>\n",
       "      <td>0.000545</td>\n",
       "      <td>-0.007832</td>\n",
       "      <td>0.008664</td>\n",
       "    </tr>\n",
       "    <tr>\n",
       "      <th>1</th>\n",
       "      <td>0.003906</td>\n",
       "      <td>0.003664</td>\n",
       "      <td>0.000545</td>\n",
       "      <td>-0.007832</td>\n",
       "      <td>0.008664</td>\n",
       "    </tr>\n",
       "    <tr>\n",
       "      <th>2</th>\n",
       "      <td>0.007812</td>\n",
       "      <td>0.003664</td>\n",
       "      <td>0.000545</td>\n",
       "      <td>-0.007832</td>\n",
       "      <td>0.008664</td>\n",
       "    </tr>\n",
       "    <tr>\n",
       "      <th>3</th>\n",
       "      <td>0.011719</td>\n",
       "      <td>0.003750</td>\n",
       "      <td>0.000716</td>\n",
       "      <td>-0.007917</td>\n",
       "      <td>0.008789</td>\n",
       "    </tr>\n",
       "    <tr>\n",
       "      <th>4</th>\n",
       "      <td>0.015625</td>\n",
       "      <td>0.003750</td>\n",
       "      <td>0.000716</td>\n",
       "      <td>-0.007917</td>\n",
       "      <td>0.008789</td>\n",
       "    </tr>\n",
       "  </tbody>\n",
       "</table>\n",
       "</div>"
      ],
      "text/plain": [
       "       time         x         y         z  magnitude\n",
       "0  0.000000  0.003664  0.000545 -0.007832   0.008664\n",
       "1  0.003906  0.003664  0.000545 -0.007832   0.008664\n",
       "2  0.007812  0.003664  0.000545 -0.007832   0.008664\n",
       "3  0.011719  0.003750  0.000716 -0.007917   0.008789\n",
       "4  0.015625  0.003750  0.000716 -0.007917   0.008789"
      ]
     },
     "execution_count": 37,
     "metadata": {},
     "output_type": "execute_result"
    }
   ],
   "source": [
    "magnetometer_data.head()"
   ]
  },
  {
   "cell_type": "markdown",
   "metadata": {},
   "source": [
    "Convert rotational rate from degrees/sec to radians/sec"
   ]
  },
  {
   "cell_type": "code",
   "execution_count": 11,
   "metadata": {},
   "outputs": [
    {
     "data": {
      "text/html": [
       "<div>\n",
       "<style scoped>\n",
       "    .dataframe tbody tr th:only-of-type {\n",
       "        vertical-align: middle;\n",
       "    }\n",
       "\n",
       "    .dataframe tbody tr th {\n",
       "        vertical-align: top;\n",
       "    }\n",
       "\n",
       "    .dataframe thead th {\n",
       "        text-align: right;\n",
       "    }\n",
       "</style>\n",
       "<table border=\"1\" class=\"dataframe\">\n",
       "  <thead>\n",
       "    <tr style=\"text-align: right;\">\n",
       "      <th></th>\n",
       "      <th>x</th>\n",
       "      <th>y</th>\n",
       "      <th>z</th>\n",
       "    </tr>\n",
       "  </thead>\n",
       "  <tbody>\n",
       "    <tr>\n",
       "      <th>0</th>\n",
       "      <td>-0.016362</td>\n",
       "      <td>-0.021817</td>\n",
       "      <td>0.015272</td>\n",
       "    </tr>\n",
       "    <tr>\n",
       "      <th>1</th>\n",
       "      <td>-0.016362</td>\n",
       "      <td>-0.021817</td>\n",
       "      <td>0.015272</td>\n",
       "    </tr>\n",
       "    <tr>\n",
       "      <th>2</th>\n",
       "      <td>-0.016362</td>\n",
       "      <td>-0.032725</td>\n",
       "      <td>0.004363</td>\n",
       "    </tr>\n",
       "    <tr>\n",
       "      <th>3</th>\n",
       "      <td>-0.022907</td>\n",
       "      <td>-0.034907</td>\n",
       "      <td>0.002182</td>\n",
       "    </tr>\n",
       "    <tr>\n",
       "      <th>4</th>\n",
       "      <td>-0.030543</td>\n",
       "      <td>-0.037088</td>\n",
       "      <td>0.000000</td>\n",
       "    </tr>\n",
       "  </tbody>\n",
       "</table>\n",
       "</div>"
      ],
      "text/plain": [
       "          x         y         z\n",
       "0 -0.016362 -0.021817  0.015272\n",
       "1 -0.016362 -0.021817  0.015272\n",
       "2 -0.016362 -0.032725  0.004363\n",
       "3 -0.022907 -0.034907  0.002182\n",
       "4 -0.030543 -0.037088  0.000000"
      ]
     },
     "execution_count": 11,
     "metadata": {},
     "output_type": "execute_result"
    }
   ],
   "source": [
    "gyroscope_data[['x', 'y', 'z']].applymap(lambda x: x * np.pi / 180).head()"
   ]
  },
  {
   "cell_type": "code",
   "execution_count": 12,
   "metadata": {},
   "outputs": [],
   "source": [
    "gyroscope_data[['x', 'y', 'z']] = np.radians(gyroscope_data[['x', 'y', 'z']])"
   ]
  },
  {
   "cell_type": "code",
   "execution_count": 13,
   "metadata": {},
   "outputs": [
    {
     "data": {
      "text/html": [
       "<div>\n",
       "<style scoped>\n",
       "    .dataframe tbody tr th:only-of-type {\n",
       "        vertical-align: middle;\n",
       "    }\n",
       "\n",
       "    .dataframe tbody tr th {\n",
       "        vertical-align: top;\n",
       "    }\n",
       "\n",
       "    .dataframe thead th {\n",
       "        text-align: right;\n",
       "    }\n",
       "</style>\n",
       "<table border=\"1\" class=\"dataframe\">\n",
       "  <thead>\n",
       "    <tr style=\"text-align: right;\">\n",
       "      <th></th>\n",
       "      <th>time</th>\n",
       "      <th>x</th>\n",
       "      <th>y</th>\n",
       "      <th>z</th>\n",
       "    </tr>\n",
       "  </thead>\n",
       "  <tbody>\n",
       "    <tr>\n",
       "      <th>0</th>\n",
       "      <td>0.000000</td>\n",
       "      <td>-0.016362</td>\n",
       "      <td>-0.021817</td>\n",
       "      <td>0.015272</td>\n",
       "    </tr>\n",
       "    <tr>\n",
       "      <th>1</th>\n",
       "      <td>0.003906</td>\n",
       "      <td>-0.016362</td>\n",
       "      <td>-0.021817</td>\n",
       "      <td>0.015272</td>\n",
       "    </tr>\n",
       "    <tr>\n",
       "      <th>2</th>\n",
       "      <td>0.007812</td>\n",
       "      <td>-0.016362</td>\n",
       "      <td>-0.032725</td>\n",
       "      <td>0.004363</td>\n",
       "    </tr>\n",
       "    <tr>\n",
       "      <th>3</th>\n",
       "      <td>0.011719</td>\n",
       "      <td>-0.022907</td>\n",
       "      <td>-0.034907</td>\n",
       "      <td>0.002182</td>\n",
       "    </tr>\n",
       "    <tr>\n",
       "      <th>4</th>\n",
       "      <td>0.015625</td>\n",
       "      <td>-0.030543</td>\n",
       "      <td>-0.037088</td>\n",
       "      <td>0.000000</td>\n",
       "    </tr>\n",
       "  </tbody>\n",
       "</table>\n",
       "</div>"
      ],
      "text/plain": [
       "       time         x         y         z\n",
       "0  0.000000 -0.016362 -0.021817  0.015272\n",
       "1  0.003906 -0.016362 -0.021817  0.015272\n",
       "2  0.007812 -0.016362 -0.032725  0.004363\n",
       "3  0.011719 -0.022907 -0.034907  0.002182\n",
       "4  0.015625 -0.030543 -0.037088  0.000000"
      ]
     },
     "execution_count": 13,
     "metadata": {},
     "output_type": "execute_result"
    }
   ],
   "source": [
    "gyroscope_data.head()"
   ]
  },
  {
   "cell_type": "code",
   "execution_count": 14,
   "metadata": {},
   "outputs": [],
   "source": [
    "accelerometer_data[['x', 'y', 'z']] = np.radians(accelerometer_data[['x', 'y', 'z']])"
   ]
  },
  {
   "cell_type": "code",
   "execution_count": 15,
   "metadata": {},
   "outputs": [
    {
     "data": {
      "text/html": [
       "<div>\n",
       "<style scoped>\n",
       "    .dataframe tbody tr th:only-of-type {\n",
       "        vertical-align: middle;\n",
       "    }\n",
       "\n",
       "    .dataframe tbody tr th {\n",
       "        vertical-align: top;\n",
       "    }\n",
       "\n",
       "    .dataframe thead th {\n",
       "        text-align: right;\n",
       "    }\n",
       "</style>\n",
       "<table border=\"1\" class=\"dataframe\">\n",
       "  <thead>\n",
       "    <tr style=\"text-align: right;\">\n",
       "      <th></th>\n",
       "      <th>time</th>\n",
       "      <th>x</th>\n",
       "      <th>y</th>\n",
       "      <th>z</th>\n",
       "    </tr>\n",
       "  </thead>\n",
       "  <tbody>\n",
       "    <tr>\n",
       "      <th>0</th>\n",
       "      <td>0.000000</td>\n",
       "      <td>0.000332</td>\n",
       "      <td>-0.000912</td>\n",
       "      <td>0.017070</td>\n",
       "    </tr>\n",
       "    <tr>\n",
       "      <th>1</th>\n",
       "      <td>0.003906</td>\n",
       "      <td>0.000332</td>\n",
       "      <td>-0.000912</td>\n",
       "      <td>0.017070</td>\n",
       "    </tr>\n",
       "    <tr>\n",
       "      <th>2</th>\n",
       "      <td>0.007812</td>\n",
       "      <td>0.000332</td>\n",
       "      <td>-0.001185</td>\n",
       "      <td>0.017411</td>\n",
       "    </tr>\n",
       "    <tr>\n",
       "      <th>3</th>\n",
       "      <td>0.011719</td>\n",
       "      <td>0.000469</td>\n",
       "      <td>-0.000571</td>\n",
       "      <td>0.017274</td>\n",
       "    </tr>\n",
       "    <tr>\n",
       "      <th>4</th>\n",
       "      <td>0.015625</td>\n",
       "      <td>0.000060</td>\n",
       "      <td>-0.000571</td>\n",
       "      <td>0.017342</td>\n",
       "    </tr>\n",
       "  </tbody>\n",
       "</table>\n",
       "</div>"
      ],
      "text/plain": [
       "       time         x         y         z\n",
       "0  0.000000  0.000332 -0.000912  0.017070\n",
       "1  0.003906  0.000332 -0.000912  0.017070\n",
       "2  0.007812  0.000332 -0.001185  0.017411\n",
       "3  0.011719  0.000469 -0.000571  0.017274\n",
       "4  0.015625  0.000060 -0.000571  0.017342"
      ]
     },
     "execution_count": 15,
     "metadata": {},
     "output_type": "execute_result"
    }
   ],
   "source": [
    "accelerometer_data.head()"
   ]
  },
  {
   "cell_type": "code",
   "execution_count": 16,
   "metadata": {},
   "outputs": [],
   "source": [
    "magnetometer_data[['x', 'y', 'z']] = np.radians(magnetometer_data[['x', 'y', 'z']])"
   ]
  },
  {
   "cell_type": "code",
   "execution_count": 17,
   "metadata": {},
   "outputs": [
    {
     "data": {
      "text/html": [
       "<div>\n",
       "<style scoped>\n",
       "    .dataframe tbody tr th:only-of-type {\n",
       "        vertical-align: middle;\n",
       "    }\n",
       "\n",
       "    .dataframe tbody tr th {\n",
       "        vertical-align: top;\n",
       "    }\n",
       "\n",
       "    .dataframe thead th {\n",
       "        text-align: right;\n",
       "    }\n",
       "</style>\n",
       "<table border=\"1\" class=\"dataframe\">\n",
       "  <thead>\n",
       "    <tr style=\"text-align: right;\">\n",
       "      <th></th>\n",
       "      <th>time</th>\n",
       "      <th>x</th>\n",
       "      <th>y</th>\n",
       "      <th>z</th>\n",
       "    </tr>\n",
       "  </thead>\n",
       "  <tbody>\n",
       "    <tr>\n",
       "      <th>0</th>\n",
       "      <td>0.000000</td>\n",
       "      <td>0.003664</td>\n",
       "      <td>0.000545</td>\n",
       "      <td>-0.007832</td>\n",
       "    </tr>\n",
       "    <tr>\n",
       "      <th>1</th>\n",
       "      <td>0.003906</td>\n",
       "      <td>0.003664</td>\n",
       "      <td>0.000545</td>\n",
       "      <td>-0.007832</td>\n",
       "    </tr>\n",
       "    <tr>\n",
       "      <th>2</th>\n",
       "      <td>0.007812</td>\n",
       "      <td>0.003664</td>\n",
       "      <td>0.000545</td>\n",
       "      <td>-0.007832</td>\n",
       "    </tr>\n",
       "    <tr>\n",
       "      <th>3</th>\n",
       "      <td>0.011719</td>\n",
       "      <td>0.003750</td>\n",
       "      <td>0.000716</td>\n",
       "      <td>-0.007917</td>\n",
       "    </tr>\n",
       "    <tr>\n",
       "      <th>4</th>\n",
       "      <td>0.015625</td>\n",
       "      <td>0.003750</td>\n",
       "      <td>0.000716</td>\n",
       "      <td>-0.007917</td>\n",
       "    </tr>\n",
       "  </tbody>\n",
       "</table>\n",
       "</div>"
      ],
      "text/plain": [
       "       time         x         y         z\n",
       "0  0.000000  0.003664  0.000545 -0.007832\n",
       "1  0.003906  0.003664  0.000545 -0.007832\n",
       "2  0.007812  0.003664  0.000545 -0.007832\n",
       "3  0.011719  0.003750  0.000716 -0.007917\n",
       "4  0.015625  0.003750  0.000716 -0.007917"
      ]
     },
     "execution_count": 17,
     "metadata": {},
     "output_type": "execute_result"
    }
   ],
   "source": [
    "magnetometer_data.head()"
   ]
  },
  {
   "cell_type": "markdown",
   "metadata": {},
   "source": [
    "Normalize magnitude of both the accelerometer and magnetometer (MinMax scalar)"
   ]
  },
  {
   "cell_type": "code",
   "execution_count": 18,
   "metadata": {},
   "outputs": [],
   "source": [
    "min_magnetometer = magnetometer_data[['x', 'y', 'z']].min()"
   ]
  },
  {
   "cell_type": "code",
   "execution_count": 19,
   "metadata": {},
   "outputs": [
    {
     "data": {
      "text/plain": [
       "x   -0.008002\n",
       "y   -0.008053\n",
       "z   -0.008633\n",
       "dtype: float64"
      ]
     },
     "execution_count": 19,
     "metadata": {},
     "output_type": "execute_result"
    }
   ],
   "source": [
    "min_magnetometer"
   ]
  },
  {
   "cell_type": "code",
   "execution_count": 20,
   "metadata": {},
   "outputs": [],
   "source": [
    "max_magnetometer = magnetometer_data[['x', 'y', 'z']].max()"
   ]
  },
  {
   "cell_type": "code",
   "execution_count": 21,
   "metadata": {},
   "outputs": [
    {
     "data": {
      "text/plain": [
       "x    0.008812\n",
       "y    0.007712\n",
       "z    0.004014\n",
       "dtype: float64"
      ]
     },
     "execution_count": 21,
     "metadata": {},
     "output_type": "execute_result"
    }
   ],
   "source": [
    "max_magnetometer"
   ]
  },
  {
   "cell_type": "code",
   "execution_count": 22,
   "metadata": {},
   "outputs": [
    {
     "data": {
      "text/html": [
       "<div>\n",
       "<style scoped>\n",
       "    .dataframe tbody tr th:only-of-type {\n",
       "        vertical-align: middle;\n",
       "    }\n",
       "\n",
       "    .dataframe tbody tr th {\n",
       "        vertical-align: top;\n",
       "    }\n",
       "\n",
       "    .dataframe thead th {\n",
       "        text-align: right;\n",
       "    }\n",
       "</style>\n",
       "<table border=\"1\" class=\"dataframe\">\n",
       "  <thead>\n",
       "    <tr style=\"text-align: right;\">\n",
       "      <th></th>\n",
       "      <th>x</th>\n",
       "      <th>y</th>\n",
       "      <th>z</th>\n",
       "    </tr>\n",
       "  </thead>\n",
       "  <tbody>\n",
       "    <tr>\n",
       "      <th>0</th>\n",
       "      <td>0.693870</td>\n",
       "      <td>0.545410</td>\n",
       "      <td>0.063344</td>\n",
       "    </tr>\n",
       "    <tr>\n",
       "      <th>1</th>\n",
       "      <td>0.693870</td>\n",
       "      <td>0.545410</td>\n",
       "      <td>0.063344</td>\n",
       "    </tr>\n",
       "    <tr>\n",
       "      <th>2</th>\n",
       "      <td>0.693870</td>\n",
       "      <td>0.545410</td>\n",
       "      <td>0.063344</td>\n",
       "    </tr>\n",
       "    <tr>\n",
       "      <th>3</th>\n",
       "      <td>0.698935</td>\n",
       "      <td>0.556221</td>\n",
       "      <td>0.056610</td>\n",
       "    </tr>\n",
       "    <tr>\n",
       "      <th>4</th>\n",
       "      <td>0.698935</td>\n",
       "      <td>0.556221</td>\n",
       "      <td>0.056610</td>\n",
       "    </tr>\n",
       "  </tbody>\n",
       "</table>\n",
       "</div>"
      ],
      "text/plain": [
       "          x         y         z\n",
       "0  0.693870  0.545410  0.063344\n",
       "1  0.693870  0.545410  0.063344\n",
       "2  0.693870  0.545410  0.063344\n",
       "3  0.698935  0.556221  0.056610\n",
       "4  0.698935  0.556221  0.056610"
      ]
     },
     "execution_count": 22,
     "metadata": {},
     "output_type": "execute_result"
    }
   ],
   "source": [
    "((magnetometer_data[['x', 'y', 'z']]  - min_magnetometer) / (max_magnetometer - min_magnetometer)).head()"
   ]
  },
  {
   "cell_type": "code",
   "execution_count": 23,
   "metadata": {},
   "outputs": [],
   "source": [
    "min_accelerometer = accelerometer_data[['x', 'y', 'z']].min()"
   ]
  },
  {
   "cell_type": "code",
   "execution_count": 24,
   "metadata": {},
   "outputs": [
    {
     "data": {
      "text/plain": [
       "x   -0.018689\n",
       "y   -0.018450\n",
       "z   -0.003051\n",
       "dtype: float64"
      ]
     },
     "execution_count": 24,
     "metadata": {},
     "output_type": "execute_result"
    }
   ],
   "source": [
    "min_accelerometer"
   ]
  },
  {
   "cell_type": "code",
   "execution_count": 25,
   "metadata": {},
   "outputs": [],
   "source": [
    "max_accelerometer = accelerometer_data[['x', 'y', 'z']].max()"
   ]
  },
  {
   "cell_type": "code",
   "execution_count": 26,
   "metadata": {},
   "outputs": [
    {
     "data": {
      "text/plain": [
       "x    0.020956\n",
       "y    0.018382\n",
       "z    0.029861\n",
       "dtype: float64"
      ]
     },
     "execution_count": 26,
     "metadata": {},
     "output_type": "execute_result"
    }
   ],
   "source": [
    "max_accelerometer"
   ]
  },
  {
   "cell_type": "code",
   "execution_count": 27,
   "metadata": {},
   "outputs": [
    {
     "data": {
      "text/html": [
       "<div>\n",
       "<style scoped>\n",
       "    .dataframe tbody tr th:only-of-type {\n",
       "        vertical-align: middle;\n",
       "    }\n",
       "\n",
       "    .dataframe tbody tr th {\n",
       "        vertical-align: top;\n",
       "    }\n",
       "\n",
       "    .dataframe thead th {\n",
       "        text-align: right;\n",
       "    }\n",
       "</style>\n",
       "<table border=\"1\" class=\"dataframe\">\n",
       "  <thead>\n",
       "    <tr style=\"text-align: right;\">\n",
       "      <th></th>\n",
       "      <th>x</th>\n",
       "      <th>y</th>\n",
       "      <th>z</th>\n",
       "    </tr>\n",
       "  </thead>\n",
       "  <tbody>\n",
       "    <tr>\n",
       "      <th>0</th>\n",
       "      <td>0.479790</td>\n",
       "      <td>0.476166</td>\n",
       "      <td>0.611354</td>\n",
       "    </tr>\n",
       "    <tr>\n",
       "      <th>1</th>\n",
       "      <td>0.479790</td>\n",
       "      <td>0.476166</td>\n",
       "      <td>0.611354</td>\n",
       "    </tr>\n",
       "    <tr>\n",
       "      <th>2</th>\n",
       "      <td>0.479790</td>\n",
       "      <td>0.468762</td>\n",
       "      <td>0.621711</td>\n",
       "    </tr>\n",
       "    <tr>\n",
       "      <th>3</th>\n",
       "      <td>0.483229</td>\n",
       "      <td>0.485422</td>\n",
       "      <td>0.617569</td>\n",
       "    </tr>\n",
       "    <tr>\n",
       "      <th>4</th>\n",
       "      <td>0.472911</td>\n",
       "      <td>0.485422</td>\n",
       "      <td>0.619637</td>\n",
       "    </tr>\n",
       "  </tbody>\n",
       "</table>\n",
       "</div>"
      ],
      "text/plain": [
       "          x         y         z\n",
       "0  0.479790  0.476166  0.611354\n",
       "1  0.479790  0.476166  0.611354\n",
       "2  0.479790  0.468762  0.621711\n",
       "3  0.483229  0.485422  0.617569\n",
       "4  0.472911  0.485422  0.619637"
      ]
     },
     "execution_count": 27,
     "metadata": {},
     "output_type": "execute_result"
    }
   ],
   "source": [
    "((accelerometer_data[['x', 'y', 'z']] - min_accelerometer) / (max_accelerometer - min_accelerometer)).head()"
   ]
  },
  {
   "cell_type": "code",
   "execution_count": 41,
   "metadata": {},
   "outputs": [
    {
     "data": {
      "text/plain": [
       "0    0.008664\n",
       "1    0.008664\n",
       "2    0.008664\n",
       "3    0.008789\n",
       "4    0.008789\n",
       "dtype: float64"
      ]
     },
     "execution_count": 41,
     "metadata": {},
     "output_type": "execute_result"
    }
   ],
   "source": [
    "np.sqrt(np.square(magnetometer_data[['x', 'y', 'z']]).sum(axis=1)).head()"
   ]
  },
  {
   "cell_type": "markdown",
   "metadata": {},
   "source": [
    "Normalize the magnitude of accelerometer"
   ]
  },
  {
   "cell_type": "code",
   "execution_count": 43,
   "metadata": {},
   "outputs": [
    {
     "data": {
      "text/html": [
       "<div>\n",
       "<style scoped>\n",
       "    .dataframe tbody tr th:only-of-type {\n",
       "        vertical-align: middle;\n",
       "    }\n",
       "\n",
       "    .dataframe tbody tr th {\n",
       "        vertical-align: top;\n",
       "    }\n",
       "\n",
       "    .dataframe thead th {\n",
       "        text-align: right;\n",
       "    }\n",
       "</style>\n",
       "<table border=\"1\" class=\"dataframe\">\n",
       "  <thead>\n",
       "    <tr style=\"text-align: right;\">\n",
       "      <th></th>\n",
       "      <th>magnitude</th>\n",
       "    </tr>\n",
       "  </thead>\n",
       "  <tbody>\n",
       "    <tr>\n",
       "      <th>0</th>\n",
       "      <td>0.426219</td>\n",
       "    </tr>\n",
       "    <tr>\n",
       "      <th>1</th>\n",
       "      <td>0.426219</td>\n",
       "    </tr>\n",
       "    <tr>\n",
       "      <th>2</th>\n",
       "      <td>0.442106</td>\n",
       "    </tr>\n",
       "    <tr>\n",
       "      <th>3</th>\n",
       "      <td>0.434805</td>\n",
       "    </tr>\n",
       "    <tr>\n",
       "      <th>4</th>\n",
       "      <td>0.437556</td>\n",
       "    </tr>\n",
       "  </tbody>\n",
       "</table>\n",
       "</div>"
      ],
      "text/plain": [
       "   magnitude\n",
       "0   0.426219\n",
       "1   0.426219\n",
       "2   0.442106\n",
       "3   0.434805\n",
       "4   0.437556"
      ]
     },
     "execution_count": 43,
     "metadata": {},
     "output_type": "execute_result"
    }
   ],
   "source": [
    "min_accelerometer = accelerometer_data[['magnitude']].min()\n",
    "max_accelerometer = accelerometer_data[['magnitude']].max()\n",
    "((accelerometer_data[['magnitude']] - min_accelerometer) / (max_accelerometer - min_accelerometer)).head()"
   ]
  },
  {
   "cell_type": "markdown",
   "metadata": {},
   "source": [
    "Normalize the magnitude of magnetometer"
   ]
  },
  {
   "cell_type": "code",
   "execution_count": 44,
   "metadata": {},
   "outputs": [
    {
     "data": {
      "text/html": [
       "<div>\n",
       "<style scoped>\n",
       "    .dataframe tbody tr th:only-of-type {\n",
       "        vertical-align: middle;\n",
       "    }\n",
       "\n",
       "    .dataframe tbody tr th {\n",
       "        vertical-align: top;\n",
       "    }\n",
       "\n",
       "    .dataframe thead th {\n",
       "        text-align: right;\n",
       "    }\n",
       "</style>\n",
       "<table border=\"1\" class=\"dataframe\">\n",
       "  <thead>\n",
       "    <tr style=\"text-align: right;\">\n",
       "      <th></th>\n",
       "      <th>magnitude</th>\n",
       "    </tr>\n",
       "  </thead>\n",
       "  <tbody>\n",
       "    <tr>\n",
       "      <th>0</th>\n",
       "      <td>0.699741</td>\n",
       "    </tr>\n",
       "    <tr>\n",
       "      <th>1</th>\n",
       "      <td>0.699741</td>\n",
       "    </tr>\n",
       "    <tr>\n",
       "      <th>2</th>\n",
       "      <td>0.699741</td>\n",
       "    </tr>\n",
       "    <tr>\n",
       "      <th>3</th>\n",
       "      <td>0.849626</td>\n",
       "    </tr>\n",
       "    <tr>\n",
       "      <th>4</th>\n",
       "      <td>0.849626</td>\n",
       "    </tr>\n",
       "  </tbody>\n",
       "</table>\n",
       "</div>"
      ],
      "text/plain": [
       "   magnitude\n",
       "0   0.699741\n",
       "1   0.699741\n",
       "2   0.699741\n",
       "3   0.849626\n",
       "4   0.849626"
      ]
     },
     "execution_count": 44,
     "metadata": {},
     "output_type": "execute_result"
    }
   ],
   "source": [
    "min_magnetometer = magnetometer_data[['magnitude']].min()\n",
    "max_magnetometer = magnetometer_data[['magnitude']].max()\n",
    "((magnetometer_data[['magnitude']] - min_magnetometer) / (max_magnetometer - min_magnetometer)).head()"
   ]
  },
  {
   "cell_type": "code",
   "execution_count": 39,
   "metadata": {},
   "outputs": [
    {
     "data": {
      "text/plain": [
       "array([[0.47979001, 0.47616642, 0.61135387],\n",
       "       [0.47979001, 0.47616642, 0.61135387],\n",
       "       [0.47979001, 0.46876226, 0.62171077],\n",
       "       ...,\n",
       "       [0.45915386, 0.46691134, 0.62586838],\n",
       "       [0.45571429, 0.45765578, 0.62586838],\n",
       "       [0.45399472, 0.46320902, 0.61549557]])"
      ]
     },
     "execution_count": 39,
     "metadata": {},
     "output_type": "execute_result"
    }
   ],
   "source": [
    "from sklearn.preprocessing import MinMaxScaler\n",
    "\n",
    "scaler = MinMaxScaler() \n",
    "scaled_values = scaler.fit_transform(accelerometer_data[['x', 'y', 'z']]) \n",
    "scaled_values"
   ]
  },
  {
   "cell_type": "markdown",
   "metadata": {},
   "source": [
    "source [wikipedia](https://en.wikipedia.org/wiki/Conversion_between_quaternions_and_Euler_angles)  \n",
    "The Euler angles: yaw (Y), pitch (X), roll (Z)"
   ]
  },
  {
   "cell_type": "code",
   "execution_count": 38,
   "metadata": {},
   "outputs": [],
   "source": [
    "def euler2quaternions(yaw, pitch, roll):\n",
    "    # Abbreviations for the various angular functions\n",
    "    cy = np.cos(yaw * 0.5)\n",
    "    sy = np.sin(yaw * 0.5)\n",
    "    cp = np.cos(pitch * 0.5)\n",
    "    sp = np.sin(pitch * 0.5)\n",
    "    cr = np.cos(roll * 0.5)\n",
    "    sr = np.sin(roll * 0.5)\n",
    "\n",
    "    q_w = cy * cp * cr + sy * sp * sr\n",
    "    q_x = cy * cp * sr - sy * sp * cr\n",
    "    q_y = sy * cp * sr + cy * sp * cr\n",
    "    q_z = sy * cp * cr - cy * sp * sr\n",
    "    return np.array([[q_w, q_x, q_y, q_z]])"
   ]
  },
  {
   "cell_type": "code",
   "execution_count": 46,
   "metadata": {},
   "outputs": [],
   "source": [
    "def quaternions2euler(quaterniond):\n",
    "    # roll (x-axis rotation)\n",
    "    q_w = quaterniond[0][0]\n",
    "    q_x = quaterniond[0][1]\n",
    "    q_y = quaterniond[0][2]\n",
    "    q_z = quaterniond[0][3]\n",
    "    sinr_cosp = +2.0 * (q_w * q_x + q_y * q_z)\n",
    "    cosr_cosp = +1.0 - 2.0 * (q_x * q_x + q_y * q_y)\n",
    "    roll = atan2(sinr_cosp, cosr_cosp)\n",
    "\n",
    "    # pitch (y-axis rotation)\n",
    "    sinp = 2.0 * (q_w * q_y - q_z * q_x);\n",
    "    if (fabs(sinp) >= 1): pitch = copysign(M_PI / 2, sinp) # use 90 degrees if out of range\n",
    "    else: pitch = asin(sinp)\n",
    "\n",
    "    # yaw (z-axis rotation)\n",
    "    siny_cosp = 2.0 * (q_w * q_z + q_x * qy)\n",
    "    yaw = atan2(siny_cosp, cosy_cosp)\n",
    "    return np.array([[roll, pitch, yaw]])"
   ]
  },
  {
   "cell_type": "markdown",
   "metadata": {},
   "source": [
    "The quaternion conjugate has the form of\n",
    "q' = q0 − iq1 − jq2 − kq3"
   ]
  },
  {
   "cell_type": "code",
   "execution_count": 54,
   "metadata": {},
   "outputs": [],
   "source": [
    "def quaternions_conjugate(quaternion):\n",
    "    return quaternion * np.array([[1, -1, -1, -1]])"
   ]
  },
  {
   "cell_type": "code",
   "execution_count": 55,
   "metadata": {},
   "outputs": [],
   "source": [
    "def quaternions_product(a, b):\n",
    "    w0, x0, y0, z0 = a[0]\n",
    "    w1, x1, y1, z1 = b[0]\n",
    "    return np.array([-x1 * x0 - y1 * y0 - z1 * z0 + w1 * w0,\n",
    "                     x1 * w0 + y1 * z0 - z1 * y0 + w1 * x0,\n",
    "                     -x1 * z0 + y1 * w0 + z1 * x0 + w1 * y0,\n",
    "                     x1 * y0 - y1 * x0 + z1 * w0 + w1 * z0], dtype=np.float64)"
   ]
  },
  {
   "cell_type": "code",
   "execution_count": 56,
   "metadata": {},
   "outputs": [],
   "source": [
    "a = np.array([[1,2,3,4]])\n",
    "b = np.array([[1,2,3,4]])"
   ]
  },
  {
   "cell_type": "code",
   "execution_count": 57,
   "metadata": {},
   "outputs": [
    {
     "data": {
      "text/plain": [
       "array([-28.,   4.,   6.,   8.])"
      ]
     },
     "execution_count": 57,
     "metadata": {},
     "output_type": "execute_result"
    }
   ],
   "source": [
    "quaternions_product(a,b)"
   ]
  },
  {
   "cell_type": "markdown",
   "metadata": {},
   "source": [
    "# PROBLEM 2"
   ]
  },
  {
   "cell_type": "code",
   "execution_count": null,
   "metadata": {},
   "outputs": [],
   "source": []
  }
 ],
 "metadata": {
  "kernelspec": {
   "display_name": "Python 3",
   "language": "python",
   "name": "python3"
  },
  "language_info": {
   "codemirror_mode": {
    "name": "ipython",
    "version": 3
   },
   "file_extension": ".py",
   "mimetype": "text/x-python",
   "name": "python",
   "nbconvert_exporter": "python",
   "pygments_lexer": "ipython3",
   "version": "3.6.8"
  }
 },
 "nbformat": 4,
 "nbformat_minor": 1
}
