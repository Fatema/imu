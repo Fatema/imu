{
 "cells": [
  {
   "cell_type": "code",
   "execution_count": 1,
   "metadata": {},
   "outputs": [],
   "source": [
    "import pandas as pd\n",
    "import numpy as np\n",
    "import matplotlib.pyplot as plt \n",
    "import math\n",
    "%matplotlib inline"
   ]
  },
  {
   "cell_type": "markdown",
   "metadata": {},
   "source": [
    "# PROBLEM 1"
   ]
  },
  {
   "cell_type": "markdown",
   "metadata": {},
   "source": [
    "Read IMUdata using pandas dataframe"
   ]
  },
  {
   "cell_type": "code",
   "execution_count": 2,
   "metadata": {},
   "outputs": [],
   "source": [
    "imu_data = pd.read_csv('IMUData.csv')"
   ]
  },
  {
   "cell_type": "code",
   "execution_count": 3,
   "metadata": {},
   "outputs": [
    {
     "data": {
      "text/html": [
       "<div>\n",
       "<style scoped>\n",
       "    .dataframe tbody tr th:only-of-type {\n",
       "        vertical-align: middle;\n",
       "    }\n",
       "\n",
       "    .dataframe tbody tr th {\n",
       "        vertical-align: top;\n",
       "    }\n",
       "\n",
       "    .dataframe thead th {\n",
       "        text-align: right;\n",
       "    }\n",
       "</style>\n",
       "<table border=\"1\" class=\"dataframe\">\n",
       "  <thead>\n",
       "    <tr style=\"text-align: right;\">\n",
       "      <th></th>\n",
       "      <th>time</th>\n",
       "      <th>gyroscope.X</th>\n",
       "      <th>gyroscope.Y</th>\n",
       "      <th>gyroscope.Z</th>\n",
       "      <th>accelerometer.X</th>\n",
       "      <th>accelerometer.Y</th>\n",
       "      <th>accelerometer.Z</th>\n",
       "      <th>magnetometer.X</th>\n",
       "      <th>magnetometer.Y</th>\n",
       "      <th>magnetometer.Z</th>\n",
       "    </tr>\n",
       "  </thead>\n",
       "  <tbody>\n",
       "    <tr>\n",
       "      <th>0</th>\n",
       "      <td>0.000000</td>\n",
       "      <td>-0.9375</td>\n",
       "      <td>-1.250</td>\n",
       "      <td>0.875</td>\n",
       "      <td>0.019043</td>\n",
       "      <td>-0.052246</td>\n",
       "      <td>0.97803</td>\n",
       "      <td>0.20996</td>\n",
       "      <td>0.031250</td>\n",
       "      <td>-0.44873</td>\n",
       "    </tr>\n",
       "    <tr>\n",
       "      <th>1</th>\n",
       "      <td>0.003906</td>\n",
       "      <td>-0.9375</td>\n",
       "      <td>-1.250</td>\n",
       "      <td>0.875</td>\n",
       "      <td>0.019043</td>\n",
       "      <td>-0.052246</td>\n",
       "      <td>0.97803</td>\n",
       "      <td>0.20996</td>\n",
       "      <td>0.031250</td>\n",
       "      <td>-0.44873</td>\n",
       "    </tr>\n",
       "    <tr>\n",
       "      <th>2</th>\n",
       "      <td>0.007812</td>\n",
       "      <td>-0.9375</td>\n",
       "      <td>-1.875</td>\n",
       "      <td>0.250</td>\n",
       "      <td>0.019043</td>\n",
       "      <td>-0.067871</td>\n",
       "      <td>0.99756</td>\n",
       "      <td>0.20996</td>\n",
       "      <td>0.031250</td>\n",
       "      <td>-0.44873</td>\n",
       "    </tr>\n",
       "    <tr>\n",
       "      <th>3</th>\n",
       "      <td>0.011719</td>\n",
       "      <td>-1.3125</td>\n",
       "      <td>-2.000</td>\n",
       "      <td>0.125</td>\n",
       "      <td>0.026855</td>\n",
       "      <td>-0.032715</td>\n",
       "      <td>0.98975</td>\n",
       "      <td>0.21484</td>\n",
       "      <td>0.041016</td>\n",
       "      <td>-0.45361</td>\n",
       "    </tr>\n",
       "    <tr>\n",
       "      <th>4</th>\n",
       "      <td>0.015625</td>\n",
       "      <td>-1.7500</td>\n",
       "      <td>-2.125</td>\n",
       "      <td>0.000</td>\n",
       "      <td>0.003418</td>\n",
       "      <td>-0.032715</td>\n",
       "      <td>0.99365</td>\n",
       "      <td>0.21484</td>\n",
       "      <td>0.041016</td>\n",
       "      <td>-0.45361</td>\n",
       "    </tr>\n",
       "  </tbody>\n",
       "</table>\n",
       "</div>"
      ],
      "text/plain": [
       "       time   gyroscope.X   gyroscope.Y   gyroscope.Z   accelerometer.X  \\\n",
       "0  0.000000       -0.9375        -1.250         0.875          0.019043   \n",
       "1  0.003906       -0.9375        -1.250         0.875          0.019043   \n",
       "2  0.007812       -0.9375        -1.875         0.250          0.019043   \n",
       "3  0.011719       -1.3125        -2.000         0.125          0.026855   \n",
       "4  0.015625       -1.7500        -2.125         0.000          0.003418   \n",
       "\n",
       "    accelerometer.Y   accelerometer.Z   magnetometer.X   magnetometer.Y  \\\n",
       "0         -0.052246           0.97803          0.20996         0.031250   \n",
       "1         -0.052246           0.97803          0.20996         0.031250   \n",
       "2         -0.067871           0.99756          0.20996         0.031250   \n",
       "3         -0.032715           0.98975          0.21484         0.041016   \n",
       "4         -0.032715           0.99365          0.21484         0.041016   \n",
       "\n",
       "    magnetometer.Z   \n",
       "0          -0.44873  \n",
       "1          -0.44873  \n",
       "2          -0.44873  \n",
       "3          -0.45361  \n",
       "4          -0.45361  "
      ]
     },
     "execution_count": 3,
     "metadata": {},
     "output_type": "execute_result"
    },
    {
     "data": {
      "text/html": [
       "<div>\n",
       "<style scoped>\n",
       "    .dataframe tbody tr th:only-of-type {\n",
       "        vertical-align: middle;\n",
       "    }\n",
       "\n",
       "    .dataframe tbody tr th {\n",
       "        vertical-align: top;\n",
       "    }\n",
       "\n",
       "    .dataframe thead th {\n",
       "        text-align: right;\n",
       "    }\n",
       "</style>\n",
       "<table border=\"1\" class=\"dataframe\">\n",
       "  <thead>\n",
       "    <tr style=\"text-align: right;\">\n",
       "      <th></th>\n",
       "      <th>time</th>\n",
       "      <th>gyroscope.X</th>\n",
       "      <th>gyroscope.Y</th>\n",
       "      <th>gyroscope.Z</th>\n",
       "      <th>accelerometer.X</th>\n",
       "      <th>accelerometer.Y</th>\n",
       "      <th>accelerometer.Z</th>\n",
       "      <th>magnetometer.X</th>\n",
       "      <th>magnetometer.Y</th>\n",
       "      <th>magnetometer.Z</th>\n",
       "    </tr>\n",
       "  </thead>\n",
       "  <tbody>\n",
       "    <tr>\n",
       "      <th>0</th>\n",
       "      <td>0.000000</td>\n",
       "      <td>-0.9375</td>\n",
       "      <td>-1.250</td>\n",
       "      <td>0.875</td>\n",
       "      <td>0.019043</td>\n",
       "      <td>-0.052246</td>\n",
       "      <td>0.97803</td>\n",
       "      <td>0.20996</td>\n",
       "      <td>0.031250</td>\n",
       "      <td>-0.44873</td>\n",
       "    </tr>\n",
       "    <tr>\n",
       "      <th>1</th>\n",
       "      <td>0.003906</td>\n",
       "      <td>-0.9375</td>\n",
       "      <td>-1.250</td>\n",
       "      <td>0.875</td>\n",
       "      <td>0.019043</td>\n",
       "      <td>-0.052246</td>\n",
       "      <td>0.97803</td>\n",
       "      <td>0.20996</td>\n",
       "      <td>0.031250</td>\n",
       "      <td>-0.44873</td>\n",
       "    </tr>\n",
       "    <tr>\n",
       "      <th>2</th>\n",
       "      <td>0.007812</td>\n",
       "      <td>-0.9375</td>\n",
       "      <td>-1.875</td>\n",
       "      <td>0.250</td>\n",
       "      <td>0.019043</td>\n",
       "      <td>-0.067871</td>\n",
       "      <td>0.99756</td>\n",
       "      <td>0.20996</td>\n",
       "      <td>0.031250</td>\n",
       "      <td>-0.44873</td>\n",
       "    </tr>\n",
       "    <tr>\n",
       "      <th>3</th>\n",
       "      <td>0.011719</td>\n",
       "      <td>-1.3125</td>\n",
       "      <td>-2.000</td>\n",
       "      <td>0.125</td>\n",
       "      <td>0.026855</td>\n",
       "      <td>-0.032715</td>\n",
       "      <td>0.98975</td>\n",
       "      <td>0.21484</td>\n",
       "      <td>0.041016</td>\n",
       "      <td>-0.45361</td>\n",
       "    </tr>\n",
       "    <tr>\n",
       "      <th>4</th>\n",
       "      <td>0.015625</td>\n",
       "      <td>-1.7500</td>\n",
       "      <td>-2.125</td>\n",
       "      <td>0.000</td>\n",
       "      <td>0.003418</td>\n",
       "      <td>-0.032715</td>\n",
       "      <td>0.99365</td>\n",
       "      <td>0.21484</td>\n",
       "      <td>0.041016</td>\n",
       "      <td>-0.45361</td>\n",
       "    </tr>\n",
       "  </tbody>\n",
       "</table>\n",
       "</div>"
      ],
      "text/plain": [
       "       time   gyroscope.X   gyroscope.Y   gyroscope.Z   accelerometer.X  \\\n",
       "0  0.000000       -0.9375        -1.250         0.875          0.019043   \n",
       "1  0.003906       -0.9375        -1.250         0.875          0.019043   \n",
       "2  0.007812       -0.9375        -1.875         0.250          0.019043   \n",
       "3  0.011719       -1.3125        -2.000         0.125          0.026855   \n",
       "4  0.015625       -1.7500        -2.125         0.000          0.003418   \n",
       "\n",
       "    accelerometer.Y   accelerometer.Z   magnetometer.X   magnetometer.Y  \\\n",
       "0         -0.052246           0.97803          0.20996         0.031250   \n",
       "1         -0.052246           0.97803          0.20996         0.031250   \n",
       "2         -0.067871           0.99756          0.20996         0.031250   \n",
       "3         -0.032715           0.98975          0.21484         0.041016   \n",
       "4         -0.032715           0.99365          0.21484         0.041016   \n",
       "\n",
       "    magnetometer.Z   \n",
       "0          -0.44873  \n",
       "1          -0.44873  \n",
       "2          -0.44873  \n",
       "3          -0.45361  \n",
       "4          -0.45361  "
      ]
     },
     "execution_count": 3,
     "metadata": {},
     "output_type": "execute_result"
    }
   ],
   "source": [
    "imu_data.head()"
   ]
  },
  {
   "cell_type": "code",
   "execution_count": 4,
   "metadata": {},
   "outputs": [
    {
     "data": {
      "text/plain": [
       "Index(['time', ' gyroscope.X', ' gyroscope.Y', ' gyroscope.Z',\n",
       "       ' accelerometer.X', ' accelerometer.Y', ' accelerometer.Z',\n",
       "       ' magnetometer.X', ' magnetometer.Y', ' magnetometer.Z '],\n",
       "      dtype='object')"
      ]
     },
     "execution_count": 4,
     "metadata": {},
     "output_type": "execute_result"
    },
    {
     "data": {
      "text/plain": [
       "Index(['time', ' gyroscope.X', ' gyroscope.Y', ' gyroscope.Z',\n",
       "       ' accelerometer.X', ' accelerometer.Y', ' accelerometer.Z',\n",
       "       ' magnetometer.X', ' magnetometer.Y', ' magnetometer.Z '],\n",
       "      dtype='object')"
      ]
     },
     "execution_count": 4,
     "metadata": {},
     "output_type": "execute_result"
    }
   ],
   "source": [
    "imu_data.columns"
   ]
  },
  {
   "cell_type": "markdown",
   "metadata": {},
   "source": [
    "## Gyroscope data"
   ]
  },
  {
   "cell_type": "code",
   "execution_count": 5,
   "metadata": {},
   "outputs": [],
   "source": [
    "gyroscope_data = imu_data[['time', ' gyroscope.X', ' gyroscope.Y', ' gyroscope.Z']].rename(columns = {' gyroscope.X':'x', ' gyroscope.Y':'y', ' gyroscope.Z':'z'})"
   ]
  },
  {
   "cell_type": "code",
   "execution_count": 6,
   "metadata": {
    "scrolled": true
   },
   "outputs": [
    {
     "data": {
      "text/html": [
       "<div>\n",
       "<style scoped>\n",
       "    .dataframe tbody tr th:only-of-type {\n",
       "        vertical-align: middle;\n",
       "    }\n",
       "\n",
       "    .dataframe tbody tr th {\n",
       "        vertical-align: top;\n",
       "    }\n",
       "\n",
       "    .dataframe thead th {\n",
       "        text-align: right;\n",
       "    }\n",
       "</style>\n",
       "<table border=\"1\" class=\"dataframe\">\n",
       "  <thead>\n",
       "    <tr style=\"text-align: right;\">\n",
       "      <th></th>\n",
       "      <th>time</th>\n",
       "      <th>x</th>\n",
       "      <th>y</th>\n",
       "      <th>z</th>\n",
       "    </tr>\n",
       "  </thead>\n",
       "  <tbody>\n",
       "    <tr>\n",
       "      <th>0</th>\n",
       "      <td>0.000000</td>\n",
       "      <td>-0.9375</td>\n",
       "      <td>-1.250</td>\n",
       "      <td>0.875</td>\n",
       "    </tr>\n",
       "    <tr>\n",
       "      <th>1</th>\n",
       "      <td>0.003906</td>\n",
       "      <td>-0.9375</td>\n",
       "      <td>-1.250</td>\n",
       "      <td>0.875</td>\n",
       "    </tr>\n",
       "    <tr>\n",
       "      <th>2</th>\n",
       "      <td>0.007812</td>\n",
       "      <td>-0.9375</td>\n",
       "      <td>-1.875</td>\n",
       "      <td>0.250</td>\n",
       "    </tr>\n",
       "    <tr>\n",
       "      <th>3</th>\n",
       "      <td>0.011719</td>\n",
       "      <td>-1.3125</td>\n",
       "      <td>-2.000</td>\n",
       "      <td>0.125</td>\n",
       "    </tr>\n",
       "    <tr>\n",
       "      <th>4</th>\n",
       "      <td>0.015625</td>\n",
       "      <td>-1.7500</td>\n",
       "      <td>-2.125</td>\n",
       "      <td>0.000</td>\n",
       "    </tr>\n",
       "  </tbody>\n",
       "</table>\n",
       "</div>"
      ],
      "text/plain": [
       "       time       x      y      z\n",
       "0  0.000000 -0.9375 -1.250  0.875\n",
       "1  0.003906 -0.9375 -1.250  0.875\n",
       "2  0.007812 -0.9375 -1.875  0.250\n",
       "3  0.011719 -1.3125 -2.000  0.125\n",
       "4  0.015625 -1.7500 -2.125  0.000"
      ]
     },
     "execution_count": 6,
     "metadata": {},
     "output_type": "execute_result"
    },
    {
     "data": {
      "text/html": [
       "<div>\n",
       "<style scoped>\n",
       "    .dataframe tbody tr th:only-of-type {\n",
       "        vertical-align: middle;\n",
       "    }\n",
       "\n",
       "    .dataframe tbody tr th {\n",
       "        vertical-align: top;\n",
       "    }\n",
       "\n",
       "    .dataframe thead th {\n",
       "        text-align: right;\n",
       "    }\n",
       "</style>\n",
       "<table border=\"1\" class=\"dataframe\">\n",
       "  <thead>\n",
       "    <tr style=\"text-align: right;\">\n",
       "      <th></th>\n",
       "      <th>time</th>\n",
       "      <th>x</th>\n",
       "      <th>y</th>\n",
       "      <th>z</th>\n",
       "    </tr>\n",
       "  </thead>\n",
       "  <tbody>\n",
       "    <tr>\n",
       "      <th>0</th>\n",
       "      <td>0.000000</td>\n",
       "      <td>-0.9375</td>\n",
       "      <td>-1.250</td>\n",
       "      <td>0.875</td>\n",
       "    </tr>\n",
       "    <tr>\n",
       "      <th>1</th>\n",
       "      <td>0.003906</td>\n",
       "      <td>-0.9375</td>\n",
       "      <td>-1.250</td>\n",
       "      <td>0.875</td>\n",
       "    </tr>\n",
       "    <tr>\n",
       "      <th>2</th>\n",
       "      <td>0.007812</td>\n",
       "      <td>-0.9375</td>\n",
       "      <td>-1.875</td>\n",
       "      <td>0.250</td>\n",
       "    </tr>\n",
       "    <tr>\n",
       "      <th>3</th>\n",
       "      <td>0.011719</td>\n",
       "      <td>-1.3125</td>\n",
       "      <td>-2.000</td>\n",
       "      <td>0.125</td>\n",
       "    </tr>\n",
       "    <tr>\n",
       "      <th>4</th>\n",
       "      <td>0.015625</td>\n",
       "      <td>-1.7500</td>\n",
       "      <td>-2.125</td>\n",
       "      <td>0.000</td>\n",
       "    </tr>\n",
       "  </tbody>\n",
       "</table>\n",
       "</div>"
      ],
      "text/plain": [
       "       time       x      y      z\n",
       "0  0.000000 -0.9375 -1.250  0.875\n",
       "1  0.003906 -0.9375 -1.250  0.875\n",
       "2  0.007812 -0.9375 -1.875  0.250\n",
       "3  0.011719 -1.3125 -2.000  0.125\n",
       "4  0.015625 -1.7500 -2.125  0.000"
      ]
     },
     "execution_count": 6,
     "metadata": {},
     "output_type": "execute_result"
    }
   ],
   "source": [
    "gyroscope_data.head()"
   ]
  },
  {
   "cell_type": "markdown",
   "metadata": {},
   "source": [
    "## Accelerometer data"
   ]
  },
  {
   "cell_type": "code",
   "execution_count": 7,
   "metadata": {},
   "outputs": [],
   "source": [
    "accelerometer_data = imu_data[['time', ' accelerometer.X', ' accelerometer.Y', ' accelerometer.Z']].rename(columns = {' accelerometer.X':'x', ' accelerometer.Y':'y', ' accelerometer.Z':'z'})"
   ]
  },
  {
   "cell_type": "code",
   "execution_count": 8,
   "metadata": {},
   "outputs": [
    {
     "data": {
      "text/html": [
       "<div>\n",
       "<style scoped>\n",
       "    .dataframe tbody tr th:only-of-type {\n",
       "        vertical-align: middle;\n",
       "    }\n",
       "\n",
       "    .dataframe tbody tr th {\n",
       "        vertical-align: top;\n",
       "    }\n",
       "\n",
       "    .dataframe thead th {\n",
       "        text-align: right;\n",
       "    }\n",
       "</style>\n",
       "<table border=\"1\" class=\"dataframe\">\n",
       "  <thead>\n",
       "    <tr style=\"text-align: right;\">\n",
       "      <th></th>\n",
       "      <th>time</th>\n",
       "      <th>x</th>\n",
       "      <th>y</th>\n",
       "      <th>z</th>\n",
       "    </tr>\n",
       "  </thead>\n",
       "  <tbody>\n",
       "    <tr>\n",
       "      <th>0</th>\n",
       "      <td>0.000000</td>\n",
       "      <td>0.019043</td>\n",
       "      <td>-0.052246</td>\n",
       "      <td>0.97803</td>\n",
       "    </tr>\n",
       "    <tr>\n",
       "      <th>1</th>\n",
       "      <td>0.003906</td>\n",
       "      <td>0.019043</td>\n",
       "      <td>-0.052246</td>\n",
       "      <td>0.97803</td>\n",
       "    </tr>\n",
       "    <tr>\n",
       "      <th>2</th>\n",
       "      <td>0.007812</td>\n",
       "      <td>0.019043</td>\n",
       "      <td>-0.067871</td>\n",
       "      <td>0.99756</td>\n",
       "    </tr>\n",
       "    <tr>\n",
       "      <th>3</th>\n",
       "      <td>0.011719</td>\n",
       "      <td>0.026855</td>\n",
       "      <td>-0.032715</td>\n",
       "      <td>0.98975</td>\n",
       "    </tr>\n",
       "    <tr>\n",
       "      <th>4</th>\n",
       "      <td>0.015625</td>\n",
       "      <td>0.003418</td>\n",
       "      <td>-0.032715</td>\n",
       "      <td>0.99365</td>\n",
       "    </tr>\n",
       "  </tbody>\n",
       "</table>\n",
       "</div>"
      ],
      "text/plain": [
       "       time         x         y        z\n",
       "0  0.000000  0.019043 -0.052246  0.97803\n",
       "1  0.003906  0.019043 -0.052246  0.97803\n",
       "2  0.007812  0.019043 -0.067871  0.99756\n",
       "3  0.011719  0.026855 -0.032715  0.98975\n",
       "4  0.015625  0.003418 -0.032715  0.99365"
      ]
     },
     "execution_count": 8,
     "metadata": {},
     "output_type": "execute_result"
    },
    {
     "data": {
      "text/html": [
       "<div>\n",
       "<style scoped>\n",
       "    .dataframe tbody tr th:only-of-type {\n",
       "        vertical-align: middle;\n",
       "    }\n",
       "\n",
       "    .dataframe tbody tr th {\n",
       "        vertical-align: top;\n",
       "    }\n",
       "\n",
       "    .dataframe thead th {\n",
       "        text-align: right;\n",
       "    }\n",
       "</style>\n",
       "<table border=\"1\" class=\"dataframe\">\n",
       "  <thead>\n",
       "    <tr style=\"text-align: right;\">\n",
       "      <th></th>\n",
       "      <th>time</th>\n",
       "      <th>x</th>\n",
       "      <th>y</th>\n",
       "      <th>z</th>\n",
       "    </tr>\n",
       "  </thead>\n",
       "  <tbody>\n",
       "    <tr>\n",
       "      <th>0</th>\n",
       "      <td>0.000000</td>\n",
       "      <td>0.019043</td>\n",
       "      <td>-0.052246</td>\n",
       "      <td>0.97803</td>\n",
       "    </tr>\n",
       "    <tr>\n",
       "      <th>1</th>\n",
       "      <td>0.003906</td>\n",
       "      <td>0.019043</td>\n",
       "      <td>-0.052246</td>\n",
       "      <td>0.97803</td>\n",
       "    </tr>\n",
       "    <tr>\n",
       "      <th>2</th>\n",
       "      <td>0.007812</td>\n",
       "      <td>0.019043</td>\n",
       "      <td>-0.067871</td>\n",
       "      <td>0.99756</td>\n",
       "    </tr>\n",
       "    <tr>\n",
       "      <th>3</th>\n",
       "      <td>0.011719</td>\n",
       "      <td>0.026855</td>\n",
       "      <td>-0.032715</td>\n",
       "      <td>0.98975</td>\n",
       "    </tr>\n",
       "    <tr>\n",
       "      <th>4</th>\n",
       "      <td>0.015625</td>\n",
       "      <td>0.003418</td>\n",
       "      <td>-0.032715</td>\n",
       "      <td>0.99365</td>\n",
       "    </tr>\n",
       "  </tbody>\n",
       "</table>\n",
       "</div>"
      ],
      "text/plain": [
       "       time         x         y        z\n",
       "0  0.000000  0.019043 -0.052246  0.97803\n",
       "1  0.003906  0.019043 -0.052246  0.97803\n",
       "2  0.007812  0.019043 -0.067871  0.99756\n",
       "3  0.011719  0.026855 -0.032715  0.98975\n",
       "4  0.015625  0.003418 -0.032715  0.99365"
      ]
     },
     "execution_count": 8,
     "metadata": {},
     "output_type": "execute_result"
    }
   ],
   "source": [
    "accelerometer_data.head()"
   ]
  },
  {
   "cell_type": "markdown",
   "metadata": {},
   "source": [
    "## Magnetometer data"
   ]
  },
  {
   "cell_type": "code",
   "execution_count": 9,
   "metadata": {},
   "outputs": [],
   "source": [
    "magnetometer_data = imu_data[['time', ' magnetometer.X', ' magnetometer.Y', ' magnetometer.Z ']].rename(columns = {' magnetometer.X':'x', ' magnetometer.Y':'y', ' magnetometer.Z ':'z'})"
   ]
  },
  {
   "cell_type": "code",
   "execution_count": 10,
   "metadata": {},
   "outputs": [
    {
     "data": {
      "text/html": [
       "<div>\n",
       "<style scoped>\n",
       "    .dataframe tbody tr th:only-of-type {\n",
       "        vertical-align: middle;\n",
       "    }\n",
       "\n",
       "    .dataframe tbody tr th {\n",
       "        vertical-align: top;\n",
       "    }\n",
       "\n",
       "    .dataframe thead th {\n",
       "        text-align: right;\n",
       "    }\n",
       "</style>\n",
       "<table border=\"1\" class=\"dataframe\">\n",
       "  <thead>\n",
       "    <tr style=\"text-align: right;\">\n",
       "      <th></th>\n",
       "      <th>time</th>\n",
       "      <th>x</th>\n",
       "      <th>y</th>\n",
       "      <th>z</th>\n",
       "    </tr>\n",
       "  </thead>\n",
       "  <tbody>\n",
       "    <tr>\n",
       "      <th>0</th>\n",
       "      <td>0.000000</td>\n",
       "      <td>0.20996</td>\n",
       "      <td>0.031250</td>\n",
       "      <td>-0.44873</td>\n",
       "    </tr>\n",
       "    <tr>\n",
       "      <th>1</th>\n",
       "      <td>0.003906</td>\n",
       "      <td>0.20996</td>\n",
       "      <td>0.031250</td>\n",
       "      <td>-0.44873</td>\n",
       "    </tr>\n",
       "    <tr>\n",
       "      <th>2</th>\n",
       "      <td>0.007812</td>\n",
       "      <td>0.20996</td>\n",
       "      <td>0.031250</td>\n",
       "      <td>-0.44873</td>\n",
       "    </tr>\n",
       "    <tr>\n",
       "      <th>3</th>\n",
       "      <td>0.011719</td>\n",
       "      <td>0.21484</td>\n",
       "      <td>0.041016</td>\n",
       "      <td>-0.45361</td>\n",
       "    </tr>\n",
       "    <tr>\n",
       "      <th>4</th>\n",
       "      <td>0.015625</td>\n",
       "      <td>0.21484</td>\n",
       "      <td>0.041016</td>\n",
       "      <td>-0.45361</td>\n",
       "    </tr>\n",
       "  </tbody>\n",
       "</table>\n",
       "</div>"
      ],
      "text/plain": [
       "       time        x         y        z\n",
       "0  0.000000  0.20996  0.031250 -0.44873\n",
       "1  0.003906  0.20996  0.031250 -0.44873\n",
       "2  0.007812  0.20996  0.031250 -0.44873\n",
       "3  0.011719  0.21484  0.041016 -0.45361\n",
       "4  0.015625  0.21484  0.041016 -0.45361"
      ]
     },
     "execution_count": 10,
     "metadata": {},
     "output_type": "execute_result"
    },
    {
     "data": {
      "text/html": [
       "<div>\n",
       "<style scoped>\n",
       "    .dataframe tbody tr th:only-of-type {\n",
       "        vertical-align: middle;\n",
       "    }\n",
       "\n",
       "    .dataframe tbody tr th {\n",
       "        vertical-align: top;\n",
       "    }\n",
       "\n",
       "    .dataframe thead th {\n",
       "        text-align: right;\n",
       "    }\n",
       "</style>\n",
       "<table border=\"1\" class=\"dataframe\">\n",
       "  <thead>\n",
       "    <tr style=\"text-align: right;\">\n",
       "      <th></th>\n",
       "      <th>time</th>\n",
       "      <th>x</th>\n",
       "      <th>y</th>\n",
       "      <th>z</th>\n",
       "    </tr>\n",
       "  </thead>\n",
       "  <tbody>\n",
       "    <tr>\n",
       "      <th>0</th>\n",
       "      <td>0.000000</td>\n",
       "      <td>0.20996</td>\n",
       "      <td>0.031250</td>\n",
       "      <td>-0.44873</td>\n",
       "    </tr>\n",
       "    <tr>\n",
       "      <th>1</th>\n",
       "      <td>0.003906</td>\n",
       "      <td>0.20996</td>\n",
       "      <td>0.031250</td>\n",
       "      <td>-0.44873</td>\n",
       "    </tr>\n",
       "    <tr>\n",
       "      <th>2</th>\n",
       "      <td>0.007812</td>\n",
       "      <td>0.20996</td>\n",
       "      <td>0.031250</td>\n",
       "      <td>-0.44873</td>\n",
       "    </tr>\n",
       "    <tr>\n",
       "      <th>3</th>\n",
       "      <td>0.011719</td>\n",
       "      <td>0.21484</td>\n",
       "      <td>0.041016</td>\n",
       "      <td>-0.45361</td>\n",
       "    </tr>\n",
       "    <tr>\n",
       "      <th>4</th>\n",
       "      <td>0.015625</td>\n",
       "      <td>0.21484</td>\n",
       "      <td>0.041016</td>\n",
       "      <td>-0.45361</td>\n",
       "    </tr>\n",
       "  </tbody>\n",
       "</table>\n",
       "</div>"
      ],
      "text/plain": [
       "       time        x         y        z\n",
       "0  0.000000  0.20996  0.031250 -0.44873\n",
       "1  0.003906  0.20996  0.031250 -0.44873\n",
       "2  0.007812  0.20996  0.031250 -0.44873\n",
       "3  0.011719  0.21484  0.041016 -0.45361\n",
       "4  0.015625  0.21484  0.041016 -0.45361"
      ]
     },
     "execution_count": 10,
     "metadata": {},
     "output_type": "execute_result"
    }
   ],
   "source": [
    "magnetometer_data.head()"
   ]
  },
  {
   "cell_type": "markdown",
   "metadata": {},
   "source": [
    "## Convert rotational rate from degrees/sec to radians/sec"
   ]
  },
  {
   "cell_type": "code",
   "execution_count": 11,
   "metadata": {},
   "outputs": [],
   "source": [
    "def deg2radians(data):\n",
    "    data[['x', 'y', 'z']] = np.radians(data[['x', 'y', 'z']])\n",
    "    return data"
   ]
  },
  {
   "cell_type": "code",
   "execution_count": 12,
   "metadata": {},
   "outputs": [
    {
     "data": {
      "text/html": [
       "<div>\n",
       "<style scoped>\n",
       "    .dataframe tbody tr th:only-of-type {\n",
       "        vertical-align: middle;\n",
       "    }\n",
       "\n",
       "    .dataframe tbody tr th {\n",
       "        vertical-align: top;\n",
       "    }\n",
       "\n",
       "    .dataframe thead th {\n",
       "        text-align: right;\n",
       "    }\n",
       "</style>\n",
       "<table border=\"1\" class=\"dataframe\">\n",
       "  <thead>\n",
       "    <tr style=\"text-align: right;\">\n",
       "      <th></th>\n",
       "      <th>time</th>\n",
       "      <th>x</th>\n",
       "      <th>y</th>\n",
       "      <th>z</th>\n",
       "    </tr>\n",
       "  </thead>\n",
       "  <tbody>\n",
       "    <tr>\n",
       "      <th>0</th>\n",
       "      <td>0.000000</td>\n",
       "      <td>-0.016362</td>\n",
       "      <td>-0.021817</td>\n",
       "      <td>0.015272</td>\n",
       "    </tr>\n",
       "    <tr>\n",
       "      <th>1</th>\n",
       "      <td>0.003906</td>\n",
       "      <td>-0.016362</td>\n",
       "      <td>-0.021817</td>\n",
       "      <td>0.015272</td>\n",
       "    </tr>\n",
       "    <tr>\n",
       "      <th>2</th>\n",
       "      <td>0.007812</td>\n",
       "      <td>-0.016362</td>\n",
       "      <td>-0.032725</td>\n",
       "      <td>0.004363</td>\n",
       "    </tr>\n",
       "    <tr>\n",
       "      <th>3</th>\n",
       "      <td>0.011719</td>\n",
       "      <td>-0.022907</td>\n",
       "      <td>-0.034907</td>\n",
       "      <td>0.002182</td>\n",
       "    </tr>\n",
       "    <tr>\n",
       "      <th>4</th>\n",
       "      <td>0.015625</td>\n",
       "      <td>-0.030543</td>\n",
       "      <td>-0.037088</td>\n",
       "      <td>0.000000</td>\n",
       "    </tr>\n",
       "  </tbody>\n",
       "</table>\n",
       "</div>"
      ],
      "text/plain": [
       "       time         x         y         z\n",
       "0  0.000000 -0.016362 -0.021817  0.015272\n",
       "1  0.003906 -0.016362 -0.021817  0.015272\n",
       "2  0.007812 -0.016362 -0.032725  0.004363\n",
       "3  0.011719 -0.022907 -0.034907  0.002182\n",
       "4  0.015625 -0.030543 -0.037088  0.000000"
      ]
     },
     "execution_count": 12,
     "metadata": {},
     "output_type": "execute_result"
    },
    {
     "data": {
      "text/html": [
       "<div>\n",
       "<style scoped>\n",
       "    .dataframe tbody tr th:only-of-type {\n",
       "        vertical-align: middle;\n",
       "    }\n",
       "\n",
       "    .dataframe tbody tr th {\n",
       "        vertical-align: top;\n",
       "    }\n",
       "\n",
       "    .dataframe thead th {\n",
       "        text-align: right;\n",
       "    }\n",
       "</style>\n",
       "<table border=\"1\" class=\"dataframe\">\n",
       "  <thead>\n",
       "    <tr style=\"text-align: right;\">\n",
       "      <th></th>\n",
       "      <th>time</th>\n",
       "      <th>x</th>\n",
       "      <th>y</th>\n",
       "      <th>z</th>\n",
       "    </tr>\n",
       "  </thead>\n",
       "  <tbody>\n",
       "    <tr>\n",
       "      <th>0</th>\n",
       "      <td>0.000000</td>\n",
       "      <td>-0.016362</td>\n",
       "      <td>-0.021817</td>\n",
       "      <td>0.015272</td>\n",
       "    </tr>\n",
       "    <tr>\n",
       "      <th>1</th>\n",
       "      <td>0.003906</td>\n",
       "      <td>-0.016362</td>\n",
       "      <td>-0.021817</td>\n",
       "      <td>0.015272</td>\n",
       "    </tr>\n",
       "    <tr>\n",
       "      <th>2</th>\n",
       "      <td>0.007812</td>\n",
       "      <td>-0.016362</td>\n",
       "      <td>-0.032725</td>\n",
       "      <td>0.004363</td>\n",
       "    </tr>\n",
       "    <tr>\n",
       "      <th>3</th>\n",
       "      <td>0.011719</td>\n",
       "      <td>-0.022907</td>\n",
       "      <td>-0.034907</td>\n",
       "      <td>0.002182</td>\n",
       "    </tr>\n",
       "    <tr>\n",
       "      <th>4</th>\n",
       "      <td>0.015625</td>\n",
       "      <td>-0.030543</td>\n",
       "      <td>-0.037088</td>\n",
       "      <td>0.000000</td>\n",
       "    </tr>\n",
       "  </tbody>\n",
       "</table>\n",
       "</div>"
      ],
      "text/plain": [
       "       time         x         y         z\n",
       "0  0.000000 -0.016362 -0.021817  0.015272\n",
       "1  0.003906 -0.016362 -0.021817  0.015272\n",
       "2  0.007812 -0.016362 -0.032725  0.004363\n",
       "3  0.011719 -0.022907 -0.034907  0.002182\n",
       "4  0.015625 -0.030543 -0.037088  0.000000"
      ]
     },
     "execution_count": 12,
     "metadata": {},
     "output_type": "execute_result"
    }
   ],
   "source": [
    "deg2radians(gyroscope_data).head()"
   ]
  },
  {
   "cell_type": "code",
   "execution_count": 13,
   "metadata": {},
   "outputs": [
    {
     "data": {
      "text/html": [
       "<div>\n",
       "<style scoped>\n",
       "    .dataframe tbody tr th:only-of-type {\n",
       "        vertical-align: middle;\n",
       "    }\n",
       "\n",
       "    .dataframe tbody tr th {\n",
       "        vertical-align: top;\n",
       "    }\n",
       "\n",
       "    .dataframe thead th {\n",
       "        text-align: right;\n",
       "    }\n",
       "</style>\n",
       "<table border=\"1\" class=\"dataframe\">\n",
       "  <thead>\n",
       "    <tr style=\"text-align: right;\">\n",
       "      <th></th>\n",
       "      <th>time</th>\n",
       "      <th>x</th>\n",
       "      <th>y</th>\n",
       "      <th>z</th>\n",
       "    </tr>\n",
       "  </thead>\n",
       "  <tbody>\n",
       "    <tr>\n",
       "      <th>0</th>\n",
       "      <td>0.000000</td>\n",
       "      <td>0.000332</td>\n",
       "      <td>-0.000912</td>\n",
       "      <td>0.017070</td>\n",
       "    </tr>\n",
       "    <tr>\n",
       "      <th>1</th>\n",
       "      <td>0.003906</td>\n",
       "      <td>0.000332</td>\n",
       "      <td>-0.000912</td>\n",
       "      <td>0.017070</td>\n",
       "    </tr>\n",
       "    <tr>\n",
       "      <th>2</th>\n",
       "      <td>0.007812</td>\n",
       "      <td>0.000332</td>\n",
       "      <td>-0.001185</td>\n",
       "      <td>0.017411</td>\n",
       "    </tr>\n",
       "    <tr>\n",
       "      <th>3</th>\n",
       "      <td>0.011719</td>\n",
       "      <td>0.000469</td>\n",
       "      <td>-0.000571</td>\n",
       "      <td>0.017274</td>\n",
       "    </tr>\n",
       "    <tr>\n",
       "      <th>4</th>\n",
       "      <td>0.015625</td>\n",
       "      <td>0.000060</td>\n",
       "      <td>-0.000571</td>\n",
       "      <td>0.017342</td>\n",
       "    </tr>\n",
       "  </tbody>\n",
       "</table>\n",
       "</div>"
      ],
      "text/plain": [
       "       time         x         y         z\n",
       "0  0.000000  0.000332 -0.000912  0.017070\n",
       "1  0.003906  0.000332 -0.000912  0.017070\n",
       "2  0.007812  0.000332 -0.001185  0.017411\n",
       "3  0.011719  0.000469 -0.000571  0.017274\n",
       "4  0.015625  0.000060 -0.000571  0.017342"
      ]
     },
     "execution_count": 13,
     "metadata": {},
     "output_type": "execute_result"
    },
    {
     "data": {
      "text/html": [
       "<div>\n",
       "<style scoped>\n",
       "    .dataframe tbody tr th:only-of-type {\n",
       "        vertical-align: middle;\n",
       "    }\n",
       "\n",
       "    .dataframe tbody tr th {\n",
       "        vertical-align: top;\n",
       "    }\n",
       "\n",
       "    .dataframe thead th {\n",
       "        text-align: right;\n",
       "    }\n",
       "</style>\n",
       "<table border=\"1\" class=\"dataframe\">\n",
       "  <thead>\n",
       "    <tr style=\"text-align: right;\">\n",
       "      <th></th>\n",
       "      <th>time</th>\n",
       "      <th>x</th>\n",
       "      <th>y</th>\n",
       "      <th>z</th>\n",
       "    </tr>\n",
       "  </thead>\n",
       "  <tbody>\n",
       "    <tr>\n",
       "      <th>0</th>\n",
       "      <td>0.000000</td>\n",
       "      <td>0.000332</td>\n",
       "      <td>-0.000912</td>\n",
       "      <td>0.017070</td>\n",
       "    </tr>\n",
       "    <tr>\n",
       "      <th>1</th>\n",
       "      <td>0.003906</td>\n",
       "      <td>0.000332</td>\n",
       "      <td>-0.000912</td>\n",
       "      <td>0.017070</td>\n",
       "    </tr>\n",
       "    <tr>\n",
       "      <th>2</th>\n",
       "      <td>0.007812</td>\n",
       "      <td>0.000332</td>\n",
       "      <td>-0.001185</td>\n",
       "      <td>0.017411</td>\n",
       "    </tr>\n",
       "    <tr>\n",
       "      <th>3</th>\n",
       "      <td>0.011719</td>\n",
       "      <td>0.000469</td>\n",
       "      <td>-0.000571</td>\n",
       "      <td>0.017274</td>\n",
       "    </tr>\n",
       "    <tr>\n",
       "      <th>4</th>\n",
       "      <td>0.015625</td>\n",
       "      <td>0.000060</td>\n",
       "      <td>-0.000571</td>\n",
       "      <td>0.017342</td>\n",
       "    </tr>\n",
       "  </tbody>\n",
       "</table>\n",
       "</div>"
      ],
      "text/plain": [
       "       time         x         y         z\n",
       "0  0.000000  0.000332 -0.000912  0.017070\n",
       "1  0.003906  0.000332 -0.000912  0.017070\n",
       "2  0.007812  0.000332 -0.001185  0.017411\n",
       "3  0.011719  0.000469 -0.000571  0.017274\n",
       "4  0.015625  0.000060 -0.000571  0.017342"
      ]
     },
     "execution_count": 13,
     "metadata": {},
     "output_type": "execute_result"
    }
   ],
   "source": [
    "deg2radians(accelerometer_data).head()"
   ]
  },
  {
   "cell_type": "code",
   "execution_count": 14,
   "metadata": {},
   "outputs": [
    {
     "data": {
      "text/html": [
       "<div>\n",
       "<style scoped>\n",
       "    .dataframe tbody tr th:only-of-type {\n",
       "        vertical-align: middle;\n",
       "    }\n",
       "\n",
       "    .dataframe tbody tr th {\n",
       "        vertical-align: top;\n",
       "    }\n",
       "\n",
       "    .dataframe thead th {\n",
       "        text-align: right;\n",
       "    }\n",
       "</style>\n",
       "<table border=\"1\" class=\"dataframe\">\n",
       "  <thead>\n",
       "    <tr style=\"text-align: right;\">\n",
       "      <th></th>\n",
       "      <th>time</th>\n",
       "      <th>x</th>\n",
       "      <th>y</th>\n",
       "      <th>z</th>\n",
       "    </tr>\n",
       "  </thead>\n",
       "  <tbody>\n",
       "    <tr>\n",
       "      <th>0</th>\n",
       "      <td>0.000000</td>\n",
       "      <td>0.003664</td>\n",
       "      <td>0.000545</td>\n",
       "      <td>-0.007832</td>\n",
       "    </tr>\n",
       "    <tr>\n",
       "      <th>1</th>\n",
       "      <td>0.003906</td>\n",
       "      <td>0.003664</td>\n",
       "      <td>0.000545</td>\n",
       "      <td>-0.007832</td>\n",
       "    </tr>\n",
       "    <tr>\n",
       "      <th>2</th>\n",
       "      <td>0.007812</td>\n",
       "      <td>0.003664</td>\n",
       "      <td>0.000545</td>\n",
       "      <td>-0.007832</td>\n",
       "    </tr>\n",
       "    <tr>\n",
       "      <th>3</th>\n",
       "      <td>0.011719</td>\n",
       "      <td>0.003750</td>\n",
       "      <td>0.000716</td>\n",
       "      <td>-0.007917</td>\n",
       "    </tr>\n",
       "    <tr>\n",
       "      <th>4</th>\n",
       "      <td>0.015625</td>\n",
       "      <td>0.003750</td>\n",
       "      <td>0.000716</td>\n",
       "      <td>-0.007917</td>\n",
       "    </tr>\n",
       "  </tbody>\n",
       "</table>\n",
       "</div>"
      ],
      "text/plain": [
       "       time         x         y         z\n",
       "0  0.000000  0.003664  0.000545 -0.007832\n",
       "1  0.003906  0.003664  0.000545 -0.007832\n",
       "2  0.007812  0.003664  0.000545 -0.007832\n",
       "3  0.011719  0.003750  0.000716 -0.007917\n",
       "4  0.015625  0.003750  0.000716 -0.007917"
      ]
     },
     "execution_count": 14,
     "metadata": {},
     "output_type": "execute_result"
    },
    {
     "data": {
      "text/html": [
       "<div>\n",
       "<style scoped>\n",
       "    .dataframe tbody tr th:only-of-type {\n",
       "        vertical-align: middle;\n",
       "    }\n",
       "\n",
       "    .dataframe tbody tr th {\n",
       "        vertical-align: top;\n",
       "    }\n",
       "\n",
       "    .dataframe thead th {\n",
       "        text-align: right;\n",
       "    }\n",
       "</style>\n",
       "<table border=\"1\" class=\"dataframe\">\n",
       "  <thead>\n",
       "    <tr style=\"text-align: right;\">\n",
       "      <th></th>\n",
       "      <th>time</th>\n",
       "      <th>x</th>\n",
       "      <th>y</th>\n",
       "      <th>z</th>\n",
       "    </tr>\n",
       "  </thead>\n",
       "  <tbody>\n",
       "    <tr>\n",
       "      <th>0</th>\n",
       "      <td>0.000000</td>\n",
       "      <td>0.003664</td>\n",
       "      <td>0.000545</td>\n",
       "      <td>-0.007832</td>\n",
       "    </tr>\n",
       "    <tr>\n",
       "      <th>1</th>\n",
       "      <td>0.003906</td>\n",
       "      <td>0.003664</td>\n",
       "      <td>0.000545</td>\n",
       "      <td>-0.007832</td>\n",
       "    </tr>\n",
       "    <tr>\n",
       "      <th>2</th>\n",
       "      <td>0.007812</td>\n",
       "      <td>0.003664</td>\n",
       "      <td>0.000545</td>\n",
       "      <td>-0.007832</td>\n",
       "    </tr>\n",
       "    <tr>\n",
       "      <th>3</th>\n",
       "      <td>0.011719</td>\n",
       "      <td>0.003750</td>\n",
       "      <td>0.000716</td>\n",
       "      <td>-0.007917</td>\n",
       "    </tr>\n",
       "    <tr>\n",
       "      <th>4</th>\n",
       "      <td>0.015625</td>\n",
       "      <td>0.003750</td>\n",
       "      <td>0.000716</td>\n",
       "      <td>-0.007917</td>\n",
       "    </tr>\n",
       "  </tbody>\n",
       "</table>\n",
       "</div>"
      ],
      "text/plain": [
       "       time         x         y         z\n",
       "0  0.000000  0.003664  0.000545 -0.007832\n",
       "1  0.003906  0.003664  0.000545 -0.007832\n",
       "2  0.007812  0.003664  0.000545 -0.007832\n",
       "3  0.011719  0.003750  0.000716 -0.007917\n",
       "4  0.015625  0.003750  0.000716 -0.007917"
      ]
     },
     "execution_count": 14,
     "metadata": {},
     "output_type": "execute_result"
    }
   ],
   "source": [
    "deg2radians(magnetometer_data).head()"
   ]
  },
  {
   "cell_type": "markdown",
   "metadata": {},
   "source": [
    "## Normalize magnitude of both the accelerometer and magnetometer, $v = \\frac{(w_x, w_y, w_z)} {||w||}$"
   ]
  },
  {
   "cell_type": "code",
   "execution_count": 15,
   "metadata": {},
   "outputs": [],
   "source": [
    "def data_normalized(data):\n",
    "    data = data.copy()\n",
    "    magnitude = np.sqrt(np.square(data[['x', 'y', 'z']]).sum(axis=1))\n",
    "    data[['x', 'y', 'z']] = data[['x', 'y', 'z']].div(magnitude, axis=0)\n",
    "    return data"
   ]
  },
  {
   "cell_type": "code",
   "execution_count": 16,
   "metadata": {},
   "outputs": [
    {
     "data": {
      "text/html": [
       "<div>\n",
       "<style scoped>\n",
       "    .dataframe tbody tr th:only-of-type {\n",
       "        vertical-align: middle;\n",
       "    }\n",
       "\n",
       "    .dataframe tbody tr th {\n",
       "        vertical-align: top;\n",
       "    }\n",
       "\n",
       "    .dataframe thead th {\n",
       "        text-align: right;\n",
       "    }\n",
       "</style>\n",
       "<table border=\"1\" class=\"dataframe\">\n",
       "  <thead>\n",
       "    <tr style=\"text-align: right;\">\n",
       "      <th></th>\n",
       "      <th>time</th>\n",
       "      <th>x</th>\n",
       "      <th>y</th>\n",
       "      <th>z</th>\n",
       "    </tr>\n",
       "  </thead>\n",
       "  <tbody>\n",
       "    <tr>\n",
       "      <th>0</th>\n",
       "      <td>0.000000</td>\n",
       "      <td>0.019439</td>\n",
       "      <td>-0.053333</td>\n",
       "      <td>0.998388</td>\n",
       "    </tr>\n",
       "    <tr>\n",
       "      <th>1</th>\n",
       "      <td>0.003906</td>\n",
       "      <td>0.019439</td>\n",
       "      <td>-0.053333</td>\n",
       "      <td>0.998388</td>\n",
       "    </tr>\n",
       "    <tr>\n",
       "      <th>2</th>\n",
       "      <td>0.007812</td>\n",
       "      <td>0.019042</td>\n",
       "      <td>-0.067868</td>\n",
       "      <td>0.997513</td>\n",
       "    </tr>\n",
       "    <tr>\n",
       "      <th>3</th>\n",
       "      <td>0.011719</td>\n",
       "      <td>0.027108</td>\n",
       "      <td>-0.033024</td>\n",
       "      <td>0.999087</td>\n",
       "    </tr>\n",
       "    <tr>\n",
       "      <th>4</th>\n",
       "      <td>0.015625</td>\n",
       "      <td>0.003438</td>\n",
       "      <td>-0.032906</td>\n",
       "      <td>0.999453</td>\n",
       "    </tr>\n",
       "  </tbody>\n",
       "</table>\n",
       "</div>"
      ],
      "text/plain": [
       "       time         x         y         z\n",
       "0  0.000000  0.019439 -0.053333  0.998388\n",
       "1  0.003906  0.019439 -0.053333  0.998388\n",
       "2  0.007812  0.019042 -0.067868  0.997513\n",
       "3  0.011719  0.027108 -0.033024  0.999087\n",
       "4  0.015625  0.003438 -0.032906  0.999453"
      ]
     },
     "execution_count": 16,
     "metadata": {},
     "output_type": "execute_result"
    },
    {
     "data": {
      "text/html": [
       "<div>\n",
       "<style scoped>\n",
       "    .dataframe tbody tr th:only-of-type {\n",
       "        vertical-align: middle;\n",
       "    }\n",
       "\n",
       "    .dataframe tbody tr th {\n",
       "        vertical-align: top;\n",
       "    }\n",
       "\n",
       "    .dataframe thead th {\n",
       "        text-align: right;\n",
       "    }\n",
       "</style>\n",
       "<table border=\"1\" class=\"dataframe\">\n",
       "  <thead>\n",
       "    <tr style=\"text-align: right;\">\n",
       "      <th></th>\n",
       "      <th>time</th>\n",
       "      <th>x</th>\n",
       "      <th>y</th>\n",
       "      <th>z</th>\n",
       "    </tr>\n",
       "  </thead>\n",
       "  <tbody>\n",
       "    <tr>\n",
       "      <th>0</th>\n",
       "      <td>0.000000</td>\n",
       "      <td>0.019439</td>\n",
       "      <td>-0.053333</td>\n",
       "      <td>0.998388</td>\n",
       "    </tr>\n",
       "    <tr>\n",
       "      <th>1</th>\n",
       "      <td>0.003906</td>\n",
       "      <td>0.019439</td>\n",
       "      <td>-0.053333</td>\n",
       "      <td>0.998388</td>\n",
       "    </tr>\n",
       "    <tr>\n",
       "      <th>2</th>\n",
       "      <td>0.007812</td>\n",
       "      <td>0.019042</td>\n",
       "      <td>-0.067868</td>\n",
       "      <td>0.997513</td>\n",
       "    </tr>\n",
       "    <tr>\n",
       "      <th>3</th>\n",
       "      <td>0.011719</td>\n",
       "      <td>0.027108</td>\n",
       "      <td>-0.033024</td>\n",
       "      <td>0.999087</td>\n",
       "    </tr>\n",
       "    <tr>\n",
       "      <th>4</th>\n",
       "      <td>0.015625</td>\n",
       "      <td>0.003438</td>\n",
       "      <td>-0.032906</td>\n",
       "      <td>0.999453</td>\n",
       "    </tr>\n",
       "  </tbody>\n",
       "</table>\n",
       "</div>"
      ],
      "text/plain": [
       "       time         x         y         z\n",
       "0  0.000000  0.019439 -0.053333  0.998388\n",
       "1  0.003906  0.019439 -0.053333  0.998388\n",
       "2  0.007812  0.019042 -0.067868  0.997513\n",
       "3  0.011719  0.027108 -0.033024  0.999087\n",
       "4  0.015625  0.003438 -0.032906  0.999453"
      ]
     },
     "execution_count": 16,
     "metadata": {},
     "output_type": "execute_result"
    }
   ],
   "source": [
    "data_normalized(accelerometer_data).head()"
   ]
  },
  {
   "cell_type": "code",
   "execution_count": 17,
   "metadata": {},
   "outputs": [
    {
     "data": {
      "text/html": [
       "<div>\n",
       "<style scoped>\n",
       "    .dataframe tbody tr th:only-of-type {\n",
       "        vertical-align: middle;\n",
       "    }\n",
       "\n",
       "    .dataframe tbody tr th {\n",
       "        vertical-align: top;\n",
       "    }\n",
       "\n",
       "    .dataframe thead th {\n",
       "        text-align: right;\n",
       "    }\n",
       "</style>\n",
       "<table border=\"1\" class=\"dataframe\">\n",
       "  <thead>\n",
       "    <tr style=\"text-align: right;\">\n",
       "      <th></th>\n",
       "      <th>time</th>\n",
       "      <th>x</th>\n",
       "      <th>y</th>\n",
       "      <th>z</th>\n",
       "    </tr>\n",
       "  </thead>\n",
       "  <tbody>\n",
       "    <tr>\n",
       "      <th>0</th>\n",
       "      <td>0.000000</td>\n",
       "      <td>0.422961</td>\n",
       "      <td>0.062953</td>\n",
       "      <td>-0.903959</td>\n",
       "    </tr>\n",
       "    <tr>\n",
       "      <th>1</th>\n",
       "      <td>0.003906</td>\n",
       "      <td>0.422961</td>\n",
       "      <td>0.062953</td>\n",
       "      <td>-0.903959</td>\n",
       "    </tr>\n",
       "    <tr>\n",
       "      <th>2</th>\n",
       "      <td>0.007812</td>\n",
       "      <td>0.422961</td>\n",
       "      <td>0.062953</td>\n",
       "      <td>-0.903959</td>\n",
       "    </tr>\n",
       "    <tr>\n",
       "      <th>3</th>\n",
       "      <td>0.011719</td>\n",
       "      <td>0.426619</td>\n",
       "      <td>0.081448</td>\n",
       "      <td>-0.900757</td>\n",
       "    </tr>\n",
       "    <tr>\n",
       "      <th>4</th>\n",
       "      <td>0.015625</td>\n",
       "      <td>0.426619</td>\n",
       "      <td>0.081448</td>\n",
       "      <td>-0.900757</td>\n",
       "    </tr>\n",
       "  </tbody>\n",
       "</table>\n",
       "</div>"
      ],
      "text/plain": [
       "       time         x         y         z\n",
       "0  0.000000  0.422961  0.062953 -0.903959\n",
       "1  0.003906  0.422961  0.062953 -0.903959\n",
       "2  0.007812  0.422961  0.062953 -0.903959\n",
       "3  0.011719  0.426619  0.081448 -0.900757\n",
       "4  0.015625  0.426619  0.081448 -0.900757"
      ]
     },
     "execution_count": 17,
     "metadata": {},
     "output_type": "execute_result"
    },
    {
     "data": {
      "text/html": [
       "<div>\n",
       "<style scoped>\n",
       "    .dataframe tbody tr th:only-of-type {\n",
       "        vertical-align: middle;\n",
       "    }\n",
       "\n",
       "    .dataframe tbody tr th {\n",
       "        vertical-align: top;\n",
       "    }\n",
       "\n",
       "    .dataframe thead th {\n",
       "        text-align: right;\n",
       "    }\n",
       "</style>\n",
       "<table border=\"1\" class=\"dataframe\">\n",
       "  <thead>\n",
       "    <tr style=\"text-align: right;\">\n",
       "      <th></th>\n",
       "      <th>time</th>\n",
       "      <th>x</th>\n",
       "      <th>y</th>\n",
       "      <th>z</th>\n",
       "    </tr>\n",
       "  </thead>\n",
       "  <tbody>\n",
       "    <tr>\n",
       "      <th>0</th>\n",
       "      <td>0.000000</td>\n",
       "      <td>0.422961</td>\n",
       "      <td>0.062953</td>\n",
       "      <td>-0.903959</td>\n",
       "    </tr>\n",
       "    <tr>\n",
       "      <th>1</th>\n",
       "      <td>0.003906</td>\n",
       "      <td>0.422961</td>\n",
       "      <td>0.062953</td>\n",
       "      <td>-0.903959</td>\n",
       "    </tr>\n",
       "    <tr>\n",
       "      <th>2</th>\n",
       "      <td>0.007812</td>\n",
       "      <td>0.422961</td>\n",
       "      <td>0.062953</td>\n",
       "      <td>-0.903959</td>\n",
       "    </tr>\n",
       "    <tr>\n",
       "      <th>3</th>\n",
       "      <td>0.011719</td>\n",
       "      <td>0.426619</td>\n",
       "      <td>0.081448</td>\n",
       "      <td>-0.900757</td>\n",
       "    </tr>\n",
       "    <tr>\n",
       "      <th>4</th>\n",
       "      <td>0.015625</td>\n",
       "      <td>0.426619</td>\n",
       "      <td>0.081448</td>\n",
       "      <td>-0.900757</td>\n",
       "    </tr>\n",
       "  </tbody>\n",
       "</table>\n",
       "</div>"
      ],
      "text/plain": [
       "       time         x         y         z\n",
       "0  0.000000  0.422961  0.062953 -0.903959\n",
       "1  0.003906  0.422961  0.062953 -0.903959\n",
       "2  0.007812  0.422961  0.062953 -0.903959\n",
       "3  0.011719  0.426619  0.081448 -0.900757\n",
       "4  0.015625  0.426619  0.081448 -0.900757"
      ]
     },
     "execution_count": 17,
     "metadata": {},
     "output_type": "execute_result"
    }
   ],
   "source": [
    "data_normalized(magnetometer_data).head()"
   ]
  },
  {
   "cell_type": "markdown",
   "metadata": {},
   "source": [
    "source [wikipedia](https://en.wikipedia.org/wiki/Conversion_between_quaternions_and_Euler_angles)  \n",
    "The Euler angles: yaw (Y), pitch (X), roll (Z)"
   ]
  },
  {
   "cell_type": "code",
   "execution_count": 18,
   "metadata": {},
   "outputs": [],
   "source": [
    "def euler2quaternions(yaw, pitch, roll):\n",
    "    # Abbreviations for the various angular functions\n",
    "    cy = np.cos(yaw * 0.5)\n",
    "    sy = np.sin(yaw * 0.5)\n",
    "    cp = np.cos(pitch * 0.5)\n",
    "    sp = np.sin(pitch * 0.5)\n",
    "    cr = np.cos(roll * 0.5)\n",
    "    sr = np.sin(roll * 0.5)\n",
    "\n",
    "    q_w = cy * cp * cr + sy * sp * sr\n",
    "    q_x = cy * cp * sr - sy * sp * cr\n",
    "    q_y = sy * cp * sr + cy * sp * cr\n",
    "    q_z = sy * cp * cr - cy * sp * sr\n",
    "    return np.array([[q_w, q_x, q_y, q_z]])"
   ]
  },
  {
   "cell_type": "markdown",
   "metadata": {},
   "source": [
    "Euler angles ψ, θ and φ in the so called aerospace sequence describe an orientation of frame B achieved by the sequential rotations, from alignment with frame A, of ψ around\n",
    "5\n",
    "zˆB, θ around yˆB, and φ around xˆB. This Euler angle representation of ABqˆ is defined by equations (7), (8) and (9).  \n",
    "ψ = Atan2(2q2q3 − 2q1q4, 2q12 + 2q2 − 1􏰃)  \n",
    "θ = −sin−1 (2q2q4 + 2q1q3)  \n",
    "φ = Atan2(2q3q4 − 2q1q2, 2q12 + 2q42 − 1􏰃)"
   ]
  },
  {
   "cell_type": "code",
   "execution_count": 112,
   "metadata": {},
   "outputs": [],
   "source": [
    "def quaternions2euler(quaternion):\n",
    "    q_w = quaternion[0]\n",
    "    q_x = quaternion[1]\n",
    "    q_y = quaternion[2]\n",
    "    q_z = quaternion[3]\n",
    "\n",
    "    # roll (z-axis rotation)\n",
    "    roll = math.atan2(2 * q_x * q_y - 2 * q_w * q_z, 2 * q_w * q_w + 2 * q_x * q_x - 1)\n",
    "\n",
    "    # pitch (x-axis rotation)\n",
    "    pitch = math.atan2(2 * q_y * q_z - 2 * q_w * q_x, 2 * q_w * q_w + 2 * q_z * q_z - 1)\n",
    "\n",
    "    # yaw (y-axis rotation)\n",
    "    yaw = -math.asin(2 * q_x * q_z + 2 * q_w * q_y) \n",
    "    return np.array([pitch, yaw, roll])"
   ]
  },
  {
   "cell_type": "markdown",
   "metadata": {},
   "source": [
    "The quaternion conjugate has the form of\n",
    "q' = q0 − iq1 − jq2 − kq3"
   ]
  },
  {
   "cell_type": "code",
   "execution_count": 20,
   "metadata": {},
   "outputs": [],
   "source": [
    "def quaternions_conjugate(quaternion):\n",
    "    return quaternion * np.array([[1, -1, -1, -1]])"
   ]
  },
  {
   "cell_type": "code",
   "execution_count": 21,
   "metadata": {},
   "outputs": [],
   "source": [
    "def quaternions_product(a, b):\n",
    "    w0, x0, y0, z0 = a[0]\n",
    "    w1, x1, y1, z1 = b[0]\n",
    "    return np.array([[w0 * w1 - x0 * x1 - y0 * y1 - z0 * z1,\n",
    "                     w0 * x1 + x0 * w1 + y0 * z1 - z0 * y1,\n",
    "                     w0 * y1 - x0 * z1 + y0 * w1 + z0 * x1,\n",
    "                     w0 * z1 + x0 * y1 - y0 * x1 + z0 * w1]], dtype=np.float64)"
   ]
  },
  {
   "cell_type": "code",
   "execution_count": 22,
   "metadata": {},
   "outputs": [],
   "source": [
    "a = np.array([[1,0,0,0]])\n",
    "b = np.array([[1,2,3,4]])"
   ]
  },
  {
   "cell_type": "code",
   "execution_count": 23,
   "metadata": {},
   "outputs": [
    {
     "data": {
      "text/plain": [
       "array([[1., 2., 3., 4.]])"
      ]
     },
     "execution_count": 23,
     "metadata": {},
     "output_type": "execute_result"
    },
    {
     "data": {
      "text/plain": [
       "array([[1., 2., 3., 4.]])"
      ]
     },
     "execution_count": 23,
     "metadata": {},
     "output_type": "execute_result"
    }
   ],
   "source": [
    "quaternions_product(a,b)"
   ]
  },
  {
   "cell_type": "markdown",
   "metadata": {},
   "source": [
    "# PROBLEM 2"
   ]
  },
  {
   "cell_type": "markdown",
   "metadata": {},
   "source": [
    "$ q(v, \\theta) = (cos(\\theta/2), v_x sin(\\theta/2), v_y sin(\\theta/2), v_z sin(\\theta/2)) $"
   ]
  },
  {
   "cell_type": "code",
   "execution_count": 134,
   "metadata": {},
   "outputs": [],
   "source": [
    "def axisAngle2quaternion(axis, angle):\n",
    "    v_x, v_y, v_z = axis[0]\n",
    "    half_angle = angle / 2\n",
    "    return np.array([[math.cos(half_angle), -v_x * math.sin(half_angle), -v_y * math.sin(half_angle), -v_z * math.sin(half_angle)]])"
   ]
  },
  {
   "cell_type": "markdown",
   "metadata": {},
   "source": [
    "### dead reckoning filter \n",
    "$q_{k-1}$ represent the estimated orientation at stage k - 1, $q_0$ equals the intial, identity quaternion.  \n",
    "$q(v, \\theta)$ represent the axis-angle representation of gyroscope reading at stage k, $w_k$, where $v = \\frac{w_k}{||w_k||}$ and $\\theta = ||w_k||\\Delta t$  \n",
    "The estimated orientation for the stage k:\n",
    "$$q_{k} = q_{k-1} \\otimes q(v, \\theta)$$"
   ]
  },
  {
   "cell_type": "code",
   "execution_count": 119,
   "metadata": {},
   "outputs": [],
   "source": [
    "def imu_gyro_v2(n, gyroscope_data, \n",
    "                      dt=0.003906):\n",
    "    '''\n",
    "        Parameters\n",
    "        ----------\n",
    "        n: scalar\n",
    "          number of data for all readings, ex. imu_data.shape[0]\n",
    "        gyroscope_data: pandas dataframe that must contain x, y, z columns and has n rows\n",
    "          observations obtained from a gyroscope\n",
    "        dt: scalar\n",
    "          observations reported rate in seconds, ex. dt = 265Hz = 0.003906s\n",
    "\n",
    "        Return\n",
    "        ----------\n",
    "        q: a matrix with n rows and 4 columns\n",
    "          orientations estimated for all n readings after applying tilt and yaw drift corrections\n",
    "    '''\n",
    "\n",
    "    q = [np.array([[1.0,0,0,0]])]\n",
    "    for i in range(n):\n",
    "        ### gyroscope estimations\n",
    "        gyro_row = gyroscope_data.loc[i]\n",
    "        q_gyro = np.array([[0, gyro_row['x'], gyro_row['y'], gyro_row['z']]])\n",
    "        q_dot = 0.5 * quaternions_product(q_gyro, q[i])\n",
    "        q_k = np.add(q[i], q_dot * dt)\n",
    "        q_k = np.divide(q_k, np.sqrt(np.sum(np.square(q_k)))) #normalize\n",
    "        q += [q_k]\n",
    "    \n",
    "    # return result excluding the identity quaternion used for initial estimations\n",
    "    return np.array(q[1:])"
   ]
  },
  {
   "cell_type": "code",
   "execution_count": 135,
   "metadata": {},
   "outputs": [],
   "source": [
    "def imu_gyro(n, gyroscope_data, \n",
    "                      dt=0.003906):\n",
    "    '''\n",
    "        Parameters\n",
    "        ----------\n",
    "        n: scalar\n",
    "          number of data for all readings, ex. imu_data.shape[0]\n",
    "        gyroscope_data: pandas dataframe that must contain x, y, z columns and has n rows\n",
    "          observations obtained from a gyroscope\n",
    "        dt: scalar\n",
    "          observations reported rate in seconds, ex. dt = 265Hz = 0.003906s\n",
    "\n",
    "        Return\n",
    "        ----------\n",
    "        q: a matrix with n rows and 4 columns\n",
    "          orientations estimated for all n readings after applying tilt and yaw drift corrections\n",
    "    '''\n",
    "\n",
    "    q = [np.array([[1.0,0,0,0]])]\n",
    "    for i in range(n):\n",
    "        ### gyroscope estimations\n",
    "        gyro_row = gyroscope_data.loc[i]\n",
    "        w_k = np.array([[gyro_row['x'], gyro_row['y'], gyro_row['z']]])\n",
    "        l = np.sqrt(np.sum(np.square(w_k)))\n",
    "        v = np.divide(w_k, l)\n",
    "        theta = l * dt \n",
    "        q_gyro = axisAngle2quaternion(v, theta)\n",
    "        q_k = quaternions_product(q_gyro, q[i]) # the book have the product swapped between those two\n",
    "\n",
    "        q += [q_k]\n",
    "    \n",
    "    # return result excluding the identity quaternion used for initial estimations\n",
    "    return np.array(q[1:])"
   ]
  },
  {
   "cell_type": "code",
   "execution_count": 137,
   "metadata": {},
   "outputs": [
    {
     "data": {
      "text/plain": [
       "array([[[ 9.99999998e-01,  3.19558878e-05,  4.26078503e-05,\n",
       "         -2.98254952e-05]],\n",
       "\n",
       "       [[ 9.99999993e-01,  6.39117754e-05,  8.52157005e-05,\n",
       "         -5.96509904e-05]],\n",
       "\n",
       "       [[ 9.99999982e-01,  9.58645765e-05,  1.49128837e-04,\n",
       "         -6.81739218e-05]],\n",
       "\n",
       "       ...,\n",
       "\n",
       "       [[ 9.93898441e-01,  2.14084281e-02, -1.61327660e-02,\n",
       "         -1.06992069e-01]],\n",
       "\n",
       "       [[ 9.93877907e-01,  2.14031832e-02, -1.56499547e-02,\n",
       "         -1.07255246e-01]],\n",
       "\n",
       "       [[ 9.93855254e-01,  2.14061131e-02, -1.52050223e-02,\n",
       "         -1.07528225e-01]]])"
      ]
     },
     "execution_count": 137,
     "metadata": {},
     "output_type": "execute_result"
    },
    {
     "data": {
      "text/plain": [
       "array([[[ 9.99999998e-01,  3.19558878e-05,  4.26078503e-05,\n",
       "         -2.98254952e-05]],\n",
       "\n",
       "       [[ 9.99999993e-01,  6.39117754e-05,  8.52157005e-05,\n",
       "         -5.96509904e-05]],\n",
       "\n",
       "       [[ 9.99999982e-01,  9.58645765e-05,  1.49128837e-04,\n",
       "         -6.81739218e-05]],\n",
       "\n",
       "       ...,\n",
       "\n",
       "       [[ 9.93898441e-01,  2.14084281e-02, -1.61327660e-02,\n",
       "         -1.06992069e-01]],\n",
       "\n",
       "       [[ 9.93877907e-01,  2.14031832e-02, -1.56499547e-02,\n",
       "         -1.07255246e-01]],\n",
       "\n",
       "       [[ 9.93855254e-01,  2.14061131e-02, -1.52050223e-02,\n",
       "         -1.07528225e-01]]])"
      ]
     },
     "execution_count": 137,
     "metadata": {},
     "output_type": "execute_result"
    }
   ],
   "source": [
    "gyroscope_radians = deg2radians(gyroscope_data)\n",
    "n = imu_data.shape[0]\n",
    "\n",
    "imu_gyro(n, gyroscope_radians)"
   ]
  },
  {
   "cell_type": "markdown",
   "metadata": {},
   "source": [
    "# PROBLEM 3"
   ]
  },
  {
   "cell_type": "markdown",
   "metadata": {},
   "source": [
    "## Gravity based tilt correction using the accelerometer"
   ]
  },
  {
   "cell_type": "markdown",
   "metadata": {},
   "source": [
    "Transform acceleration measurements into the global frame\n",
    "$$\\hat{u} = q^{-1}_{k} \\otimes \\tilde{a} \\otimes q_{k}$$\n",
    "$\\hat{u}$ is a direct estimate of the gravity vector, $q^{-1}_k$ will be quaternion conjugate as q is assumed to be a  unit quaternion  \n",
    "To calculate the axis, project $\\hat{u}$ into the XZ plane to obtain $(\\hat{u}_x,0,\\hat{u}_z)$. The tilt axis is orthogonal: $t = (\\hat{u}_z,0,−\\hat{u}_x)$  \n",
    "The tilt error φ is the angle between $\\hat{u}$ and the vector (0, 1, 0).  \n",
    "The output of the complementary filter with gain $\\alpha\\ll1$ is\n",
    "$$q_{k}' = q(t, -\\alpha\\phi) \\otimes q_{k}$$\n",
    "in which t is the tilt axis. The parameter $\\alpha$ should be large enough to correct all drift, but small enough so that the corrections are imperceptible to the user."
   ]
  },
  {
   "cell_type": "code",
   "execution_count": 81,
   "metadata": {},
   "outputs": [],
   "source": [
    "def imu_gyro_acc(n, gyroscope_data, accelerometer_data,\n",
    "                      dt=0.003906,alpha=0.01):\n",
    "    '''\n",
    "        Parameters\n",
    "        ----------\n",
    "        n: scalar\n",
    "          number of data for all readings, ex. imu_data.shape[0]\n",
    "        gyroscope_data: pandas dataframe that must contain x, y, z columns and has n rows\n",
    "          observations obtained from a gyroscope\n",
    "        accelerometer_data: pandas dataframe that must contain x, y, z columns and has n rows\n",
    "          observations obtained from a accelerometer, observations must be normalized\n",
    "        dt: scalar\n",
    "          observations reported rate in seconds, ex. dt = 265Hz = 0.003906s\n",
    "        alpha: scalar\n",
    "          parameter used for tilt correction\n",
    "\n",
    "        Return\n",
    "        ----------\n",
    "        q: a matrix with n rows and 4 columns\n",
    "          orientations estimated for all n readings after applying tilt and yaw drift corrections\n",
    "    '''\n",
    "\n",
    "    q = [np.array([[1.0,0,0,0]])]\n",
    "    for i in range(n):\n",
    "        ### gyroscope estimations\n",
    "        gyro_row = gyroscope_data.loc[i]\n",
    "        w_k = np.array([[gyro_row['x'], gyro_row['y'], gyro_row['z']]])\n",
    "        l = np.sqrt(np.sum(np.square(w_k)))\n",
    "        v = np.divide(w_k, l)\n",
    "        theta = l * dt \n",
    "        q_gyro = axisAngle2quaternion(v, theta)\n",
    "        q_k = quaternions_product(q[i], q_gyro)\n",
    "\n",
    "        ### accelerometer estimations - tilt error correction (define up)\n",
    "        q_conj = quaternions_conjugate(q_k)\n",
    "        acc_row = accelerometer_data.loc[i]\n",
    "        a = np.array([[0, acc_row['x'], acc_row['y'], acc_row['z']]])\n",
    "        u = quaternions_product(q_conj, quaternions_product(a, q_k)) # global frame\n",
    "        t = np.array([[u[0][3], 0, -u[0][1]]]) # tilt axis\n",
    "        phi = math.acos(np.dot(np.array([0, 1, 0]), u[0][1:])) # tilt error angle\n",
    "        q_t = axisAngle2quaternion(t, -alpha*phi) # complementary filter for tilt drift\n",
    "        q_k = quaternions_product(q_t, q_k)   \n",
    "\n",
    "        q += [q_k]\n",
    "    \n",
    "    # return result excluding the identity quaternion used for initial estimations\n",
    "    return np.array(q[1:])"
   ]
  },
  {
   "cell_type": "code",
   "execution_count": 34,
   "metadata": {},
   "outputs": [
    {
     "data": {
      "text/plain": [
       "array([[[ 9.99966758e-01, -8.13982368e-03, -4.23696899e-05,\n",
       "          1.88702445e-04]],\n",
       "\n",
       "       [[ 9.99865962e-01, -1.63521398e-02, -8.42584706e-05,\n",
       "          3.80169443e-04]],\n",
       "\n",
       "       [[ 9.99694238e-01, -2.46958286e-02, -1.47428075e-04,\n",
       "          5.51986098e-04]],\n",
       "\n",
       "       ...,\n",
       "\n",
       "       [[-4.59368194e-01, -5.29016833e-02,  5.39950181e-01,\n",
       "          3.63155368e-01]],\n",
       "\n",
       "       [[-4.60257306e-01, -5.40359547e-02,  5.40081832e-01,\n",
       "          3.61641379e-01]],\n",
       "\n",
       "       [[-4.61161637e-01, -5.51518241e-02,  5.40205010e-01,\n",
       "          3.60111286e-01]]])"
      ]
     },
     "execution_count": 34,
     "metadata": {},
     "output_type": "execute_result"
    },
    {
     "data": {
      "text/plain": [
       "array([[[ 9.99966758e-01, -8.13982368e-03, -4.23696899e-05,\n",
       "          1.88702445e-04]],\n",
       "\n",
       "       [[ 9.99865962e-01, -1.63521398e-02, -8.42584706e-05,\n",
       "          3.80169443e-04]],\n",
       "\n",
       "       [[ 9.99694238e-01, -2.46958286e-02, -1.47428075e-04,\n",
       "          5.51986098e-04]],\n",
       "\n",
       "       ...,\n",
       "\n",
       "       [[-4.59368194e-01, -5.29016833e-02,  5.39950181e-01,\n",
       "          3.63155368e-01]],\n",
       "\n",
       "       [[-4.60257306e-01, -5.40359547e-02,  5.40081832e-01,\n",
       "          3.61641379e-01]],\n",
       "\n",
       "       [[-4.61161637e-01, -5.51518241e-02,  5.40205010e-01,\n",
       "          3.60111286e-01]]])"
      ]
     },
     "execution_count": 34,
     "metadata": {},
     "output_type": "execute_result"
    }
   ],
   "source": [
    "gyroscope_radians = deg2radians(gyroscope_data)\n",
    "accelerometer_radians = deg2radians(accelerometer_data)\n",
    "accelerometer_narmalized = data_normalized(accelerometer_radians)\n",
    "n = imu_data.shape[0]\n",
    "\n",
    "imu_gyro_acc(n, gyroscope_radians, accelerometer_narmalized)"
   ]
  },
  {
   "cell_type": "markdown",
   "metadata": {},
   "source": [
    "# PROBLEM 4"
   ]
  },
  {
   "cell_type": "markdown",
   "metadata": {},
   "source": [
    "## Yaw drift"
   ]
  },
  {
   "cell_type": "markdown",
   "metadata": {},
   "source": [
    "The complementary filter for yaw correction is\n",
    "$$q_{k}' = q((0,1,0), -\\alpha_2(\\theta - \\theta_r)) \\otimes q_{k}$$\n",
    "in which $\\alpha_2$ is a small gain constant, similar to the case of tilt correction."
   ]
  },
  {
   "cell_type": "code",
   "execution_count": 36,
   "metadata": {},
   "outputs": [],
   "source": [
    "def imu_gyro_acc_magn(n, gyroscope_data, accelerometer_data, magnetometer_data,\n",
    "                      dt=0.003906,alpha=0.01, alpha_2=0.01, eps=1e-6):\n",
    "    '''\n",
    "        Parameters\n",
    "        ----------\n",
    "        n: scalar\n",
    "          number of data for all readings, ex. imu_data.shape[0]\n",
    "        gyroscope_data: pandas dataframe that must contain x, y, z columns and has n rows\n",
    "          observations obtained from a gyroscope\n",
    "        accelerometer_data: pandas dataframe that must contain x, y, z columns and has n rows\n",
    "          observations obtained from a accelerometer, observations must be normalized\n",
    "        magnetometer_data: pandas dataframe that must contain x, y, z columns and has n rows\n",
    "          observations obtained from a magnetometer, observations must be normalized\n",
    "        dt: scalar\n",
    "          observations reported rate in seconds, ex. dt = 265Hz = 0.003906s\n",
    "        alpha: scalar\n",
    "          parameter used for tilt correction\n",
    "        alpha_2: scalar \n",
    "          parameter used for yaw drift correction\n",
    "        eps: scalar \n",
    "          epsilon used for detecting yaw drift\n",
    "\n",
    "        Return\n",
    "        ----------\n",
    "        q: a matrix with n rows and 4 columns\n",
    "          orientations estimated for all n readings after applying tilt and yaw drift corrections\n",
    "    '''\n",
    "\n",
    "    q = [np.array([[1.0,0,0,0]])]\n",
    "    for i in range(n):\n",
    "        ### gyroscope estimations\n",
    "        gyro_row = gyroscope_data.loc[i]\n",
    "        w_k = np.array([[gyro_row['x'], gyro_row['y'], gyro_row['z']]])\n",
    "        l = np.sqrt(np.sum(np.square(w_k)))\n",
    "        v = np.divide(w_k, l)\n",
    "        theta = l * dt \n",
    "        q_gyro = axisAngle2quaternion(v, theta)\n",
    "        q_k = quaternions_product(q[i], q_gyro)\n",
    "\n",
    "        ### accelerometer estimations - tilt error correction (define up)\n",
    "        q_conj = quaternions_conjugate(q_k)\n",
    "        acc_row = accelerometer_data.loc[i]\n",
    "        a = np.array([[0, acc_row['x'], acc_row['y'], acc_row['z']]])\n",
    "        u = quaternions_product(q_conj, quaternions_product(a, q_k)) # global frame\n",
    "        t = np.array([[u[0][3], 0, -u[0][1]]]) # tilt axis\n",
    "        phi = math.acos(np.dot(np.array([0, 1, 0]), u[0][1:])) # tilt error angle\n",
    "        q_t = axisAngle2quaternion(t, -alpha*phi) # complementary filter for tilt drift\n",
    "        q_k = quaternions_product(q_t, q_k)   \n",
    "\n",
    "        ### magnetometer estimations - yaw drift correction\n",
    "        q_conj = quaternions_conjugate(q_k)\n",
    "        if i == 0:\n",
    "            m_ref_row = magnetometer_data.loc[i]\n",
    "            m_ref_obv = np.array([[0, m_ref_row['x'], m_ref_row['y'], m_ref_row['z']]]) # intial observed value used as reference\n",
    "            m_ref = quaternions_product(q_conj, quaternions_product(m_ref_obv, q_k))\n",
    "            theta_ref = math.atan2(m_ref[0][1], m_ref[0][3])\n",
    "        magn_row = magnetometer_data.loc[i]\n",
    "        m_obv = np.array([[0, magn_row['x'], magn_row['y'], magn_row['z']]]) # observed magnetometer reading\n",
    "        m = quaternions_product(q_conj, quaternions_product(m_obv, q_k)) # estimate by world frame\n",
    "        theta_m = math.atan2(m[0][1], m[0][3])\n",
    "        # compare m_ref theta to current m theta for yaw drift \n",
    "        # if difference is more than epsilon (tolerable floating point error)\n",
    "        if np.abs(theta_m - theta_ref) > eps:\n",
    "            q_m = axisAngle2quaternion(np.array([[0, 1, 0]]), -alpha_2*(theta_m - theta_ref)) # complementry filter for yaw drift\n",
    "            q_k = quaternions_product(q_m, q_k)\n",
    "\n",
    "        q += [q_k]\n",
    "    \n",
    "    # return result excluding the identity quaternion used for initial estimations\n",
    "    return np.array(q[1:])"
   ]
  },
  {
   "cell_type": "code",
   "execution_count": 51,
   "metadata": {
    "scrolled": false
   },
   "outputs": [
    {
     "data": {
      "text/plain": [
       "array([[[ 9.99966758e-01, -8.13982368e-03, -4.23696899e-05,\n",
       "          1.88702445e-04]],\n",
       "\n",
       "       [[ 9.99865962e-01, -1.63521388e-02, -8.15623811e-05,\n",
       "          3.80213536e-04]],\n",
       "\n",
       "       [[ 9.99694239e-01, -2.46958256e-02, -1.38931832e-04,\n",
       "          5.52106168e-04]],\n",
       "\n",
       "       ...,\n",
       "\n",
       "       [[ 4.60025888e-01, -4.35262771e-01, -3.88822421e-01,\n",
       "          3.31516690e-01]],\n",
       "\n",
       "       [[ 4.58904767e-01, -4.35821244e-01, -3.89956845e-01,\n",
       "          3.30872293e-01]],\n",
       "\n",
       "       [[ 4.57753680e-01, -4.36383067e-01, -3.91097814e-01,\n",
       "          3.30247402e-01]]])"
      ]
     },
     "execution_count": 51,
     "metadata": {},
     "output_type": "execute_result"
    },
    {
     "data": {
      "text/plain": [
       "array([[[ 9.99966758e-01, -8.13982368e-03, -4.23696899e-05,\n",
       "          1.88702445e-04]],\n",
       "\n",
       "       [[ 9.99865962e-01, -1.63521388e-02, -8.15623811e-05,\n",
       "          3.80213536e-04]],\n",
       "\n",
       "       [[ 9.99694239e-01, -2.46958256e-02, -1.38931832e-04,\n",
       "          5.52106168e-04]],\n",
       "\n",
       "       ...,\n",
       "\n",
       "       [[ 4.60025888e-01, -4.35262771e-01, -3.88822421e-01,\n",
       "          3.31516690e-01]],\n",
       "\n",
       "       [[ 4.58904767e-01, -4.35821244e-01, -3.89956845e-01,\n",
       "          3.30872293e-01]],\n",
       "\n",
       "       [[ 4.57753680e-01, -4.36383067e-01, -3.91097814e-01,\n",
       "          3.30247402e-01]]])"
      ]
     },
     "execution_count": 51,
     "metadata": {},
     "output_type": "execute_result"
    }
   ],
   "source": [
    "gyroscope_radians = deg2radians(gyroscope_data)\n",
    "accelerometer_radians = deg2radians(accelerometer_data)\n",
    "magnetometer_radians = deg2radians(magnetometer_data)\n",
    "accelerometer_narmalized = data_normalized(accelerometer_radians)\n",
    "magnetometer_narmalized = data_normalized(magnetometer_data)\n",
    "n = imu_data.shape[0]\n",
    "\n",
    "imu_gyro_acc_magn(n, gyroscope_radians, accelerometer_narmalized, magnetometer_narmalized)"
   ]
  },
  {
   "cell_type": "markdown",
   "metadata": {},
   "source": [
    "# PROBLEM 5"
   ]
  },
  {
   "cell_type": "markdown",
   "metadata": {},
   "source": [
    "## 2D plots of initial data"
   ]
  },
  {
   "cell_type": "code",
   "execution_count": 38,
   "metadata": {},
   "outputs": [
    {
     "data": {
      "text/plain": [
       "<matplotlib.axes._subplots.AxesSubplot at 0x1196cf828>"
      ]
     },
     "execution_count": 38,
     "metadata": {},
     "output_type": "execute_result"
    },
    {
     "data": {
      "text/plain": [
       "<matplotlib.axes._subplots.AxesSubplot at 0x1196cf828>"
      ]
     },
     "execution_count": 38,
     "metadata": {},
     "output_type": "execute_result"
    },
    {
     "data": {
      "image/png": "[encoded data removed]",
      "text/plain": [
       "<Figure size 432x288 with 1 Axes>"
      ]
     },
     "metadata": {
      "needs_background": "light"
     },
     "output_type": "display_data"
    },
    {
     "data": {
      "image/png": "[encoded data removed]",
      "text/plain": [
       "<Figure size 432x288 with 1 Axes>"
      ]
     },
     "metadata": {
      "needs_background": "light"
     },
     "output_type": "display_data"
    }
   ],
   "source": [
    "gyroscope_data[['time', 'x', 'y', 'z']].plot(x='time')"
   ]
  },
  {
   "cell_type": "code",
   "execution_count": 39,
   "metadata": {},
   "outputs": [
    {
     "data": {
      "text/plain": [
       "<matplotlib.axes._subplots.AxesSubplot at 0x1195b1240>"
      ]
     },
     "execution_count": 39,
     "metadata": {},
     "output_type": "execute_result"
    },
    {
     "data": {
      "text/plain": [
       "<matplotlib.axes._subplots.AxesSubplot at 0x1195b1240>"
      ]
     },
     "execution_count": 39,
     "metadata": {},
     "output_type": "execute_result"
    },
    {
     "data": {
      "image/png": "[encoded data removed]",
      "text/plain": [
       "<Figure size 432x288 with 1 Axes>"
      ]
     },
     "metadata": {
      "needs_background": "light"
     },
     "output_type": "display_data"
    },
    {
     "data": {
      "image/png": "[encoded data removed]",
      "text/plain": [
       "<Figure size 432x288 with 1 Axes>"
      ]
     },
     "metadata": {
      "needs_background": "light"
     },
     "output_type": "display_data"
    }
   ],
   "source": [
    "accelerometer_data[['time', 'x', 'y', 'z']].plot(x='time')"
   ]
  },
  {
   "cell_type": "code",
   "execution_count": 40,
   "metadata": {},
   "outputs": [
    {
     "data": {
      "text/plain": [
       "<matplotlib.axes._subplots.AxesSubplot at 0x1193cebe0>"
      ]
     },
     "execution_count": 40,
     "metadata": {},
     "output_type": "execute_result"
    },
    {
     "data": {
      "text/plain": [
       "<matplotlib.axes._subplots.AxesSubplot at 0x1193cebe0>"
      ]
     },
     "execution_count": 40,
     "metadata": {},
     "output_type": "execute_result"
    },
    {
     "data": {
      "image/png": "[encoded data removed]",
      "text/plain": [
       "<Figure size 432x288 with 1 Axes>"
      ]
     },
     "metadata": {
      "needs_background": "light"
     },
     "output_type": "display_data"
    },
    {
     "data": {
      "image/png": "[encoded data removed]",
      "text/plain": [
       "<Figure size 432x288 with 1 Axes>"
      ]
     },
     "metadata": {
      "needs_background": "light"
     },
     "output_type": "display_data"
    }
   ],
   "source": [
    "magnetometer_data[['time', 'x', 'y', 'z']].plot(x='time')"
   ]
  },
  {
   "cell_type": "markdown",
   "metadata": {},
   "source": [
    "## 2D plots for Euler angles for the 3 implemented methods (gyroscope integration, gyroscope + accelerometer, gyroscope + accelerometer + magnetometer)"
   ]
  },
  {
   "cell_type": "code",
   "execution_count": 138,
   "metadata": {},
   "outputs": [],
   "source": [
    "gyroscope_radians = deg2radians(gyroscope_data)\n",
    "accelerometer_radians = deg2radians(accelerometer_data)\n",
    "magnetometer_radians = deg2radians(magnetometer_data)\n",
    "accelerometer_narmalized = data_normalized(accelerometer_radians)\n",
    "magnetometer_narmalized = data_normalized(magnetometer_data)\n",
    "n = imu_data.shape[0]\n",
    "\n",
    "q_imu_gyro = imu_gyro(n, gyroscope_radians)\n",
    "q_imu_gyro_acc = imu_gyro_acc(n, gyroscope_radians, accelerometer_narmalized)\n",
    "q_imu_gyro_acc_magn = imu_gyro_acc_magn(n, gyroscope_radians, accelerometer_narmalized, magnetometer_narmalized)"
   ]
  },
  {
   "cell_type": "code",
   "execution_count": 139,
   "metadata": {},
   "outputs": [],
   "source": [
    "# convert quaternions to euler angles\n",
    "euler_imu_gyro = np.apply_along_axis(quaternions2euler, 2, q_imu_gyro)\n",
    "euler_imu_gyro_acc = np.apply_along_axis(quaternions2euler, 2, q_imu_gyro_acc)\n",
    "euler_imu_gyro_acc_magn = np.apply_along_axis(quaternions2euler, 2, q_imu_gyro_acc_magn)\n",
    "\n",
    "# computed euler angles are in randians so convert them to degrees\n",
    "euler_imu_gyro = np.apply_along_axis(np.rad2deg, 2, euler_imu_gyro)\n",
    "euler_imu_gyro_acc = np.apply_along_axis(np.rad2deg, 2, euler_imu_gyro_acc)\n",
    "euler_imu_gyro_acc_magn = np.apply_along_axis(np.rad2deg, 2, euler_imu_gyro_acc_magn)"
   ]
  },
  {
   "cell_type": "code",
   "execution_count": 140,
   "metadata": {},
   "outputs": [
    {
     "data": {
      "text/plain": [
       "<matplotlib.legend.Legend at 0x11aec62b0>"
      ]
     },
     "execution_count": 140,
     "metadata": {},
     "output_type": "execute_result"
    },
    {
     "data": {
      "text/plain": [
       "<matplotlib.legend.Legend at 0x11aec62b0>"
      ]
     },
     "execution_count": 140,
     "metadata": {},
     "output_type": "execute_result"
    },
    {
     "data": {
      "image/png": "[encoded data removed]",
      "text/plain": [
       "<Figure size 432x288 with 1 Axes>"
      ]
     },
     "metadata": {
      "needs_background": "light"
     },
     "output_type": "display_data"
    },
    {
     "data": {
      "image/png": "[encoded data removed]",
      "text/plain": [
       "<Figure size 432x288 with 1 Axes>"
      ]
     },
     "metadata": {
      "needs_background": "light"
     },
     "output_type": "display_data"
    },
    {
     "data": {
      "image/png": "[encoded data removed]",
      "text/plain": [
       "<Figure size 432x288 with 1 Axes>"
      ]
     },
     "metadata": {
      "needs_background": "light"
     },
     "output_type": "display_data"
    },
    {
     "data": {
      "image/png": "[encoded data removed]",
      "text/plain": [
       "<Figure size 432x288 with 1 Axes>"
      ]
     },
     "metadata": {
      "needs_background": "light"
     },
     "output_type": "display_data"
    },
    {
     "data": {
      "image/png": "[encoded data removed]",
      "text/plain": [
       "<Figure size 432x288 with 1 Axes>"
      ]
     },
     "metadata": {
      "needs_background": "light"
     },
     "output_type": "display_data"
    },
    {
     "data": {
      "image/png": "[encoded data removed]",
      "text/plain": [
       "<Figure size 432x288 with 1 Axes>"
      ]
     },
     "metadata": {
      "needs_background": "light"
     },
     "output_type": "display_data"
    }
   ],
   "source": [
    "plt.clf()\n",
    "\n",
    "time = imu_data['time'].values\n",
    "\n",
    "plt.figure(0)\n",
    "plt.xlabel('time(s)')\n",
    "plt.ylabel('degrees')\n",
    "plt.title('Euler Angle - gyroscope integration')\n",
    "xdata = []\n",
    "ydata = []\n",
    "zdata = []\n",
    "for row in euler_imu_gyro:\n",
    "    xdata += [row[0][0]]\n",
    "    ydata += [row[0][1]]\n",
    "    zdata += [row[0][2]]\n",
    "plt.plot(time, xdata, linestyle='-', color='b', label='x')\n",
    "plt.plot(time, ydata, linestyle='-', color='r', label='y')\n",
    "plt.plot(time, zdata, linestyle='-', color='g', label='z')\n",
    "plt.legend(loc='upper right')\n",
    "\n",
    "plt.figure(1)\n",
    "plt.xlabel('time(s)')\n",
    "plt.ylabel('degrees')\n",
    "plt.title('Euler Angle - gyroscope + accelerometer')\n",
    "xdata = []\n",
    "ydata = []\n",
    "zdata = []\n",
    "for row in euler_imu_gyro_acc:\n",
    "    xdata += [row[0][0]]\n",
    "    ydata += [row[0][1]]\n",
    "    zdata += [row[0][2]]\n",
    "plt.plot(time, xdata, linestyle='-', color='b', label='x')\n",
    "plt.plot(time, ydata, linestyle='-', color='r', label='y')\n",
    "plt.plot(time, zdata, linestyle='-', color='g', label='z')\n",
    "plt.legend(loc='upper right')\n",
    "\n",
    "plt.figure(2)\n",
    "plt.xlabel('time(s)')\n",
    "plt.ylabel('degrees')\n",
    "plt.title('Euler Angle - gyroscope + accelerometer + magnetometer')\n",
    "xdata = []\n",
    "ydata = []\n",
    "zdata = []\n",
    "for row in euler_imu_gyro_acc:\n",
    "    xdata += [row[0][0]]\n",
    "    ydata += [row[0][1]]\n",
    "    zdata += [row[0][2]]\n",
    "plt.plot(time, xdata, linestyle='-', color='b', label='x')\n",
    "plt.plot(time, ydata, linestyle='-', color='r', label='y')\n",
    "plt.plot(time, zdata, linestyle='-', color='g', label='z')\n",
    "plt.legend(loc='upper right')"
   ]
  },
  {
   "cell_type": "code",
   "execution_count": null,
   "metadata": {},
   "outputs": [],
   "source": []
  }
 ],
 "metadata": {
  "kernelspec": {
   "display_name": "Python 3",
   "language": "python",
   "name": "python3"
  },
  "language_info": {
   "codemirror_mode": {
    "name": "ipython",
    "version": 3
   },
   "file_extension": ".py",
   "mimetype": "text/x-python",
   "name": "python",
   "nbconvert_exporter": "python",
   "pygments_lexer": "ipython3",
   "version": "3.6.8"
  }
 },
 "nbformat": 4,
 "nbformat_minor": 1
}
